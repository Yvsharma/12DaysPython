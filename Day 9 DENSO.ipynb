{
 "cells": [
  {
   "cell_type": "code",
   "execution_count": 1,
   "id": "d4a7f991",
   "metadata": {},
   "outputs": [
    {
     "name": "stdout",
     "output_type": "stream",
     "text": [
      "5.0\n"
     ]
    }
   ],
   "source": [
    "a=10\n",
    "b=2\n",
    "c=a/b\n",
    "print(c)"
   ]
  },
  {
   "cell_type": "code",
   "execution_count": 2,
   "id": "1af8d97f",
   "metadata": {},
   "outputs": [
    {
     "ename": "ZeroDivisionError",
     "evalue": "division by zero",
     "output_type": "error",
     "traceback": [
      "\u001b[1;31m---------------------------------------------------------------------------\u001b[0m",
      "\u001b[1;31mZeroDivisionError\u001b[0m                         Traceback (most recent call last)",
      "Input \u001b[1;32mIn [2]\u001b[0m, in \u001b[0;36m<cell line: 3>\u001b[1;34m()\u001b[0m\n\u001b[0;32m      1\u001b[0m a\u001b[38;5;241m=\u001b[39m\u001b[38;5;241m10\u001b[39m\n\u001b[0;32m      2\u001b[0m b\u001b[38;5;241m=\u001b[39m\u001b[38;5;241m0\u001b[39m\n\u001b[1;32m----> 3\u001b[0m c\u001b[38;5;241m=\u001b[39m\u001b[43ma\u001b[49m\u001b[38;5;241;43m/\u001b[39;49m\u001b[43mb\u001b[49m\n\u001b[0;32m      4\u001b[0m \u001b[38;5;28mprint\u001b[39m(c)\n",
      "\u001b[1;31mZeroDivisionError\u001b[0m: division by zero"
     ]
    }
   ],
   "source": [
    "a=10\n",
    "b=0\n",
    "c=a/b\n",
    "print(c)"
   ]
  },
  {
   "cell_type": "code",
   "execution_count": 3,
   "id": "1efd0712",
   "metadata": {},
   "outputs": [
    {
     "name": "stdout",
     "output_type": "stream",
     "text": [
      "error\n"
     ]
    }
   ],
   "source": [
    "try :\n",
    "    a=10\n",
    "    b=0\n",
    "    c=a/b\n",
    "    print(c)\n",
    "    \n",
    "except:\n",
    "    print('error')"
   ]
  },
  {
   "cell_type": "code",
   "execution_count": 5,
   "id": "068b237d",
   "metadata": {},
   "outputs": [
    {
     "name": "stdout",
     "output_type": "stream",
     "text": [
      "error found :  division by zero\n"
     ]
    }
   ],
   "source": [
    "try :\n",
    "    a=10\n",
    "    b=0\n",
    "    c=a/b\n",
    "    print(c)\n",
    "    \n",
    "except Exception as e:\n",
    "    print('error found : ',e)"
   ]
  },
  {
   "cell_type": "code",
   "execution_count": 8,
   "id": "adf6b55f",
   "metadata": {},
   "outputs": [
    {
     "name": "stdout",
     "output_type": "stream",
     "text": [
      "hello\n",
      "all ok\n"
     ]
    }
   ],
   "source": [
    "# Use of else with except\n",
    "\n",
    "try:\n",
    "    print('hello')\n",
    "    \n",
    "except:# when try fails to run only except part will run\n",
    "    print('something went wrong')\n",
    "    \n",
    "else: # when try run successfully \n",
    "    print('all ok')"
   ]
  },
  {
   "cell_type": "code",
   "execution_count": 9,
   "id": "3f9e29d3",
   "metadata": {},
   "outputs": [
    {
     "name": "stdout",
     "output_type": "stream",
     "text": [
      "something went wrong\n"
     ]
    }
   ],
   "source": [
    "try:\n",
    "    print(x)\n",
    "    \n",
    "except:# when try fails to run only except part will run\n",
    "    print('something went wrong')\n",
    "    \n",
    "else: # when try runs then else works\n",
    "    ('all ok')"
   ]
  },
  {
   "cell_type": "code",
   "execution_count": 10,
   "id": "61e823b5",
   "metadata": {},
   "outputs": [
    {
     "name": "stdout",
     "output_type": "stream",
     "text": [
      "hello\n",
      "all ok\n"
     ]
    }
   ],
   "source": [
    "# finally block\n",
    "\n",
    "# the block which run compulsory if error occurs or not.\n",
    "\n",
    "try:\n",
    "    print('hello')\n",
    "    \n",
    "except:# when try fails to run only except part will run\n",
    "    print('something went wrong')\n",
    "    \n",
    "finally: # it always run \n",
    "    print('all ok')"
   ]
  },
  {
   "cell_type": "code",
   "execution_count": 11,
   "id": "ea49754b",
   "metadata": {},
   "outputs": [
    {
     "name": "stdout",
     "output_type": "stream",
     "text": [
      "something went wrong\n",
      "all ok\n"
     ]
    }
   ],
   "source": [
    "\n",
    "try:\n",
    "    print(x)\n",
    "    \n",
    "except:# when try fails to run only except part will run\n",
    "    print('something went wrong')\n",
    "    \n",
    "finally: # it always run \n",
    "    print('all ok')\n",
    "    \n"
   ]
  },
  {
   "cell_type": "code",
   "execution_count": 12,
   "id": "e71958cc",
   "metadata": {},
   "outputs": [
    {
     "name": "stdout",
     "output_type": "stream",
     "text": [
      "something went wrong\n",
      "all ok\n",
      "thankyou\n"
     ]
    }
   ],
   "source": [
    "try:\n",
    "    print(x)\n",
    "    \n",
    "except:# when try fails to run only except part will run\n",
    "    print('something went wrong')\n",
    "    \n",
    "finally: # it always run \n",
    "    print('all ok')\n",
    "print('thankyou')"
   ]
  },
  {
   "cell_type": "code",
   "execution_count": 13,
   "id": "77433f64",
   "metadata": {},
   "outputs": [
    {
     "name": "stdout",
     "output_type": "stream",
     "text": [
      "hello\n",
      "all ok\n",
      "thankyou\n"
     ]
    }
   ],
   "source": [
    "try:\n",
    "    print('hello')\n",
    "    \n",
    "except:# when try fails to run only except part will run\n",
    "    print('something went wrong')\n",
    "    \n",
    "finally: # it always run \n",
    "    print('all ok')\n",
    "    \n",
    "print('thankyou')"
   ]
  },
  {
   "cell_type": "code",
   "execution_count": 14,
   "id": "79bf44dc",
   "metadata": {},
   "outputs": [
    {
     "name": "stdout",
     "output_type": "stream",
     "text": [
      "thankyou\n"
     ]
    }
   ],
   "source": [
    "print('thankyou')"
   ]
  },
  {
   "cell_type": "code",
   "execution_count": 15,
   "id": "424d1057",
   "metadata": {},
   "outputs": [
    {
     "ename": "myexception",
     "evalue": "something went wrong",
     "output_type": "error",
     "traceback": [
      "\u001b[1;31m---------------------------------------------------------------------------\u001b[0m",
      "\u001b[1;31mmyexception\u001b[0m                               Traceback (most recent call last)",
      "Input \u001b[1;32mIn [15]\u001b[0m, in \u001b[0;36m<cell line: 7>\u001b[1;34m()\u001b[0m\n\u001b[0;32m      6\u001b[0m c\u001b[38;5;241m=\u001b[39m\u001b[38;5;241m25\u001b[39m\n\u001b[0;32m      7\u001b[0m \u001b[38;5;28;01mif\u001b[39;00m c\u001b[38;5;241m>\u001b[39m\u001b[38;5;241m5\u001b[39m:\n\u001b[1;32m----> 8\u001b[0m     \u001b[38;5;28;01mraise\u001b[39;00m myexception(\u001b[38;5;124m'\u001b[39m\u001b[38;5;124msomething went wrong\u001b[39m\u001b[38;5;124m'\u001b[39m)\n",
      "\u001b[1;31mmyexception\u001b[0m: something went wrong"
     ]
    }
   ],
   "source": [
    "# user defined exception\n",
    "\n",
    "class myexception(Exception):\n",
    "    pass\n",
    "\n",
    "c=25\n",
    "if c>5:\n",
    "    raise myexception('something went wrong')"
   ]
  },
  {
   "cell_type": "code",
   "execution_count": 21,
   "id": "ec30e751",
   "metadata": {},
   "outputs": [
    {
     "name": "stdout",
     "output_type": "stream",
     "text": [
      "enter a no. : 6\n"
     ]
    },
    {
     "ename": "myexception",
     "evalue": "something went wrong",
     "output_type": "error",
     "traceback": [
      "\u001b[1;31m---------------------------------------------------------------------------\u001b[0m",
      "\u001b[1;31mmyexception\u001b[0m                               Traceback (most recent call last)",
      "Input \u001b[1;32mIn [21]\u001b[0m, in \u001b[0;36m<cell line: 2>\u001b[1;34m()\u001b[0m\n\u001b[0;32m      1\u001b[0m c\u001b[38;5;241m=\u001b[39m\u001b[38;5;28mint\u001b[39m(\u001b[38;5;28minput\u001b[39m(\u001b[38;5;124m'\u001b[39m\u001b[38;5;124menter a no. : \u001b[39m\u001b[38;5;124m'\u001b[39m))\n\u001b[0;32m      2\u001b[0m \u001b[38;5;28;01mif\u001b[39;00m c\u001b[38;5;241m>\u001b[39m\u001b[38;5;241m5\u001b[39m:\n\u001b[1;32m----> 3\u001b[0m     \u001b[38;5;28;01mraise\u001b[39;00m myexception(\u001b[38;5;124m'\u001b[39m\u001b[38;5;124msomething went wrong\u001b[39m\u001b[38;5;124m'\u001b[39m)\n\u001b[0;32m      5\u001b[0m \u001b[38;5;28;01melse\u001b[39;00m:\n\u001b[0;32m      6\u001b[0m     \u001b[38;5;28mprint\u001b[39m(c\u001b[38;5;241m*\u001b[39m\u001b[38;5;241m5\u001b[39m)\n",
      "\u001b[1;31mmyexception\u001b[0m: something went wrong"
     ]
    }
   ],
   "source": [
    "c=int(input('enter a no. : '))\n",
    "if c>5:\n",
    "    raise myexception('something went wrong')\n",
    "    \n",
    "else:\n",
    "    print(c*5)"
   ]
  },
  {
   "cell_type": "code",
   "execution_count": 23,
   "id": "7389a356",
   "metadata": {},
   "outputs": [
    {
     "name": "stdout",
     "output_type": "stream",
     "text": [
      "enter your nameyash\n",
      "you entered a str\n"
     ]
    }
   ],
   "source": [
    "try :\n",
    "    a=int(input('enter your name'))\n",
    "    b=int(input('enter  your name'))\n",
    "    print('you entered a int')\n",
    "    \n",
    "except:\n",
    "    print('you entered a str')"
   ]
  },
  {
   "cell_type": "code",
   "execution_count": 25,
   "id": "c8fe955e",
   "metadata": {},
   "outputs": [
    {
     "name": "stdout",
     "output_type": "stream",
     "text": [
      "Enter a string: y\n",
      "input no.\n",
      "Enter a string: 2\n",
      "The result of multiplying by 5 is: 10\n"
     ]
    }
   ],
   "source": [
    "while True:\n",
    "    try:\n",
    "        s = int(input('Enter a string: '))\n",
    "        result = s*5\n",
    "        print('The result of multiplying by 5 is:', result)\n",
    "        break;\n",
    "    except:\n",
    "        print('input no.')"
   ]
  },
  {
   "cell_type": "markdown",
   "id": "a0a31c04",
   "metadata": {},
   "source": [
    "1) Write a program to input two numbers from the user and\n",
    "check it’s an integer or not using Try and Except.\n",
    "\n",
    "2) Write a program to input a string from the user evaluate\n",
    "using Try and Except.\n",
    "\n",
    "3) Write a program to input two number from the user and\n",
    "check its an integer or not using Try and Except, if number\n",
    "are integer then the print sum of that number using else.\n",
    "block.\n",
    "\n",
    "4) Write a program to input two number from the user and handle\n",
    "your exception using else."
   ]
  },
  {
   "cell_type": "markdown",
   "id": "7f68698f",
   "metadata": {},
   "source": [
    "# OOP's part 2\n",
    "\n",
    "# multi-level inheritance"
   ]
  },
  {
   "cell_type": "markdown",
   "id": "e85fbbb8",
   "metadata": {},
   "source": [
    "parnt --> child ---> grand child"
   ]
  },
  {
   "cell_type": "code",
   "execution_count": 29,
   "id": "980623e4",
   "metadata": {},
   "outputs": [],
   "source": [
    "class parent:\n",
    "    def assign_name(self,name):\n",
    "        self.name = name\n",
    "        \n",
    "    def show_name(self):\n",
    "        return self.name\n",
    "        \n",
    "    "
   ]
  },
  {
   "cell_type": "code",
   "execution_count": 30,
   "id": "d99301d7",
   "metadata": {},
   "outputs": [],
   "source": [
    "class child(parent):\n",
    "    def assign_age(self,age):\n",
    "        self.age = age\n",
    "        \n",
    "    def show_age(self):\n",
    "        return self.age"
   ]
  },
  {
   "cell_type": "code",
   "execution_count": 31,
   "id": "92ffc15e",
   "metadata": {},
   "outputs": [],
   "source": [
    "class Grand_child(child):\n",
    "    def assign_gender(self,gender):\n",
    "        self.gender = gender\n",
    "        \n",
    "    def show_gender(self):\n",
    "        return self.gender"
   ]
  },
  {
   "cell_type": "code",
   "execution_count": 32,
   "id": "1e32a164",
   "metadata": {},
   "outputs": [],
   "source": [
    "# creating object\n",
    "\n",
    "g1 = Grand_child()"
   ]
  },
  {
   "cell_type": "code",
   "execution_count": 33,
   "id": "69a72675",
   "metadata": {},
   "outputs": [],
   "source": [
    "g1.assign_name('Ramu')\n",
    "g1.assign_age(16)\n",
    "g1.assign_gender('male')"
   ]
  },
  {
   "cell_type": "code",
   "execution_count": 34,
   "id": "8aa92635",
   "metadata": {},
   "outputs": [
    {
     "data": {
      "text/plain": [
       "'Ramu'"
      ]
     },
     "execution_count": 34,
     "metadata": {},
     "output_type": "execute_result"
    }
   ],
   "source": [
    "# invoking \n",
    "\n",
    "g1.show_name() # parent class\n"
   ]
  },
  {
   "cell_type": "code",
   "execution_count": 35,
   "id": "ae461a87",
   "metadata": {},
   "outputs": [
    {
     "data": {
      "text/plain": [
       "16"
      ]
     },
     "execution_count": 35,
     "metadata": {},
     "output_type": "execute_result"
    }
   ],
   "source": [
    "g1.show_age() # child class\n"
   ]
  },
  {
   "cell_type": "code",
   "execution_count": 36,
   "id": "12af153b",
   "metadata": {},
   "outputs": [
    {
     "data": {
      "text/plain": [
       "'male'"
      ]
     },
     "execution_count": 36,
     "metadata": {},
     "output_type": "execute_result"
    }
   ],
   "source": [
    "g1.show_gender() # grand child class"
   ]
  },
  {
   "cell_type": "markdown",
   "id": "b476e709",
   "metadata": {},
   "source": [
    "# hierarchical method\n",
    "\n",
    "parent --> child 1 & child 2 "
   ]
  },
  {
   "cell_type": "code",
   "execution_count": 46,
   "id": "19bb58a7",
   "metadata": {},
   "outputs": [],
   "source": [
    "class a1: # parent class\n",
    "    def myfunction(self):\n",
    "        print('class a1 function called')"
   ]
  },
  {
   "cell_type": "code",
   "execution_count": 47,
   "id": "d8824796",
   "metadata": {},
   "outputs": [],
   "source": [
    "class b1(a1): # child1 class\n",
    "    def myfunction2(self):\n",
    "        print('class b1 function called')\n",
    "        "
   ]
  },
  {
   "cell_type": "code",
   "execution_count": 48,
   "id": "e70d1044",
   "metadata": {},
   "outputs": [],
   "source": [
    "class b2(a1): #child2 class\n",
    "    def myfunction3(self):\n",
    "        print('class b2 function called')"
   ]
  },
  {
   "cell_type": "code",
   "execution_count": 49,
   "id": "91bb7e8c",
   "metadata": {},
   "outputs": [],
   "source": [
    "# creating object\n",
    "\n",
    "B1 = b1()\n",
    "B2 = b2()"
   ]
  },
  {
   "cell_type": "code",
   "execution_count": 52,
   "id": "4510a0ec",
   "metadata": {},
   "outputs": [
    {
     "name": "stdout",
     "output_type": "stream",
     "text": [
      "class a1 function called\n",
      "class b1 function called\n"
     ]
    }
   ],
   "source": [
    "B1.myfunction()\n",
    "B1.myfunction2()"
   ]
  },
  {
   "cell_type": "code",
   "execution_count": 53,
   "id": "60f99499",
   "metadata": {},
   "outputs": [
    {
     "name": "stdout",
     "output_type": "stream",
     "text": [
      "class a1 function called\n",
      "class b2 function called\n"
     ]
    }
   ],
   "source": [
    "B2.myfunction()\n",
    "B2.myfunction3()"
   ]
  },
  {
   "cell_type": "markdown",
   "id": "cc53dd86",
   "metadata": {},
   "source": [
    "# Hybrid inheritance\n",
    "\n",
    "parent --> child 1 & child 2 --> grand child"
   ]
  },
  {
   "cell_type": "code",
   "execution_count": 55,
   "id": "5a917f1d",
   "metadata": {},
   "outputs": [],
   "source": [
    "class A1: # parent class\n",
    "    def myfunction(self):\n",
    "        print('class A1 function called')\n",
    "        \n",
    "class B1(A1): # child1 class\n",
    "    def myfunction2(self):\n",
    "        print('class b1 function called')\n",
    "        \n",
    "class B2(A1): #child2 class\n",
    "    def myfunction3(self):\n",
    "        print('class b2 function called')"
   ]
  },
  {
   "cell_type": "code",
   "execution_count": 57,
   "id": "24d7b8d3",
   "metadata": {},
   "outputs": [],
   "source": [
    "class C1(B1,B2): # grand child class\n",
    "    def myfunction4(self):\n",
    "        print('class c1 function called')"
   ]
  },
  {
   "cell_type": "code",
   "execution_count": 58,
   "id": "90f80ee9",
   "metadata": {},
   "outputs": [],
   "source": [
    "# creating object\n",
    "\n",
    "c=C1()"
   ]
  },
  {
   "cell_type": "code",
   "execution_count": 60,
   "id": "0444523c",
   "metadata": {},
   "outputs": [
    {
     "name": "stdout",
     "output_type": "stream",
     "text": [
      "class A1 function called\n",
      "class b1 function called\n",
      "class b2 function called\n",
      "class c1 function called\n"
     ]
    }
   ],
   "source": [
    "c.myfunction()\n",
    "c.myfunction2()\n",
    "c.myfunction3()\n",
    "c.myfunction4()"
   ]
  },
  {
   "cell_type": "markdown",
   "id": "6f1abf58",
   "metadata": {},
   "source": [
    "# Polymorphism"
   ]
  },
  {
   "cell_type": "markdown",
   "id": "4231370f",
   "metadata": {},
   "source": [
    "It means having many form of some name.\n",
    "\n",
    "In programming poly. means function having same name but different signature."
   ]
  },
  {
   "cell_type": "markdown",
   "id": "c55450a7",
   "metadata": {},
   "source": [
    "Types:- A) compile time poly:\n",
    "            1) Method overloading\n",
    "            \n",
    "        B) Runtime poly.\n",
    "            1) Method overriding"
   ]
  },
  {
   "cell_type": "markdown",
   "id": "83ac7407",
   "metadata": {},
   "source": [
    "# method overloading\n",
    "\n",
    "it is the compile time poly, which means having same name method in same class, but different argument."
   ]
  },
  {
   "cell_type": "code",
   "execution_count": 62,
   "id": "3d8137c4",
   "metadata": {},
   "outputs": [],
   "source": [
    "class MO:\n",
    "    def myfunction(self): # no argument\n",
    "        print('function with no arguments called')\n",
    "        \n",
    "    def myfunction(self,a): # one argument\n",
    "        print('function with one arguments called')\n",
    "        \n",
    "    def myfunction(self,a,b): # two argument\n",
    "        print('function with two arguments called')\n",
    "        \n",
    "        "
   ]
  },
  {
   "cell_type": "code",
   "execution_count": 63,
   "id": "79d0ea9c",
   "metadata": {},
   "outputs": [
    {
     "name": "stdout",
     "output_type": "stream",
     "text": [
      "3\n"
     ]
    }
   ],
   "source": [
    "a=10\n",
    "a=5\n",
    "a=3\n",
    "print(a)"
   ]
  },
  {
   "cell_type": "code",
   "execution_count": 64,
   "id": "3fdd2afa",
   "metadata": {},
   "outputs": [],
   "source": [
    "# create object\n",
    "\n",
    "m = MO()"
   ]
  },
  {
   "cell_type": "code",
   "execution_count": 65,
   "id": "c29d5fcd",
   "metadata": {},
   "outputs": [
    {
     "ename": "TypeError",
     "evalue": "myfunction() missing 2 required positional arguments: 'a' and 'b'",
     "output_type": "error",
     "traceback": [
      "\u001b[1;31m---------------------------------------------------------------------------\u001b[0m",
      "\u001b[1;31mTypeError\u001b[0m                                 Traceback (most recent call last)",
      "Input \u001b[1;32mIn [65]\u001b[0m, in \u001b[0;36m<cell line: 1>\u001b[1;34m()\u001b[0m\n\u001b[1;32m----> 1\u001b[0m \u001b[43mm\u001b[49m\u001b[38;5;241;43m.\u001b[39;49m\u001b[43mmyfunction\u001b[49m\u001b[43m(\u001b[49m\u001b[43m)\u001b[49m\n",
      "\u001b[1;31mTypeError\u001b[0m: myfunction() missing 2 required positional arguments: 'a' and 'b'"
     ]
    }
   ],
   "source": [
    "m.myfunction()"
   ]
  },
  {
   "cell_type": "code",
   "execution_count": 66,
   "id": "550fd91b",
   "metadata": {},
   "outputs": [
    {
     "ename": "TypeError",
     "evalue": "myfunction() missing 1 required positional argument: 'b'",
     "output_type": "error",
     "traceback": [
      "\u001b[1;31m---------------------------------------------------------------------------\u001b[0m",
      "\u001b[1;31mTypeError\u001b[0m                                 Traceback (most recent call last)",
      "Input \u001b[1;32mIn [66]\u001b[0m, in \u001b[0;36m<cell line: 1>\u001b[1;34m()\u001b[0m\n\u001b[1;32m----> 1\u001b[0m \u001b[43mm\u001b[49m\u001b[38;5;241;43m.\u001b[39;49m\u001b[43mmyfunction\u001b[49m\u001b[43m(\u001b[49m\u001b[38;5;241;43m2\u001b[39;49m\u001b[43m)\u001b[49m\n",
      "\u001b[1;31mTypeError\u001b[0m: myfunction() missing 1 required positional argument: 'b'"
     ]
    }
   ],
   "source": [
    "m.myfunction(2)"
   ]
  },
  {
   "cell_type": "code",
   "execution_count": 67,
   "id": "088cba82",
   "metadata": {},
   "outputs": [
    {
     "name": "stdout",
     "output_type": "stream",
     "text": [
      "function with two arguments called\n"
     ]
    }
   ],
   "source": [
    "m.myfunction(2,5)"
   ]
  },
  {
   "cell_type": "markdown",
   "id": "1fd494d6",
   "metadata": {},
   "source": [
    "Note :- Method overloading is not supported in python because python is a interpreated language."
   ]
  },
  {
   "cell_type": "markdown",
   "id": "d0775e1b",
   "metadata": {},
   "source": [
    "# Method overriding\n",
    "\n",
    "it is a runtime poly, which means having same name method but into different class and have same arguments are also same"
   ]
  },
  {
   "cell_type": "code",
   "execution_count": 72,
   "id": "95532898",
   "metadata": {},
   "outputs": [],
   "source": [
    "# Multilevel inheritance is used \n",
    "\n",
    "class MO1:\n",
    "    def myfunction(self,a): \n",
    "        print('function with no arguments called')\n",
    "class MO2(MO1):        \n",
    "    def myfunction(self,a): \n",
    "        print('function with one arguments called')\n",
    "class MO3(MO2):        \n",
    "    def myfunction(self,a): \n",
    "        print('function with same arguments called')"
   ]
  },
  {
   "cell_type": "code",
   "execution_count": 73,
   "id": "673d5215",
   "metadata": {},
   "outputs": [],
   "source": [
    "# create object\n",
    "\n",
    "m = MO3()"
   ]
  },
  {
   "cell_type": "code",
   "execution_count": 74,
   "id": "dd1d5c96",
   "metadata": {},
   "outputs": [
    {
     "name": "stdout",
     "output_type": "stream",
     "text": [
      "function with same arguments called\n"
     ]
    }
   ],
   "source": [
    "m.myfunction(10)"
   ]
  },
  {
   "cell_type": "code",
   "execution_count": 75,
   "id": "35038ad3",
   "metadata": {},
   "outputs": [],
   "source": [
    "# to access all the function we need to use super method in grand child class."
   ]
  },
  {
   "cell_type": "code",
   "execution_count": 76,
   "id": "b1a423cd",
   "metadata": {},
   "outputs": [],
   "source": [
    "class MO1: #parent class\n",
    "    def myfunction(self,a): \n",
    "        print('function with no arguments called')\n",
    "class MO2(MO1):       #child class \n",
    "    def myfunction(self,a): \n",
    "        print('function with one arguments called')\n",
    "class MO3(MO2):   # grand child class     \n",
    "    def myfunction(self,a): \n",
    "        print('function with same arguments called')\n",
    "        super().myfunction(10) # child class connected"
   ]
  },
  {
   "cell_type": "code",
   "execution_count": 77,
   "id": "38326fb9",
   "metadata": {},
   "outputs": [
    {
     "name": "stdout",
     "output_type": "stream",
     "text": [
      "function with same arguments called\n"
     ]
    }
   ],
   "source": [
    "m.myfunction(10)"
   ]
  },
  {
   "cell_type": "code",
   "execution_count": 78,
   "id": "26d11c32",
   "metadata": {},
   "outputs": [],
   "source": [
    "class MO1: #parent class\n",
    "    def myfunction(self,a): \n",
    "        print('function with no arguments called')\n",
    "class MO2(MO1):       #child class \n",
    "    def myfunction(self,a): \n",
    "        print('function with one arguments called')\n",
    "        super().myfunction(10) # parent class connected\n",
    "class MO3(MO2):   # grand child class     \n",
    "    def myfunction(self,a): \n",
    "        print('function with same arguments called')\n",
    "        super().myfunction(10) # child class connected"
   ]
  },
  {
   "cell_type": "code",
   "execution_count": 79,
   "id": "bc867a7e",
   "metadata": {},
   "outputs": [],
   "source": [
    "# create object\n",
    "\n",
    "m1 = MO3()"
   ]
  },
  {
   "cell_type": "code",
   "execution_count": 80,
   "id": "b9283206",
   "metadata": {},
   "outputs": [
    {
     "name": "stdout",
     "output_type": "stream",
     "text": [
      "function with same arguments called\n",
      "function with one arguments called\n",
      "function with no arguments called\n"
     ]
    }
   ],
   "source": [
    "m1.myfunction(10)"
   ]
  },
  {
   "cell_type": "code",
   "execution_count": 93,
   "id": "bfd7d4e7",
   "metadata": {},
   "outputs": [],
   "source": [
    "class MO1: #parent class\n",
    "    def myfunction(self,a): \n",
    "        print('function with no arguments called')\n",
    "class MO2(MO1):       #child class \n",
    "    def myfunction(self,a): \n",
    "        print('function with one arguments called')\n",
    "        super().myfunction(1) # parent class connected\n",
    "class MO3(MO2):   # grand child class     \n",
    "    def myfunction(self,a): \n",
    "        print('function with same arguments called')\n",
    "        super().myfunction(10) # child class connected"
   ]
  },
  {
   "cell_type": "code",
   "execution_count": 94,
   "id": "e6e62bb9",
   "metadata": {},
   "outputs": [
    {
     "name": "stdout",
     "output_type": "stream",
     "text": [
      "function with same arguments called 8\n",
      "function with one arguments called 15\n",
      "function with no arguments called\n"
     ]
    }
   ],
   "source": [
    "m3=MO3()\n",
    "m3.myfunction(6)"
   ]
  },
  {
   "cell_type": "code",
   "execution_count": 97,
   "id": "50fa8857",
   "metadata": {},
   "outputs": [],
   "source": [
    "class MO1: #parent class\n",
    "    def myfunction(self,a): \n",
    "        print('function with no arguments called',a)\n",
    "class MO2(MO1):       #child class \n",
    "    def myfunction(self,a): \n",
    "        print('function with one arguments called',a*5)\n",
    "        super().myfunction(1) # parent class connected\n",
    "class MO3(MO2):   # grand child class     \n",
    "    def myfunction(self,a): \n",
    "        print('function with same arguments called',a+2)\n",
    "        super().myfunction(2) # child class connected"
   ]
  },
  {
   "cell_type": "code",
   "execution_count": 98,
   "id": "581d14d5",
   "metadata": {},
   "outputs": [
    {
     "name": "stdout",
     "output_type": "stream",
     "text": [
      "function with same arguments called 7\n",
      "function with one arguments called 10\n",
      "function with no arguments called 1\n"
     ]
    }
   ],
   "source": [
    "m4=MO3()\n",
    "m4.myfunction(5)"
   ]
  },
  {
   "cell_type": "markdown",
   "id": "b3b6731e",
   "metadata": {},
   "source": [
    "# 'function with no arguments called',1\n",
    "# 'function with one arguments called',10\n",
    "# 'function with same arguments called',7"
   ]
  },
  {
   "cell_type": "markdown",
   "id": "ceaf105c",
   "metadata": {},
   "source": [
    "# Abstraction"
   ]
  },
  {
   "cell_type": "markdown",
   "id": "194abcf2",
   "metadata": {},
   "source": [
    "a class that consist of one or more abstract method is called abstract class.\n",
    "abstract method does not contain their implimentation(use of pass)"
   ]
  },
  {
   "cell_type": "markdown",
   "id": "629a09c7",
   "metadata": {},
   "source": [
    "abstract class can be inherited by yhe sub class and abstract method get's it's defination in the sub class"
   ]
  },
  {
   "cell_type": "markdown",
   "id": "8fabdc80",
   "metadata": {},
   "source": [
    "# example\n",
    "RBI (interest)---> bank1,bank2 etc"
   ]
  },
  {
   "cell_type": "markdown",
   "id": "81c2708b",
   "metadata": {},
   "source": [
    "parent class (RBI) = abstract class\n",
    "\n",
    "which does not contain any body"
   ]
  },
  {
   "cell_type": "markdown",
   "id": "d2fe7e1e",
   "metadata": {},
   "source": [
    "syntax:-\n",
    "\n",
    "    class abstract :\n",
    "    \n",
    "        def abstractmethod(self):\n",
    "        \n",
    "            pass"
   ]
  },
  {
   "cell_type": "code",
   "execution_count": 99,
   "id": "7262ccf7",
   "metadata": {},
   "outputs": [],
   "source": [
    "class RBI: # parent class\n",
    "    def interest(self):\n",
    "        pass\n",
    "    \n",
    "class SBI(RBI): # child 1\n",
    "    def interest(self):\n",
    "        print('interest rate in SBI is 5%')\n",
    "        \n",
    "class HDFC(RBI):# child 2\n",
    "    def interest(self):\n",
    "        print('interest rate in HDFC is 7%')"
   ]
  },
  {
   "cell_type": "code",
   "execution_count": 100,
   "id": "5e0f4c1f",
   "metadata": {},
   "outputs": [],
   "source": [
    "# object creation\n",
    "\n",
    "s = SBI()\n",
    "h = HDFC()"
   ]
  },
  {
   "cell_type": "code",
   "execution_count": 101,
   "id": "b70c52f9",
   "metadata": {},
   "outputs": [
    {
     "name": "stdout",
     "output_type": "stream",
     "text": [
      "interest rate in SBI is 5%\n"
     ]
    }
   ],
   "source": [
    "s.interest()"
   ]
  },
  {
   "cell_type": "code",
   "execution_count": 103,
   "id": "d4b7bb2c",
   "metadata": {},
   "outputs": [
    {
     "name": "stdout",
     "output_type": "stream",
     "text": [
      "interest rate in HDFC is 7%\n"
     ]
    }
   ],
   "source": [
    "h.interest()"
   ]
  },
  {
   "cell_type": "markdown",
   "id": "8d6cd1b3",
   "metadata": {},
   "source": [
    "1) program\n",
    "2) fuction\n",
    "3) class\n",
    "4) inheritance"
   ]
  },
  {
   "cell_type": "markdown",
   "id": "1bc7b933",
   "metadata": {},
   "source": [
    "# Encapsulation"
   ]
  },
  {
   "cell_type": "markdown",
   "id": "a39bf302",
   "metadata": {},
   "source": [
    "The process of wrapping up the variable and method into a single entityis known as encapsulation."
   ]
  },
  {
   "cell_type": "code",
   "execution_count": null,
   "id": "0599c1c9",
   "metadata": {},
   "outputs": [],
   "source": [
    "Types:\n",
    "    \n",
    "    _ (single underscore) = it is protected(variable/argument)\n",
    "    __ (double underscore) = it is private (variable/argument)"
   ]
  },
  {
   "cell_type": "markdown",
   "id": "d2c70fea",
   "metadata": {},
   "source": [
    "# private "
   ]
  },
  {
   "cell_type": "code",
   "execution_count": 105,
   "id": "9ca6a1e7",
   "metadata": {},
   "outputs": [],
   "source": [
    "class a: # parent class\n",
    "    def __init__(self,a):\n",
    "        self.__a=a #privatisation\n",
    "        \n",
    "    def showa(self):\n",
    "        print('private veriable : ', self.__a)\n",
    "        \n",
    "class b(a): # child class\n",
    "    def __init__(self,b):\n",
    "        super().__init__(b)\n",
    "        \n",
    "    def showb(self):\n",
    "        print(self.__a)"
   ]
  },
  {
   "cell_type": "code",
   "execution_count": 107,
   "id": "7e3957ce",
   "metadata": {},
   "outputs": [],
   "source": [
    "# creating object\n",
    "\n",
    "obj = b(20)"
   ]
  },
  {
   "cell_type": "code",
   "execution_count": 108,
   "id": "9cf4b6cd",
   "metadata": {},
   "outputs": [
    {
     "ename": "AttributeError",
     "evalue": "'b' object has no attribute '_b__a'",
     "output_type": "error",
     "traceback": [
      "\u001b[1;31m---------------------------------------------------------------------------\u001b[0m",
      "\u001b[1;31mAttributeError\u001b[0m                            Traceback (most recent call last)",
      "Input \u001b[1;32mIn [108]\u001b[0m, in \u001b[0;36m<cell line: 1>\u001b[1;34m()\u001b[0m\n\u001b[1;32m----> 1\u001b[0m \u001b[43mobj\u001b[49m\u001b[38;5;241;43m.\u001b[39;49m\u001b[43mshowb\u001b[49m\u001b[43m(\u001b[49m\u001b[43m)\u001b[49m\n",
      "Input \u001b[1;32mIn [105]\u001b[0m, in \u001b[0;36mb.showb\u001b[1;34m(self)\u001b[0m\n\u001b[0;32m     12\u001b[0m \u001b[38;5;28;01mdef\u001b[39;00m \u001b[38;5;21mshowb\u001b[39m(\u001b[38;5;28mself\u001b[39m):\n\u001b[1;32m---> 13\u001b[0m     \u001b[38;5;28mprint\u001b[39m(\u001b[38;5;28;43mself\u001b[39;49m\u001b[38;5;241;43m.\u001b[39;49m\u001b[43m__a\u001b[49m)\n",
      "\u001b[1;31mAttributeError\u001b[0m: 'b' object has no attribute '_b__a'"
     ]
    }
   ],
   "source": [
    "obj.showb()"
   ]
  },
  {
   "cell_type": "code",
   "execution_count": 113,
   "id": "3c308d46",
   "metadata": {},
   "outputs": [],
   "source": [
    "class a1: # parent class\n",
    "    def __init__(self,a1):\n",
    "        self.__a1=a1 #private \n",
    "        \n",
    "    def showa1(self):\n",
    "        print('private veriable : ', self.__a1)\n",
    "        \n",
    "class b1(a1): # child class\n",
    "    def __init__(self,a1,b1):\n",
    "        super().__init__(a1)\n",
    "        \n",
    "    def showb1(self):\n",
    "        print(self.__a1)"
   ]
  },
  {
   "cell_type": "code",
   "execution_count": 114,
   "id": "338e656e",
   "metadata": {},
   "outputs": [],
   "source": [
    "obj1= b1(10,20)"
   ]
  },
  {
   "cell_type": "code",
   "execution_count": 115,
   "id": "e8eeecc0",
   "metadata": {},
   "outputs": [
    {
     "ename": "AttributeError",
     "evalue": "'b1' object has no attribute '_b1__a1'",
     "output_type": "error",
     "traceback": [
      "\u001b[1;31m---------------------------------------------------------------------------\u001b[0m",
      "\u001b[1;31mAttributeError\u001b[0m                            Traceback (most recent call last)",
      "Input \u001b[1;32mIn [115]\u001b[0m, in \u001b[0;36m<cell line: 1>\u001b[1;34m()\u001b[0m\n\u001b[1;32m----> 1\u001b[0m \u001b[43mobj1\u001b[49m\u001b[38;5;241;43m.\u001b[39;49m\u001b[43mshowb1\u001b[49m\u001b[43m(\u001b[49m\u001b[43m)\u001b[49m\n",
      "Input \u001b[1;32mIn [113]\u001b[0m, in \u001b[0;36mb1.showb1\u001b[1;34m(self)\u001b[0m\n\u001b[0;32m     12\u001b[0m \u001b[38;5;28;01mdef\u001b[39;00m \u001b[38;5;21mshowb1\u001b[39m(\u001b[38;5;28mself\u001b[39m):\n\u001b[1;32m---> 13\u001b[0m     \u001b[38;5;28mprint\u001b[39m(\u001b[38;5;28;43mself\u001b[39;49m\u001b[38;5;241;43m.\u001b[39;49m\u001b[43m__a1\u001b[49m)\n",
      "\u001b[1;31mAttributeError\u001b[0m: 'b1' object has no attribute '_b1__a1'"
     ]
    }
   ],
   "source": [
    "obj1.showb1()"
   ]
  },
  {
   "cell_type": "markdown",
   "id": "2bce2c67",
   "metadata": {},
   "source": [
    "# protected"
   ]
  },
  {
   "cell_type": "code",
   "execution_count": 117,
   "id": "02d39851",
   "metadata": {},
   "outputs": [],
   "source": [
    "class a2: # parent class\n",
    "    def __init__(self,a2):\n",
    "        self._a2=a2 #protected\n",
    "        \n",
    "    def showa2(self):\n",
    "        print('private veriable : ', self._a2)\n",
    "        \n",
    "class b2(a2): # child class\n",
    "    def __init__(self,b2):\n",
    "        super().__init__(b2)\n",
    "        \n",
    "    def showb2(self):\n",
    "        print(self._a2)"
   ]
  },
  {
   "cell_type": "code",
   "execution_count": 119,
   "id": "a6cfa978",
   "metadata": {},
   "outputs": [],
   "source": [
    "# object creation\n",
    "\n",
    "obj4 = b2(30)"
   ]
  },
  {
   "cell_type": "code",
   "execution_count": 120,
   "id": "0261ae94",
   "metadata": {},
   "outputs": [
    {
     "name": "stdout",
     "output_type": "stream",
     "text": [
      "30\n"
     ]
    }
   ],
   "source": [
    "obj4.showb2()"
   ]
  },
  {
   "cell_type": "markdown",
   "id": "1326d46f",
   "metadata": {},
   "source": [
    "# note:\n",
    "\n",
    "1) Variable with the public access modifiers can be accessed anywhere inside or outside the class"
   ]
  },
  {
   "cell_type": "markdown",
   "id": "5ea38637",
   "metadata": {},
   "source": [
    "2) The protected variables can be accessed within thee same package"
   ]
  },
  {
   "cell_type": "markdown",
   "id": "30779723",
   "metadata": {},
   "source": [
    "3) The private variables can only be accessed inside the class."
   ]
  },
  {
   "cell_type": "markdown",
   "id": "7dcaa3d6",
   "metadata": {},
   "source": [
    "# File handeling"
   ]
  },
  {
   "cell_type": "markdown",
   "id": "ba7f70bd",
   "metadata": {},
   "source": [
    "file handeling is an important part of web application. which can do several functions for creating, reading ,updating file."
   ]
  },
  {
   "cell_type": "markdown",
   "id": "9879b703",
   "metadata": {},
   "source": [
    "Permissions in File handeling\n",
    "\n",
    "r - read a file content\n",
    "\n",
    "a - adding value in afile\n",
    "\n",
    "w - write a value in file"
   ]
  },
  {
   "cell_type": "markdown",
   "id": "905b911c",
   "metadata": {},
   "source": [
    "# creating a file\n",
    "\n",
    "# open method\n",
    "syntax:- \n",
    "    \n",
    "    open('file_name','permission')"
   ]
  },
  {
   "cell_type": "code",
   "execution_count": 121,
   "id": "1bc27ead",
   "metadata": {},
   "outputs": [],
   "source": [
    "s = 'This is my file handeling program'\n",
    "\n",
    "file = open('demo1.txt','w')\n",
    "\n"
   ]
  },
  {
   "cell_type": "code",
   "execution_count": 122,
   "id": "1bcb3428",
   "metadata": {},
   "outputs": [
    {
     "data": {
      "text/plain": [
       "33"
      ]
     },
     "execution_count": 122,
     "metadata": {},
     "output_type": "execute_result"
    }
   ],
   "source": [
    "file.write(s)"
   ]
  },
  {
   "cell_type": "code",
   "execution_count": 123,
   "id": "e70650bf",
   "metadata": {},
   "outputs": [],
   "source": [
    "file.close() # must write"
   ]
  },
  {
   "cell_type": "code",
   "execution_count": 124,
   "id": "85c785fb",
   "metadata": {},
   "outputs": [
    {
     "name": "stdout",
     "output_type": "stream",
     "text": [
      "This is my file handeling program\n"
     ]
    }
   ],
   "source": [
    "# file read\n",
    "\n",
    "file1=open('demo1.txt','r')\n",
    "filecontent= file1.read()\n",
    "print(filecontent)"
   ]
  },
  {
   "cell_type": "markdown",
   "id": "446b7f2c",
   "metadata": {},
   "source": [
    "# list storing into a file\n",
    "\n",
    "l1 = [1,2,'python','java']\n",
    "\n",
    "when list get stored into a file it will be stored in a single string , because python store list into single block"
   ]
  },
  {
   "cell_type": "code",
   "execution_count": 1,
   "id": "25acda82",
   "metadata": {},
   "outputs": [],
   "source": [
    "list1= [1,2,'python','java']\n",
    "\n"
   ]
  },
  {
   "cell_type": "code",
   "execution_count": 132,
   "id": "35fa5dd1",
   "metadata": {},
   "outputs": [
    {
     "ename": "TypeError",
     "evalue": "write() argument must be str, not int",
     "output_type": "error",
     "traceback": [
      "\u001b[1;31m---------------------------------------------------------------------------\u001b[0m",
      "\u001b[1;31mTypeError\u001b[0m                                 Traceback (most recent call last)",
      "Input \u001b[1;32mIn [132]\u001b[0m, in \u001b[0;36m<cell line: 2>\u001b[1;34m()\u001b[0m\n\u001b[0;32m      1\u001b[0m file\u001b[38;5;241m=\u001b[39m\u001b[38;5;28mopen\u001b[39m(\u001b[38;5;124m'\u001b[39m\u001b[38;5;124mdemo2.txt\u001b[39m\u001b[38;5;124m'\u001b[39m,\u001b[38;5;124m'\u001b[39m\u001b[38;5;124mw\u001b[39m\u001b[38;5;124m'\u001b[39m)\n\u001b[1;32m----> 2\u001b[0m \u001b[43mfile\u001b[49m\u001b[38;5;241;43m.\u001b[39;49m\u001b[43mwritelines\u001b[49m\u001b[43m(\u001b[49m\u001b[43mlist1\u001b[49m\u001b[43m)\u001b[49m\n\u001b[0;32m      3\u001b[0m \u001b[38;5;28mprint\u001b[39m(\u001b[38;5;124m'\u001b[39m\u001b[38;5;124mfile created\u001b[39m\u001b[38;5;124m'\u001b[39m)\n\u001b[0;32m      4\u001b[0m file\u001b[38;5;241m.\u001b[39mclose()\n",
      "\u001b[1;31mTypeError\u001b[0m: write() argument must be str, not int"
     ]
    }
   ],
   "source": [
    "file=open('demo2.txt','w')\n",
    "file.writelines(list1)\n",
    "print('file created')\n",
    "file.close()"
   ]
  },
  {
   "cell_type": "code",
   "execution_count": 2,
   "id": "717d945d",
   "metadata": {},
   "outputs": [
    {
     "ename": "TypeError",
     "evalue": "write() argument must be str, not int",
     "output_type": "error",
     "traceback": [
      "\u001b[1;31m---------------------------------------------------------------------------\u001b[0m",
      "\u001b[1;31mTypeError\u001b[0m                                 Traceback (most recent call last)",
      "Input \u001b[1;32mIn [2]\u001b[0m, in \u001b[0;36m<cell line: 3>\u001b[1;34m()\u001b[0m\n\u001b[0;32m      1\u001b[0m list1\u001b[38;5;241m=\u001b[39m [\u001b[38;5;241m1\u001b[39m,\u001b[38;5;241m2\u001b[39m,\u001b[38;5;124m'\u001b[39m\u001b[38;5;124mpython\u001b[39m\u001b[38;5;124m'\u001b[39m,\u001b[38;5;124m'\u001b[39m\u001b[38;5;124mjava\u001b[39m\u001b[38;5;124m'\u001b[39m]\n\u001b[0;32m      2\u001b[0m file\u001b[38;5;241m=\u001b[39m\u001b[38;5;28mopen\u001b[39m(\u001b[38;5;124m'\u001b[39m\u001b[38;5;124mdemo2.txt\u001b[39m\u001b[38;5;124m'\u001b[39m,\u001b[38;5;124m'\u001b[39m\u001b[38;5;124mw\u001b[39m\u001b[38;5;124m'\u001b[39m)\n\u001b[1;32m----> 3\u001b[0m \u001b[43mfile\u001b[49m\u001b[38;5;241;43m.\u001b[39;49m\u001b[43mwritelines\u001b[49m\u001b[43m(\u001b[49m\u001b[43mlist1\u001b[49m\u001b[43m)\u001b[49m\n\u001b[0;32m      4\u001b[0m \u001b[38;5;28mprint\u001b[39m(\u001b[38;5;124m'\u001b[39m\u001b[38;5;124mfile created\u001b[39m\u001b[38;5;124m'\u001b[39m)\n\u001b[0;32m      5\u001b[0m file\u001b[38;5;241m.\u001b[39mclose()\n",
      "\u001b[1;31mTypeError\u001b[0m: write() argument must be str, not int"
     ]
    }
   ],
   "source": [
    "list1= [1,2,'python','java']\n",
    "file=open('demo2.txt','w')\n",
    "file.writelines(list1)\n",
    "print('file created')\n",
    "file.close()"
   ]
  },
  {
   "cell_type": "code",
   "execution_count": null,
   "id": "245ec981",
   "metadata": {},
   "outputs": [],
   "source": []
  }
 ],
 "metadata": {
  "kernelspec": {
   "display_name": "Python 3 (ipykernel)",
   "language": "python",
   "name": "python3"
  },
  "language_info": {
   "codemirror_mode": {
    "name": "ipython",
    "version": 3
   },
   "file_extension": ".py",
   "mimetype": "text/x-python",
   "name": "python",
   "nbconvert_exporter": "python",
   "pygments_lexer": "ipython3",
   "version": "3.9.12"
  }
 },
 "nbformat": 4,
 "nbformat_minor": 5
}
