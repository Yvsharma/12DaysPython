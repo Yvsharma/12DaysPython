{
 "cells": [
  {
   "cell_type": "markdown",
   "id": "7a6e8d0d",
   "metadata": {},
   "source": [
    "# IF - Else loop"
   ]
  },
  {
   "cell_type": "markdown",
   "id": "845c6540",
   "metadata": {},
   "source": [
    "Indentation"
   ]
  },
  {
   "cell_type": "code",
   "execution_count": 1,
   "id": "c6728ea0",
   "metadata": {},
   "outputs": [
    {
     "name": "stdout",
     "output_type": "stream",
     "text": [
      "b is greatest\n"
     ]
    }
   ],
   "source": [
    "# if syntax\n",
    "a=33\n",
    "b=200\n",
    "if b>a:\n",
    "    print('b is greatest')"
   ]
  },
  {
   "cell_type": "code",
   "execution_count": 2,
   "id": "4b32878b",
   "metadata": {},
   "outputs": [
    {
     "name": "stdout",
     "output_type": "stream",
     "text": [
      "b is greatest\n"
     ]
    }
   ],
   "source": [
    "# if else syntax\n",
    "\n",
    "if a>b:\n",
    "    print('a is greatest')\n",
    "else:\n",
    "    print('b is greatest')"
   ]
  },
  {
   "cell_type": "code",
   "execution_count": 3,
   "id": "d2c21ade",
   "metadata": {},
   "outputs": [],
   "source": [
    "a=5\n",
    "b=5"
   ]
  },
  {
   "cell_type": "code",
   "execution_count": 4,
   "id": "020bc322",
   "metadata": {},
   "outputs": [
    {
     "name": "stdout",
     "output_type": "stream",
     "text": [
      "both no. are equal\n"
     ]
    }
   ],
   "source": [
    "# elif syntax\n",
    "\n",
    "if a>b:\n",
    "    print('a is greatest')\n",
    "elif a==b:\n",
    "    print('both no. are equal')\n",
    "else:\n",
    "    print('b is greatest')"
   ]
  },
  {
   "cell_type": "markdown",
   "id": "202fa10c",
   "metadata": {},
   "source": [
    "# short hand if"
   ]
  },
  {
   "cell_type": "code",
   "execution_count": 9,
   "id": "4401baed",
   "metadata": {},
   "outputs": [],
   "source": [
    "a=5\n",
    "b=200"
   ]
  },
  {
   "cell_type": "code",
   "execution_count": 10,
   "id": "28fa3c2b",
   "metadata": {},
   "outputs": [
    {
     "name": "stdout",
     "output_type": "stream",
     "text": [
      "b is greatest\n"
     ]
    }
   ],
   "source": [
    "if a<b: print('b is greatest')"
   ]
  },
  {
   "cell_type": "code",
   "execution_count": 13,
   "id": "f94e8591",
   "metadata": {},
   "outputs": [
    {
     "name": "stdout",
     "output_type": "stream",
     "text": [
      "=\n"
     ]
    }
   ],
   "source": [
    "a1=300\n",
    "b2=300\n",
    "print('A') if a>b else print('=') if a1==b2 else print('B')"
   ]
  },
  {
   "cell_type": "markdown",
   "id": "8ee0c84e",
   "metadata": {},
   "source": [
    "### AND"
   ]
  },
  {
   "cell_type": "code",
   "execution_count": 15,
   "id": "8161a3ec",
   "metadata": {},
   "outputs": [
    {
     "name": "stdout",
     "output_type": "stream",
     "text": [
      "a is the greatest no.\n"
     ]
    }
   ],
   "source": [
    "A=500\n",
    "B=33\n",
    "C=300\n",
    "if A>B and A>C:\n",
    "    print('a is the greatest no.')"
   ]
  },
  {
   "cell_type": "markdown",
   "id": "5ff533a6",
   "metadata": {},
   "source": [
    "### or"
   ]
  },
  {
   "cell_type": "code",
   "execution_count": 16,
   "id": "99b1ed92",
   "metadata": {},
   "outputs": [],
   "source": [
    "A=300\n",
    "B=33\n",
    "C=500"
   ]
  },
  {
   "cell_type": "code",
   "execution_count": 17,
   "id": "c79ddd1b",
   "metadata": {},
   "outputs": [
    {
     "name": "stdout",
     "output_type": "stream",
     "text": [
      "a is not highest or lowest\n"
     ]
    }
   ],
   "source": [
    "\n",
    "if A>B or A>C:\n",
    "    print('a is not highest or lowest')"
   ]
  },
  {
   "cell_type": "markdown",
   "id": "8eaf1b31",
   "metadata": {},
   "source": [
    "### NOT"
   ]
  },
  {
   "cell_type": "code",
   "execution_count": 18,
   "id": "4723e629",
   "metadata": {},
   "outputs": [
    {
     "name": "stdout",
     "output_type": "stream",
     "text": [
      "y is greater than x\n"
     ]
    }
   ],
   "source": [
    "x=33\n",
    "y=200\n",
    "if not x>y:\n",
    "    print('y is greater than x')"
   ]
  },
  {
   "cell_type": "code",
   "execution_count": 19,
   "id": "e5e3c660",
   "metadata": {},
   "outputs": [
    {
     "name": "stdout",
     "output_type": "stream",
     "text": [
      "x is greater than 10\n"
     ]
    }
   ],
   "source": [
    "# Nested if else\n",
    "\n",
    "x=41\n",
    "if x>10:\n",
    "    print('x is greater than 10')\n",
    "    if x>50:\n",
    "        print('x is greater than 50')\n",
    "    "
   ]
  },
  {
   "cell_type": "code",
   "execution_count": 20,
   "id": "551e2ab6",
   "metadata": {},
   "outputs": [
    {
     "name": "stdout",
     "output_type": "stream",
     "text": [
      "x is greater than 10\n",
      "x is lower than 50\n"
     ]
    }
   ],
   "source": [
    "x=41\n",
    "if x>10: #true (continue)\n",
    "    print('x is greater than 10')\n",
    "    if x>50: # false (skip)\n",
    "        print('x is greater than 50')\n",
    "    else: # true continue\n",
    "        print('x is lower than 50')"
   ]
  },
  {
   "cell_type": "code",
   "execution_count": 21,
   "id": "51a2710a",
   "metadata": {},
   "outputs": [],
   "source": [
    "x=41\n",
    "if x>100: #true (continue)\n",
    "    print('x is greater than 100')\n",
    "    if x>50: # false (skip)\n",
    "        print('x is greater than 50')\n",
    "    else: # true continue\n",
    "        print('x is lower than 50')"
   ]
  },
  {
   "cell_type": "code",
   "execution_count": 22,
   "id": "a440f4a9",
   "metadata": {},
   "outputs": [
    {
     "name": "stdout",
     "output_type": "stream",
     "text": [
      "no. is less than 100\n"
     ]
    }
   ],
   "source": [
    "x=41\n",
    "if x>100: #false (continue)\n",
    "    print('x is greater than 10')\n",
    "    if x>50: \n",
    "        print('x is greater than 50')\n",
    "    else: \n",
    "        print('x is lower than 50')\n",
    "else:\n",
    "    print('no. is less than 100')"
   ]
  },
  {
   "cell_type": "markdown",
   "id": "e9bc925f",
   "metadata": {},
   "source": [
    "# While loop"
   ]
  },
  {
   "cell_type": "code",
   "execution_count": 24,
   "id": "11ff141a",
   "metadata": {},
   "outputs": [
    {
     "name": "stdout",
     "output_type": "stream",
     "text": [
      "0\n",
      "1\n",
      "2\n",
      "3\n",
      "4\n",
      "5\n"
     ]
    }
   ],
   "source": [
    "# print values which are less than 6  from 1\n",
    "i=0\n",
    "while i<6:\n",
    "    print(i)\n",
    "    i= i+1"
   ]
  },
  {
   "cell_type": "markdown",
   "id": "389fa5ac",
   "metadata": {},
   "source": [
    "# break statement"
   ]
  },
  {
   "cell_type": "code",
   "execution_count": 25,
   "id": "be946383",
   "metadata": {},
   "outputs": [
    {
     "name": "stdout",
     "output_type": "stream",
     "text": [
      "1\n",
      "2\n",
      "3\n"
     ]
    }
   ],
   "source": [
    "i=1\n",
    "while i<6:\n",
    "    print(i)\n",
    "    if i==3:\n",
    "        break\n",
    "    i=i+1"
   ]
  },
  {
   "cell_type": "markdown",
   "id": "9bcd5d2c",
   "metadata": {},
   "source": [
    "continue statement"
   ]
  },
  {
   "cell_type": "code",
   "execution_count": 28,
   "id": "a1d9a577",
   "metadata": {},
   "outputs": [
    {
     "name": "stdout",
     "output_type": "stream",
     "text": [
      "1\n",
      "2\n",
      "4\n",
      "5\n",
      "6\n"
     ]
    }
   ],
   "source": [
    "i=0\n",
    "while i<6:\n",
    "    i=i+1\n",
    "    \n",
    "    if i==3:\n",
    "        continue\n",
    "    print(i)\n",
    "        "
   ]
  },
  {
   "cell_type": "code",
   "execution_count": 29,
   "id": "bd56f3f7",
   "metadata": {},
   "outputs": [
    {
     "name": "stdout",
     "output_type": "stream",
     "text": [
      "0\n",
      "1\n",
      "2\n",
      "3\n",
      "4\n",
      "5\n",
      " i is no longer less than 6\n"
     ]
    }
   ],
   "source": [
    "i=0\n",
    "while i<6:\n",
    "    print(i)\n",
    "    i=i+1\n",
    "else:\n",
    "    print(' i is no longer less than 6')"
   ]
  },
  {
   "cell_type": "markdown",
   "id": "c94d056f",
   "metadata": {},
   "source": [
    "# List"
   ]
  },
  {
   "cell_type": "markdown",
   "id": "3560a7be",
   "metadata": {},
   "source": [
    "list are used to store multiplke items in a single variable"
   ]
  },
  {
   "cell_type": "markdown",
   "id": "122b1668",
   "metadata": {},
   "source": [
    "list are one of 4 built in data types in python.\n",
    "list are created using square brackets: [ ]\n",
    "    "
   ]
  },
  {
   "cell_type": "code",
   "execution_count": 31,
   "id": "c934f5d7",
   "metadata": {},
   "outputs": [],
   "source": [
    "# create our first list\n",
    "\n",
    "Flist=['apple','banana','orange']"
   ]
  },
  {
   "cell_type": "code",
   "execution_count": 32,
   "id": "8e033339",
   "metadata": {},
   "outputs": [
    {
     "name": "stdout",
     "output_type": "stream",
     "text": [
      "['apple', 'banana', 'orange']\n"
     ]
    }
   ],
   "source": [
    "print(Flist)"
   ]
  },
  {
   "cell_type": "code",
   "execution_count": 33,
   "id": "b7f425dc",
   "metadata": {},
   "outputs": [
    {
     "data": {
      "text/plain": [
       "list"
      ]
     },
     "execution_count": 33,
     "metadata": {},
     "output_type": "execute_result"
    }
   ],
   "source": [
    "type(Flist)"
   ]
  },
  {
   "cell_type": "code",
   "execution_count": 34,
   "id": "191389df",
   "metadata": {},
   "outputs": [],
   "source": [
    "# list are ordered\n",
    "# it can be changeable\n",
    "# it allows duplicate values\n"
   ]
  },
  {
   "cell_type": "code",
   "execution_count": 35,
   "id": "352479c2",
   "metadata": {},
   "outputs": [],
   "source": [
    "Flist1=['apple','banana','orange','banana','orange']"
   ]
  },
  {
   "cell_type": "code",
   "execution_count": 37,
   "id": "77fbd306",
   "metadata": {},
   "outputs": [
    {
     "name": "stdout",
     "output_type": "stream",
     "text": [
      "['apple', 'banana', 'orange', 'banana', 'orange']\n"
     ]
    }
   ],
   "source": [
    "print(Flist1)"
   ]
  },
  {
   "cell_type": "code",
   "execution_count": 38,
   "id": "d8fc516a",
   "metadata": {},
   "outputs": [
    {
     "data": {
      "text/plain": [
       "5"
      ]
     },
     "execution_count": 38,
     "metadata": {},
     "output_type": "execute_result"
    }
   ],
   "source": [
    "len(Flist1)"
   ]
  },
  {
   "cell_type": "code",
   "execution_count": 39,
   "id": "358534bd",
   "metadata": {},
   "outputs": [
    {
     "data": {
      "text/plain": [
       "3"
      ]
     },
     "execution_count": 39,
     "metadata": {},
     "output_type": "execute_result"
    }
   ],
   "source": [
    "len(Flist)"
   ]
  },
  {
   "cell_type": "code",
   "execution_count": 72,
   "id": "0926d18b",
   "metadata": {},
   "outputs": [],
   "source": [
    "# list items - Data types\n",
    "lis1=['banana','orange']\n",
    "lis2=[1,2,3,4]\n",
    "lis3=[True,False]"
   ]
  },
  {
   "cell_type": "code",
   "execution_count": 73,
   "id": "ad76f91e",
   "metadata": {},
   "outputs": [
    {
     "name": "stdout",
     "output_type": "stream",
     "text": [
      "<class 'list'>\n",
      "<class 'list'>\n",
      "<class 'list'>\n"
     ]
    }
   ],
   "source": [
    "print(type(lis1))\n",
    "print(type(lis2))\n",
    "print(type(lis3))"
   ]
  },
  {
   "cell_type": "code",
   "execution_count": null,
   "id": "4c9deb4d",
   "metadata": {},
   "outputs": [],
   "source": [
    "lis4=['abc',34,True,48,'Male']"
   ]
  },
  {
   "cell_type": "code",
   "execution_count": 41,
   "id": "fe8fc5e7",
   "metadata": {},
   "outputs": [],
   "source": [
    "# indexing\n",
    "Flist1=['orange','apple','banana','banana','orange']"
   ]
  },
  {
   "cell_type": "code",
   "execution_count": 43,
   "id": "bb269d2a",
   "metadata": {},
   "outputs": [
    {
     "data": {
      "text/plain": [
       "'apple'"
      ]
     },
     "execution_count": 43,
     "metadata": {},
     "output_type": "execute_result"
    }
   ],
   "source": [
    "Flist1[1]"
   ]
  },
  {
   "cell_type": "code",
   "execution_count": 44,
   "id": "7d18983a",
   "metadata": {},
   "outputs": [
    {
     "data": {
      "text/plain": [
       "'banana'"
      ]
     },
     "execution_count": 44,
     "metadata": {},
     "output_type": "execute_result"
    }
   ],
   "source": [
    "Flist1[-3]"
   ]
  },
  {
   "cell_type": "code",
   "execution_count": 45,
   "id": "b8cac0e3",
   "metadata": {},
   "outputs": [
    {
     "data": {
      "text/plain": [
       "'banana'"
      ]
     },
     "execution_count": 45,
     "metadata": {},
     "output_type": "execute_result"
    }
   ],
   "source": [
    "Flist1[-2]"
   ]
  },
  {
   "cell_type": "code",
   "execution_count": 46,
   "id": "98bdd095",
   "metadata": {},
   "outputs": [],
   "source": [
    "# range\n",
    "\n",
    "thelist=['apple','banana','cherry','orange','kiwi','mango']"
   ]
  },
  {
   "cell_type": "code",
   "execution_count": 47,
   "id": "54965c9c",
   "metadata": {},
   "outputs": [
    {
     "data": {
      "text/plain": [
       "['cherry', 'orange', 'kiwi']"
      ]
     },
     "execution_count": 47,
     "metadata": {},
     "output_type": "execute_result"
    }
   ],
   "source": [
    "thelist[2:5]"
   ]
  },
  {
   "cell_type": "code",
   "execution_count": 48,
   "id": "a3e974f5",
   "metadata": {},
   "outputs": [
    {
     "data": {
      "text/plain": [
       "['apple', 'banana', 'cherry', 'orange', 'kiwi']"
      ]
     },
     "execution_count": 48,
     "metadata": {},
     "output_type": "execute_result"
    }
   ],
   "source": [
    "thelist[:5]"
   ]
  },
  {
   "cell_type": "code",
   "execution_count": 49,
   "id": "b8638121",
   "metadata": {},
   "outputs": [
    {
     "data": {
      "text/plain": [
       "['cherry', 'orange', 'kiwi', 'mango']"
      ]
     },
     "execution_count": 49,
     "metadata": {},
     "output_type": "execute_result"
    }
   ],
   "source": [
    "thelist[2:]"
   ]
  },
  {
   "cell_type": "code",
   "execution_count": 50,
   "id": "888f5c0d",
   "metadata": {},
   "outputs": [
    {
     "data": {
      "text/plain": [
       "['cherry', 'orange', 'kiwi']"
      ]
     },
     "execution_count": 50,
     "metadata": {},
     "output_type": "execute_result"
    }
   ],
   "source": [
    "thelist[-4:-1]"
   ]
  },
  {
   "cell_type": "code",
   "execution_count": 51,
   "id": "f9a0dfd7",
   "metadata": {},
   "outputs": [],
   "source": [
    "# check it item exist"
   ]
  },
  {
   "cell_type": "code",
   "execution_count": 64,
   "id": "4e380117",
   "metadata": {},
   "outputs": [],
   "source": [
    "thelist1=['apple','banana','cherry','orange','kiwi','mango']"
   ]
  },
  {
   "cell_type": "code",
   "execution_count": 53,
   "id": "7f611694",
   "metadata": {},
   "outputs": [
    {
     "name": "stdout",
     "output_type": "stream",
     "text": [
      "yes, apple is in the list\n"
     ]
    }
   ],
   "source": [
    "if 'apple' in thelist1:\n",
    "    print('yes, apple is in the list')"
   ]
  },
  {
   "cell_type": "code",
   "execution_count": 58,
   "id": "b45d7a15",
   "metadata": {},
   "outputs": [],
   "source": [
    "#change item value\n",
    "thelist1[1]='watermelon'"
   ]
  },
  {
   "cell_type": "code",
   "execution_count": 59,
   "id": "e20ba1a2",
   "metadata": {},
   "outputs": [
    {
     "name": "stdout",
     "output_type": "stream",
     "text": [
      "['apple', 'watermelon', 'cherry', 'orange', 'kiwi', 'mango']\n"
     ]
    }
   ],
   "source": [
    "print(thelist1)"
   ]
  },
  {
   "cell_type": "code",
   "execution_count": 60,
   "id": "2139cb6c",
   "metadata": {},
   "outputs": [],
   "source": [
    "# change a range of item values\n",
    "\n",
    "thelist1[1:3]=['banana','blackcurrant']"
   ]
  },
  {
   "cell_type": "code",
   "execution_count": 61,
   "id": "f3a21b11",
   "metadata": {},
   "outputs": [
    {
     "name": "stdout",
     "output_type": "stream",
     "text": [
      "['apple', 'banana', 'blackcurrant', 'orange', 'kiwi', 'mango']\n"
     ]
    }
   ],
   "source": [
    "print(thelist1)"
   ]
  },
  {
   "cell_type": "code",
   "execution_count": 66,
   "id": "80eb0999",
   "metadata": {},
   "outputs": [],
   "source": [
    "thelist1[1:2]=['watermelon','blackcurrant']"
   ]
  },
  {
   "cell_type": "code",
   "execution_count": 67,
   "id": "d11cd405",
   "metadata": {},
   "outputs": [
    {
     "data": {
      "text/plain": [
       "['apple', 'watermelon', 'blackcurrant', 'cherry', 'orange', 'kiwi', 'mango']"
      ]
     },
     "execution_count": 67,
     "metadata": {},
     "output_type": "execute_result"
    }
   ],
   "source": [
    "thelist1"
   ]
  },
  {
   "cell_type": "code",
   "execution_count": 68,
   "id": "90c5763b",
   "metadata": {},
   "outputs": [],
   "source": [
    "# insert item\n",
    "\n",
    "thelist1.insert(1,'banana')"
   ]
  },
  {
   "cell_type": "code",
   "execution_count": 69,
   "id": "3e53057f",
   "metadata": {},
   "outputs": [
    {
     "name": "stdout",
     "output_type": "stream",
     "text": [
      "['apple', 'banana', 'watermelon', 'blackcurrant', 'cherry', 'orange', 'kiwi', 'mango']\n"
     ]
    }
   ],
   "source": [
    "print(thelist1)"
   ]
  },
  {
   "cell_type": "code",
   "execution_count": 70,
   "id": "da8de35a",
   "metadata": {},
   "outputs": [],
   "source": [
    "# append \n",
    "\n",
    "thelist1.append('orange')"
   ]
  },
  {
   "cell_type": "code",
   "execution_count": 71,
   "id": "f45f4ee9",
   "metadata": {},
   "outputs": [
    {
     "name": "stdout",
     "output_type": "stream",
     "text": [
      "['apple', 'banana', 'watermelon', 'blackcurrant', 'cherry', 'orange', 'kiwi', 'mango', 'orange']\n"
     ]
    }
   ],
   "source": [
    "print(thelist1)"
   ]
  },
  {
   "cell_type": "code",
   "execution_count": 80,
   "id": "72ab886a",
   "metadata": {},
   "outputs": [],
   "source": [
    "# extend list\n",
    "thelist2=['apple','banana','cherry']\n",
    "thelist3=['mango','pineapple','papaya']"
   ]
  },
  {
   "cell_type": "code",
   "execution_count": 75,
   "id": "af28b8ad",
   "metadata": {},
   "outputs": [],
   "source": [
    "thelist2.extend(thelist3)"
   ]
  },
  {
   "cell_type": "code",
   "execution_count": 76,
   "id": "7c4ebd9b",
   "metadata": {},
   "outputs": [
    {
     "name": "stdout",
     "output_type": "stream",
     "text": [
      "['apple', 'banana', 'cherry', 'mango', 'pineapple', 'papaya']\n"
     ]
    }
   ],
   "source": [
    "print(thelist2)"
   ]
  },
  {
   "cell_type": "code",
   "execution_count": 78,
   "id": "2ee41e1f",
   "metadata": {},
   "outputs": [],
   "source": [
    "thelist3.extend(thelist2)"
   ]
  },
  {
   "cell_type": "code",
   "execution_count": 79,
   "id": "c3baae21",
   "metadata": {},
   "outputs": [
    {
     "name": "stdout",
     "output_type": "stream",
     "text": [
      "['mango', 'pineapple', 'papaya', 'apple', 'banana', 'cherry']\n"
     ]
    }
   ],
   "source": [
    "print(thelist3)"
   ]
  },
  {
   "cell_type": "code",
   "execution_count": 81,
   "id": "a57f0881",
   "metadata": {},
   "outputs": [],
   "source": [
    "a=(1,2,3)"
   ]
  },
  {
   "cell_type": "code",
   "execution_count": 84,
   "id": "d0b3defe",
   "metadata": {},
   "outputs": [
    {
     "data": {
      "text/plain": [
       "tuple"
      ]
     },
     "execution_count": 84,
     "metadata": {},
     "output_type": "execute_result"
    }
   ],
   "source": [
    "type(a)"
   ]
  },
  {
   "cell_type": "code",
   "execution_count": 82,
   "id": "75b0ac8e",
   "metadata": {},
   "outputs": [],
   "source": [
    "thelist2.extend(a)"
   ]
  },
  {
   "cell_type": "code",
   "execution_count": 83,
   "id": "121e0371",
   "metadata": {},
   "outputs": [
    {
     "name": "stdout",
     "output_type": "stream",
     "text": [
      "['apple', 'banana', 'cherry', 1, 2, 3]\n"
     ]
    }
   ],
   "source": [
    "print(thelist2)"
   ]
  },
  {
   "cell_type": "code",
   "execution_count": 85,
   "id": "c6871073",
   "metadata": {},
   "outputs": [
    {
     "data": {
      "text/plain": [
       "3"
      ]
     },
     "execution_count": 85,
     "metadata": {},
     "output_type": "execute_result"
    }
   ],
   "source": [
    "# remove specific item\n",
    "thelist2.pop()"
   ]
  },
  {
   "cell_type": "code",
   "execution_count": 86,
   "id": "cf7ca8cb",
   "metadata": {},
   "outputs": [
    {
     "name": "stdout",
     "output_type": "stream",
     "text": [
      "['apple', 'banana', 'cherry', 1, 2]\n"
     ]
    }
   ],
   "source": [
    "print(thelist2)"
   ]
  },
  {
   "cell_type": "code",
   "execution_count": 87,
   "id": "3aab950d",
   "metadata": {},
   "outputs": [
    {
     "data": {
      "text/plain": [
       "'cherry'"
      ]
     },
     "execution_count": 87,
     "metadata": {},
     "output_type": "execute_result"
    }
   ],
   "source": [
    "thelist2.pop(2)"
   ]
  },
  {
   "cell_type": "code",
   "execution_count": 88,
   "id": "ac9d86ae",
   "metadata": {},
   "outputs": [
    {
     "name": "stdout",
     "output_type": "stream",
     "text": [
      "['apple', 'banana', 1, 2]\n"
     ]
    }
   ],
   "source": [
    "print(thelist2)"
   ]
  },
  {
   "cell_type": "code",
   "execution_count": 89,
   "id": "2be20157",
   "metadata": {},
   "outputs": [],
   "source": [
    "thelist2.remove('banana')"
   ]
  },
  {
   "cell_type": "code",
   "execution_count": 90,
   "id": "6c0becb2",
   "metadata": {},
   "outputs": [
    {
     "name": "stdout",
     "output_type": "stream",
     "text": [
      "['apple', 1, 2]\n"
     ]
    }
   ],
   "source": [
    "print(thelist2)"
   ]
  },
  {
   "cell_type": "code",
   "execution_count": 96,
   "id": "878e24a8",
   "metadata": {},
   "outputs": [],
   "source": [
    "thelist7=['apple','banana','cherry','apple','orange','kiwi','mango','apple']"
   ]
  },
  {
   "cell_type": "code",
   "execution_count": 94,
   "id": "5f947dc7",
   "metadata": {},
   "outputs": [],
   "source": [
    "thelist7.remove('apple')"
   ]
  },
  {
   "cell_type": "code",
   "execution_count": 95,
   "id": "7789daeb",
   "metadata": {},
   "outputs": [
    {
     "data": {
      "text/plain": [
       "['banana', 'cherry', 'orange', 'kiwi', 'mango', 'apple']"
      ]
     },
     "execution_count": 95,
     "metadata": {},
     "output_type": "execute_result"
    }
   ],
   "source": [
    "thelist7"
   ]
  },
  {
   "cell_type": "code",
   "execution_count": 99,
   "id": "da719db7",
   "metadata": {},
   "outputs": [],
   "source": [
    "x=[set('apple')]"
   ]
  },
  {
   "cell_type": "code",
   "execution_count": 100,
   "id": "3bef30b1",
   "metadata": {},
   "outputs": [
    {
     "name": "stdout",
     "output_type": "stream",
     "text": [
      "['apple', 'banana', 'cherry', 'apple', 'orange', 'kiwi', 'mango', 'apple'] [{'a', 'l', 'p', 'e'}]\n"
     ]
    }
   ],
   "source": [
    "print(thelist7,x)"
   ]
  },
  {
   "cell_type": "code",
   "execution_count": 101,
   "id": "2c7a2550",
   "metadata": {},
   "outputs": [],
   "source": [
    "list1=[set(thelist7)]"
   ]
  },
  {
   "cell_type": "code",
   "execution_count": 103,
   "id": "5381ff22",
   "metadata": {},
   "outputs": [
    {
     "name": "stdout",
     "output_type": "stream",
     "text": [
      "[{'cherry', 'apple', 'orange', 'mango', 'kiwi', 'banana'}]\n"
     ]
    }
   ],
   "source": [
    "print(list1)"
   ]
  },
  {
   "cell_type": "code",
   "execution_count": 104,
   "id": "91574125",
   "metadata": {},
   "outputs": [
    {
     "data": {
      "text/plain": [
       "list"
      ]
     },
     "execution_count": 104,
     "metadata": {},
     "output_type": "execute_result"
    }
   ],
   "source": [
    "type(list1)"
   ]
  },
  {
   "cell_type": "code",
   "execution_count": 1,
   "id": "f8034b4f",
   "metadata": {},
   "outputs": [
    {
     "ename": "AttributeError",
     "evalue": "type object 'dict' has no attribute 'formkey'",
     "output_type": "error",
     "traceback": [
      "\u001b[1;31m---------------------------------------------------------------------------\u001b[0m",
      "\u001b[1;31mAttributeError\u001b[0m                            Traceback (most recent call last)",
      "Input \u001b[1;32mIn [1]\u001b[0m, in \u001b[0;36m<cell line: 2>\u001b[1;34m()\u001b[0m\n\u001b[0;32m      1\u001b[0m mylist\u001b[38;5;241m=\u001b[39m[\u001b[38;5;124m'\u001b[39m\u001b[38;5;124ma\u001b[39m\u001b[38;5;124m'\u001b[39m,\u001b[38;5;124m'\u001b[39m\u001b[38;5;124mb\u001b[39m\u001b[38;5;124m'\u001b[39m,\u001b[38;5;124m'\u001b[39m\u001b[38;5;124ma\u001b[39m\u001b[38;5;124m'\u001b[39m,\u001b[38;5;124m'\u001b[39m\u001b[38;5;124mc\u001b[39m\u001b[38;5;124m'\u001b[39m,\u001b[38;5;124m'\u001b[39m\u001b[38;5;124mc\u001b[39m\u001b[38;5;124m'\u001b[39m]\n\u001b[1;32m----> 2\u001b[0m mylist\u001b[38;5;241m=\u001b[39m\u001b[38;5;28mlist\u001b[39m(\u001b[38;5;28;43mdict\u001b[39;49m\u001b[38;5;241;43m.\u001b[39;49m\u001b[43mformkey\u001b[49m(mylist))\n\u001b[0;32m      3\u001b[0m \u001b[38;5;28mprint\u001b[39m(mylist)\n",
      "\u001b[1;31mAttributeError\u001b[0m: type object 'dict' has no attribute 'formkey'"
     ]
    }
   ],
   "source": [
    "mylist=['a','b','a','c','c']\n",
    "mylist=list(dict.formkey(mylist))\n",
    "print(mylist)"
   ]
  },
  {
   "cell_type": "code",
   "execution_count": 2,
   "id": "12467610",
   "metadata": {},
   "outputs": [],
   "source": [
    "thelist7=['apple','banana','cherry','apple','orange','kiwi','mango','apple']"
   ]
  },
  {
   "cell_type": "code",
   "execution_count": 6,
   "id": "97ba64f0",
   "metadata": {},
   "outputs": [
    {
     "name": "stdout",
     "output_type": "stream",
     "text": [
      "['apple', 'banana', 'cherry', 'orange', 'kiwi', 'mango']\n"
     ]
    }
   ],
   "source": [
    "res_list=[]\n",
    "for i in thelist7:\n",
    "    if i not in res_list:\n",
    "        res_list.append(i)\n",
    "print(res_list)"
   ]
  },
  {
   "cell_type": "code",
   "execution_count": 7,
   "id": "d93a188f",
   "metadata": {},
   "outputs": [
    {
     "name": "stdout",
     "output_type": "stream",
     "text": [
      "apple\n",
      "banana\n",
      "cherry\n",
      "orange\n",
      "kiwi\n",
      "mango\n"
     ]
    }
   ],
   "source": [
    "res_list=[]\n",
    "for i in thelist7:\n",
    "    if i not in res_list:\n",
    "        res_list.append(i)\n",
    "        print(i)"
   ]
  },
  {
   "cell_type": "code",
   "execution_count": 8,
   "id": "d154c600",
   "metadata": {},
   "outputs": [
    {
     "name": "stdout",
     "output_type": "stream",
     "text": [
      "['apple']\n",
      "['apple', 'banana']\n",
      "['apple', 'banana', 'cherry']\n",
      "['apple', 'banana', 'cherry', 'orange']\n",
      "['apple', 'banana', 'cherry', 'orange', 'kiwi']\n",
      "['apple', 'banana', 'cherry', 'orange', 'kiwi', 'mango']\n"
     ]
    }
   ],
   "source": [
    "res_list=[]\n",
    "for i in thelist7:\n",
    "    if i not in res_list:\n",
    "        res_list.append(i)\n",
    "        print(res_list)"
   ]
  },
  {
   "cell_type": "code",
   "execution_count": 11,
   "id": "d79251a9",
   "metadata": {},
   "outputs": [],
   "source": [
    "thelist7=['apple','banana','cherry','apple','orange','kiwi','mango','apple']"
   ]
  },
  {
   "cell_type": "code",
   "execution_count": 9,
   "id": "ef563b75",
   "metadata": {},
   "outputs": [],
   "source": [
    "del thelist7"
   ]
  },
  {
   "cell_type": "code",
   "execution_count": 10,
   "id": "b530073d",
   "metadata": {},
   "outputs": [
    {
     "ename": "NameError",
     "evalue": "name 'thelist7' is not defined",
     "output_type": "error",
     "traceback": [
      "\u001b[1;31m---------------------------------------------------------------------------\u001b[0m",
      "\u001b[1;31mNameError\u001b[0m                                 Traceback (most recent call last)",
      "Input \u001b[1;32mIn [10]\u001b[0m, in \u001b[0;36m<cell line: 1>\u001b[1;34m()\u001b[0m\n\u001b[1;32m----> 1\u001b[0m \u001b[38;5;28mprint\u001b[39m(\u001b[43mthelist7\u001b[49m)\n",
      "\u001b[1;31mNameError\u001b[0m: name 'thelist7' is not defined"
     ]
    }
   ],
   "source": [
    "print(thelist7)"
   ]
  },
  {
   "cell_type": "code",
   "execution_count": 12,
   "id": "38965864",
   "metadata": {},
   "outputs": [],
   "source": [
    "# clear\n",
    "\n",
    "thelist7.clear()"
   ]
  },
  {
   "cell_type": "code",
   "execution_count": 13,
   "id": "8a2d595d",
   "metadata": {},
   "outputs": [
    {
     "name": "stdout",
     "output_type": "stream",
     "text": [
      "[]\n"
     ]
    }
   ],
   "source": [
    "print(thelist7)"
   ]
  },
  {
   "cell_type": "code",
   "execution_count": 14,
   "id": "221340c8",
   "metadata": {},
   "outputs": [],
   "source": [
    "# list with while loop\n",
    "\n",
    "thelist8=['apple','banana','cherry','apple','orange','kiwi','mango','apple']"
   ]
  },
  {
   "cell_type": "code",
   "execution_count": 15,
   "id": "6eafe917",
   "metadata": {},
   "outputs": [
    {
     "name": "stdout",
     "output_type": "stream",
     "text": [
      "apple\n",
      "banana\n",
      "cherry\n",
      "apple\n",
      "orange\n",
      "kiwi\n",
      "mango\n",
      "apple\n"
     ]
    }
   ],
   "source": [
    "i=0\n",
    "while i<len(thelist8):\n",
    "    print(thelist8[i])\n",
    "    i +=1"
   ]
  },
  {
   "cell_type": "code",
   "execution_count": null,
   "id": "3de0ab5b",
   "metadata": {},
   "outputs": [],
   "source": [
    "'''\n",
    "i=0\n",
    "while i<len(thelist8):\n",
    "    print(thelist8[i])\n",
    "    i +=1\n",
    "    if i == 'apple':\n",
    "        continue\n",
    "        print('/n')\n",
    "'''"
   ]
  },
  {
   "cell_type": "markdown",
   "id": "df07f847",
   "metadata": {},
   "source": [
    "# for loop in list"
   ]
  },
  {
   "cell_type": "code",
   "execution_count": 2,
   "id": "3cab55bf",
   "metadata": {},
   "outputs": [],
   "source": [
    "\n",
    "\n",
    "thelist8=['apple','banana','cherry','apple','orange','kiwi','mango','apple']"
   ]
  },
  {
   "cell_type": "code",
   "execution_count": 28,
   "id": "6e598aa1",
   "metadata": {},
   "outputs": [
    {
     "name": "stdout",
     "output_type": "stream",
     "text": [
      "apple\n",
      "banana\n",
      "cherry\n",
      "apple\n",
      "orange\n",
      "kiwi\n",
      "mango\n",
      "apple\n"
     ]
    }
   ],
   "source": [
    "for x in thelist8:\n",
    "    print(x)"
   ]
  },
  {
   "cell_type": "code",
   "execution_count": 30,
   "id": "cf2af118",
   "metadata": {},
   "outputs": [
    {
     "name": "stdout",
     "output_type": "stream",
     "text": [
      "press 1 to continue1\n",
      "1\n",
      "apple\n",
      "banana\n",
      "cherry\n",
      "press 1 to continue2\n",
      "2\n",
      "apple\n",
      "orange\n",
      "kiwi\n",
      "mango\n",
      "press 1 to continue\n",
      "\n",
      "apple\n"
     ]
    }
   ],
   "source": [
    "for x in thelist8:\n",
    "    if x == 'apple':\n",
    "        cont=input('press 1 to continue')\n",
    "        print(cont)\n",
    "    print(x)"
   ]
  },
  {
   "cell_type": "code",
   "execution_count": 6,
   "id": "bc3ec9c4",
   "metadata": {},
   "outputs": [
    {
     "name": "stdout",
     "output_type": "stream",
     "text": [
      "apple\n",
      "banana\n",
      "cherry\n",
      "it is aaple\n",
      "apple\n",
      "orange\n",
      "kiwi\n",
      "mango\n",
      "it is aaple\n",
      "apple\n"
     ]
    },
    {
     "ename": "IndexError",
     "evalue": "list index out of range",
     "output_type": "error",
     "traceback": [
      "\u001b[1;31m---------------------------------------------------------------------------\u001b[0m",
      "\u001b[1;31mIndexError\u001b[0m                                Traceback (most recent call last)",
      "Input \u001b[1;32mIn [6]\u001b[0m, in \u001b[0;36m<cell line: 2>\u001b[1;34m()\u001b[0m\n\u001b[0;32m      3\u001b[0m \u001b[38;5;28mprint\u001b[39m(thelist8[i])\n\u001b[0;32m      4\u001b[0m i\u001b[38;5;241m=\u001b[39mi\u001b[38;5;241m+\u001b[39m\u001b[38;5;241m1\u001b[39m\n\u001b[1;32m----> 5\u001b[0m \u001b[38;5;28;01mif\u001b[39;00m \u001b[43mthelist8\u001b[49m\u001b[43m[\u001b[49m\u001b[43mi\u001b[49m\u001b[43m]\u001b[49m\u001b[38;5;241m==\u001b[39m\u001b[38;5;124m'\u001b[39m\u001b[38;5;124mapple\u001b[39m\u001b[38;5;124m'\u001b[39m:\n\u001b[0;32m      6\u001b[0m     \u001b[38;5;28mprint\u001b[39m(\u001b[38;5;124m'\u001b[39m\u001b[38;5;124mit is aaple\u001b[39m\u001b[38;5;124m'\u001b[39m)\n",
      "\u001b[1;31mIndexError\u001b[0m: list index out of range"
     ]
    }
   ],
   "source": [
    "i=0\n",
    "while i<len(thelist8):\n",
    "    print(thelist8[i])\n",
    "    i=i+1\n",
    "    if thelist8[i]=='apple':\n",
    "        print('it is aaple')\n",
    "    "
   ]
  },
  {
   "cell_type": "code",
   "execution_count": 7,
   "id": "ef8e19f1",
   "metadata": {},
   "outputs": [
    {
     "name": "stdout",
     "output_type": "stream",
     "text": [
      "['banana', 'apple', 'mango']\n"
     ]
    }
   ],
   "source": [
    "# list comprehension\n",
    "\n",
    "fruits=['banana','apple','kiwi','mango']\n",
    "newlist=[]\n",
    "for x in fruits:\n",
    "    if 'a' in x:\n",
    "        newlist.append(x)\n",
    "print(newlist)\n",
    "        "
   ]
  },
  {
   "cell_type": "code",
   "execution_count": 8,
   "id": "5e1767a1",
   "metadata": {},
   "outputs": [
    {
     "name": "stdout",
     "output_type": "stream",
     "text": [
      "['banana', 'mango']\n"
     ]
    }
   ],
   "source": [
    "newlist2=[x for x in fruits if 'n' in x]\n",
    "print(newlist2)"
   ]
  },
  {
   "cell_type": "code",
   "execution_count": 9,
   "id": "d2efcc21",
   "metadata": {},
   "outputs": [],
   "source": [
    "fruits.sort()"
   ]
  },
  {
   "cell_type": "code",
   "execution_count": 10,
   "id": "9f3884d2",
   "metadata": {},
   "outputs": [
    {
     "data": {
      "text/plain": [
       "['apple', 'banana', 'kiwi', 'mango']"
      ]
     },
     "execution_count": 10,
     "metadata": {},
     "output_type": "execute_result"
    }
   ],
   "source": [
    "fruits"
   ]
  },
  {
   "cell_type": "code",
   "execution_count": 11,
   "id": "af8fcb45",
   "metadata": {},
   "outputs": [
    {
     "name": "stdout",
     "output_type": "stream",
     "text": [
      "[11, 16, 25, 52]\n"
     ]
    }
   ],
   "source": [
    "int1=[25,52,11,16]\n",
    "int1.sort()\n",
    "print(int1)"
   ]
  },
  {
   "cell_type": "code",
   "execution_count": 13,
   "id": "8726d033",
   "metadata": {},
   "outputs": [
    {
     "name": "stdout",
     "output_type": "stream",
     "text": [
      "[52, 25, 16, 11]\n"
     ]
    }
   ],
   "source": [
    "int1=[25,52,11,16]\n",
    "int1.sort(reverse=True)\n",
    "print(int1)"
   ]
  },
  {
   "cell_type": "code",
   "execution_count": 15,
   "id": "c33333e1",
   "metadata": {},
   "outputs": [
    {
     "name": "stdout",
     "output_type": "stream",
     "text": [
      "['a', 'aa', 'a2', 'sss']\n"
     ]
    }
   ],
   "source": [
    "int1=['a','aa','sss','a2']\n",
    "int1.sort(key=len)\n",
    "print(int1)"
   ]
  },
  {
   "cell_type": "code",
   "execution_count": 16,
   "id": "fe8acb5f",
   "metadata": {},
   "outputs": [],
   "source": [
    "mixlis=[25,52,'a','aa','sss','a2',11,16]"
   ]
  },
  {
   "cell_type": "code",
   "execution_count": 17,
   "id": "85272f06",
   "metadata": {},
   "outputs": [
    {
     "ename": "TypeError",
     "evalue": "'<' not supported between instances of 'str' and 'int'",
     "output_type": "error",
     "traceback": [
      "\u001b[1;31m---------------------------------------------------------------------------\u001b[0m",
      "\u001b[1;31mTypeError\u001b[0m                                 Traceback (most recent call last)",
      "Input \u001b[1;32mIn [17]\u001b[0m, in \u001b[0;36m<cell line: 1>\u001b[1;34m()\u001b[0m\n\u001b[1;32m----> 1\u001b[0m \u001b[43mmixlis\u001b[49m\u001b[38;5;241;43m.\u001b[39;49m\u001b[43msort\u001b[49m\u001b[43m(\u001b[49m\u001b[43m)\u001b[49m\n",
      "\u001b[1;31mTypeError\u001b[0m: '<' not supported between instances of 'str' and 'int'"
     ]
    }
   ],
   "source": [
    "mixlis.sort()"
   ]
  },
  {
   "cell_type": "code",
   "execution_count": 28,
   "id": "5a00f996",
   "metadata": {},
   "outputs": [],
   "source": [
    "int1=['Ba','axa','Csss','a2']\n",
    "# case sensitive \n"
   ]
  },
  {
   "cell_type": "code",
   "execution_count": 19,
   "id": "f29e0f14",
   "metadata": {},
   "outputs": [
    {
     "name": "stdout",
     "output_type": "stream",
     "text": [
      "['a2', 'axa', 'ba', 'csss']\n"
     ]
    }
   ],
   "source": [
    "int1.sort()\n",
    "print(int1)"
   ]
  },
  {
   "cell_type": "code",
   "execution_count": 29,
   "id": "f470066b",
   "metadata": {},
   "outputs": [],
   "source": [
    "int1.sort(key=str.upper)"
   ]
  },
  {
   "cell_type": "code",
   "execution_count": 30,
   "id": "4770d164",
   "metadata": {},
   "outputs": [
    {
     "name": "stdout",
     "output_type": "stream",
     "text": [
      "['a2', 'axa', 'Ba', 'Csss']\n"
     ]
    }
   ],
   "source": [
    "print(int1)"
   ]
  },
  {
   "cell_type": "code",
   "execution_count": 31,
   "id": "5f16f655",
   "metadata": {},
   "outputs": [],
   "source": [
    "# reverse\n",
    "\n",
    "int1.reverse()"
   ]
  },
  {
   "cell_type": "code",
   "execution_count": 32,
   "id": "d93ab0bb",
   "metadata": {},
   "outputs": [
    {
     "name": "stdout",
     "output_type": "stream",
     "text": [
      "['Csss', 'Ba', 'axa', 'a2']\n"
     ]
    }
   ],
   "source": [
    "print(int1)"
   ]
  },
  {
   "cell_type": "code",
   "execution_count": 33,
   "id": "4f718ce8",
   "metadata": {},
   "outputs": [],
   "source": [
    "int5=['Ba','axa','Csss','a2']"
   ]
  },
  {
   "cell_type": "code",
   "execution_count": 35,
   "id": "03820784",
   "metadata": {},
   "outputs": [
    {
     "name": "stdout",
     "output_type": "stream",
     "text": [
      "['Ba', 'axa', 'Csss', 'a2']\n"
     ]
    }
   ],
   "source": [
    "# copy a list\n",
    "\n",
    "myint5=int5.copy()\n",
    "print(myint5)"
   ]
  },
  {
   "cell_type": "code",
   "execution_count": 36,
   "id": "c39e8206",
   "metadata": {},
   "outputs": [],
   "source": [
    "# join two list\n",
    "\n",
    "list1=['a','b','z']\n",
    "list2=[1,5,9]"
   ]
  },
  {
   "cell_type": "code",
   "execution_count": 37,
   "id": "c133be01",
   "metadata": {},
   "outputs": [],
   "source": [
    "list3=list1+list2"
   ]
  },
  {
   "cell_type": "code",
   "execution_count": 38,
   "id": "1fda8b09",
   "metadata": {},
   "outputs": [
    {
     "name": "stdout",
     "output_type": "stream",
     "text": [
      "['a', 'b', 'z', 1, 5, 9]\n"
     ]
    }
   ],
   "source": [
    "print(list3)"
   ]
  },
  {
   "cell_type": "code",
   "execution_count": 39,
   "id": "a1e1fcb8",
   "metadata": {},
   "outputs": [
    {
     "name": "stdout",
     "output_type": "stream",
     "text": [
      "['a', 'b', 'z', 1, 5, 9]\n"
     ]
    }
   ],
   "source": [
    "for x in list2:\n",
    "    list1.append(x)\n",
    "print(list1)"
   ]
  },
  {
   "cell_type": "code",
   "execution_count": null,
   "id": "09736871",
   "metadata": {},
   "outputs": [],
   "source": [
    "# Q1)a shope will give discount of 10% it the cost of \n",
    "# purchased quantity is more than 1000.\n",
    "# each item is of 100.\n",
    "# ask user for quantity.\n",
    "\n",
    "# print the final amount."
   ]
  },
  {
   "cell_type": "code",
   "execution_count": null,
   "id": "69509ca8",
   "metadata": {},
   "outputs": [],
   "source": [
    "# Q2) A school has following rules for grading system:\n",
    "#  a. Below 25 - F \n",
    "# b. 25 to 45 - E \n",
    "# c. 45 to 50 - D\n",
    "# d. 50 to 60 - C\n",
    "# e. 60 to 80 - B\n",
    "# f. Above 80 - A\n",
    "# Ask user to enter marks and print the corresponding grade."
   ]
  }
 ],
 "metadata": {
  "kernelspec": {
   "display_name": "Python 3 (ipykernel)",
   "language": "python",
   "name": "python3"
  },
  "language_info": {
   "codemirror_mode": {
    "name": "ipython",
    "version": 3
   },
   "file_extension": ".py",
   "mimetype": "text/x-python",
   "name": "python",
   "nbconvert_exporter": "python",
   "pygments_lexer": "ipython3",
   "version": "3.9.12"
  }
 },
 "nbformat": 4,
 "nbformat_minor": 5
}
