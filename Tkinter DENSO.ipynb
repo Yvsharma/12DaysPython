{
 "cells": [
  {
   "cell_type": "code",
   "execution_count": null,
   "id": "b770289c",
   "metadata": {},
   "outputs": [],
   "source": [
    "list1=[1,2,'python']\n",
    "file=open('demo5.txt','w')\n"
   ]
  },
  {
   "cell_type": "code",
   "execution_count": 1,
   "id": "f93b96c4",
   "metadata": {},
   "outputs": [
    {
     "ename": "TypeError",
     "evalue": "write() argument must be str, not int",
     "output_type": "error",
     "traceback": [
      "\u001b[1;31m---------------------------------------------------------------------------\u001b[0m",
      "\u001b[1;31mTypeError\u001b[0m                                 Traceback (most recent call last)",
      "Input \u001b[1;32mIn [1]\u001b[0m, in \u001b[0;36m<cell line: 3>\u001b[1;34m()\u001b[0m\n\u001b[0;32m      1\u001b[0m l1\u001b[38;5;241m=\u001b[39m[\u001b[38;5;241m1\u001b[39m,\u001b[38;5;241m2\u001b[39m,\u001b[38;5;241m3\u001b[39m,\u001b[38;5;124m'\u001b[39m\u001b[38;5;124mPython\u001b[39m\u001b[38;5;124m'\u001b[39m,\u001b[38;5;124m'\u001b[39m\u001b[38;5;124mJava\u001b[39m\u001b[38;5;124m'\u001b[39m,\u001b[38;5;124m'\u001b[39m\u001b[38;5;124mPhp\u001b[39m\u001b[38;5;124m'\u001b[39m]\n\u001b[0;32m      2\u001b[0m file\u001b[38;5;241m=\u001b[39m\u001b[38;5;28mopen\u001b[39m(\u001b[38;5;124m'\u001b[39m\u001b[38;5;124mdemo5.txt\u001b[39m\u001b[38;5;124m'\u001b[39m,\u001b[38;5;124m'\u001b[39m\u001b[38;5;124mw\u001b[39m\u001b[38;5;124m'\u001b[39m)\n\u001b[1;32m----> 3\u001b[0m \u001b[43mfile\u001b[49m\u001b[38;5;241;43m.\u001b[39;49m\u001b[43mwritelines\u001b[49m\u001b[43m(\u001b[49m\u001b[43ml1\u001b[49m\u001b[43m)\u001b[49m\n\u001b[0;32m      4\u001b[0m \u001b[38;5;28mprint\u001b[39m(\u001b[38;5;124m'\u001b[39m\u001b[38;5;124mfile created\u001b[39m\u001b[38;5;124m'\u001b[39m)\n\u001b[0;32m      6\u001b[0m file\u001b[38;5;241m.\u001b[39mclose()\n",
      "\u001b[1;31mTypeError\u001b[0m: write() argument must be str, not int"
     ]
    }
   ],
   "source": [
    "l1=[1,2,3,'Python','Java','Php']\n",
    "file=open('demo5.txt','w')\n",
    "file.writelines(l1)\n",
    "print('file created')\n",
    "\n",
    "file.close()"
   ]
  },
  {
   "cell_type": "code",
   "execution_count": 6,
   "id": "a3cda9ea",
   "metadata": {},
   "outputs": [
    {
     "ename": "TypeError",
     "evalue": "write() argument must be str, not int",
     "output_type": "error",
     "traceback": [
      "\u001b[1;31m---------------------------------------------------------------------------\u001b[0m",
      "\u001b[1;31mTypeError\u001b[0m                                 Traceback (most recent call last)",
      "Input \u001b[1;32mIn [6]\u001b[0m, in \u001b[0;36m<cell line: 3>\u001b[1;34m()\u001b[0m\n\u001b[0;32m      1\u001b[0m l1\u001b[38;5;241m=\u001b[39m[\u001b[38;5;241m1\u001b[39m,\u001b[38;5;241m2\u001b[39m,\u001b[38;5;241m3\u001b[39m]\n\u001b[0;32m      2\u001b[0m file\u001b[38;5;241m=\u001b[39m\u001b[38;5;28mopen\u001b[39m(\u001b[38;5;124m'\u001b[39m\u001b[38;5;124mdemo5.txt\u001b[39m\u001b[38;5;124m'\u001b[39m,\u001b[38;5;124m'\u001b[39m\u001b[38;5;124mw\u001b[39m\u001b[38;5;124m'\u001b[39m)\n\u001b[1;32m----> 3\u001b[0m \u001b[43mfile\u001b[49m\u001b[38;5;241;43m.\u001b[39;49m\u001b[43mwritelines\u001b[49m\u001b[43m(\u001b[49m\u001b[43ml1\u001b[49m\u001b[43m)\u001b[49m\n\u001b[0;32m      4\u001b[0m \u001b[38;5;28mprint\u001b[39m(\u001b[38;5;124m'\u001b[39m\u001b[38;5;124mfile created\u001b[39m\u001b[38;5;124m'\u001b[39m)\n\u001b[0;32m      6\u001b[0m file\u001b[38;5;241m.\u001b[39mclose()\n",
      "\u001b[1;31mTypeError\u001b[0m: write() argument must be str, not int"
     ]
    }
   ],
   "source": [
    "l1=[1,2,3]\n",
    "file=open('demo5.txt','w')\n",
    "file.writelines(l1)\n",
    "print('file created')\n",
    "\n",
    "file.close()"
   ]
  },
  {
   "cell_type": "markdown",
   "id": "3ab9c321",
   "metadata": {},
   "source": [
    "# GUI"
   ]
  },
  {
   "cell_type": "markdown",
   "id": "2c41ef15",
   "metadata": {},
   "source": [
    "GUI = graphical user interface\n",
    "\n",
    "# TKinter GUI\n",
    "\n",
    "it is fastest and esiest library of python which is used to create a GUI.\n"
   ]
  },
  {
   "cell_type": "markdown",
   "id": "4f9b09b9",
   "metadata": {},
   "source": [
    "steps to create GUI application\n",
    "\n",
    "1) Import\n",
    "\n",
    "2) create main window\n",
    "\n",
    "3)add widgets\n",
    "\n",
    "4) specify all details and execute"
   ]
  },
  {
   "cell_type": "markdown",
   "id": "58f2d2ce",
   "metadata": {},
   "source": [
    "# import\n",
    "\n",
    "Import tkinter\n",
    "\n",
    "or  \n",
    "\n",
    "from tkinter import *"
   ]
  },
  {
   "cell_type": "markdown",
   "id": "f63cd09d",
   "metadata": {},
   "source": [
    "# there are 2 main methods\n",
    "\n",
    "1) Tk() - it is used to create main window\n",
    "\n",
    "2) ver.geometry - it define the size of the window\n",
    "\n",
    "3) mainloop() - it is used to run our application"
   ]
  },
  {
   "cell_type": "markdown",
   "id": "beb8bbff",
   "metadata": {},
   "source": [
    "# WIDGETS OF TKinter\n",
    "\n",
    "1) Button() - to add a button in our application.\n",
    "\n",
    "syntax - ver = Button(Mw, option=value)\n",
    "\n",
    "2) Entry() - to add user input in our application.\n",
    "\n",
    "syntax - ver = Entry(Mw, option=value)\n",
    "\n",
    "3) Label() - to add a display text in our application.\n",
    "\n",
    "syntax - ver = Label(Mw, option=value)\n",
    "\n"
   ]
  },
  {
   "cell_type": "code",
   "execution_count": 10,
   "id": "43fa0c6f",
   "metadata": {},
   "outputs": [],
   "source": [
    "# creating 1st window\n",
    "\n",
    "from tkinter import *\n",
    "\n",
    "root= Tk()\n",
    "# root.geometry()\n",
    "\n",
    "mainloop()\n"
   ]
  },
  {
   "cell_type": "code",
   "execution_count": 12,
   "id": "8186d64b",
   "metadata": {},
   "outputs": [],
   "source": [
    "# define size\n",
    "\n",
    "from tkinter import *\n",
    "\n",
    "root= Tk() # creating main window\n",
    "root.geometry('500x500') # define size of main window\n",
    "\n",
    "mainloop()"
   ]
  },
  {
   "cell_type": "code",
   "execution_count": 13,
   "id": "9aa92455",
   "metadata": {},
   "outputs": [],
   "source": [
    "# Naming main window\n",
    "\n",
    "from tkinter import *\n",
    "\n",
    "root= Tk() # creating main window\n",
    "root.geometry('500x500') # define size of main window\n",
    "root.title('My Window') # add title to it\n",
    "\n",
    "mainloop()"
   ]
  },
  {
   "cell_type": "code",
   "execution_count": 15,
   "id": "088e0191",
   "metadata": {},
   "outputs": [],
   "source": [
    "# Background color main window\n",
    "\n",
    "from tkinter import *\n",
    "\n",
    "root= Tk() # creating main window\n",
    "root.geometry('500x500') # define size of main window\n",
    "root.title('My Window')\n",
    "root.configure(bg='sky blue') # define background color\n",
    "\n",
    "mainloop()"
   ]
  },
  {
   "cell_type": "code",
   "execution_count": 23,
   "id": "1e81c112",
   "metadata": {},
   "outputs": [],
   "source": [
    "# creating labels\n",
    "\n",
    "from tkinter import *\n",
    "\n",
    "root= Tk() # creating main window\n",
    "root.geometry('500x500') # define size of main window\n",
    "root.title('My Window')\n",
    "root.configure(bg='sky blue') # define background color\n",
    "\n",
    "# creating labels\n",
    "\n",
    "rn=Label(root,text='Roll no.')\n",
    "rn.place(x=150,y=40)\n",
    "\n",
    "fn=Label(root,text='First name')\n",
    "fn.place(x=150,y=80)\n",
    "\n",
    "ln=Label(root,text='Last name')\n",
    "ln.place(x=150,y=120)\n",
    "\n",
    "em=Label(root,text='Email ID')\n",
    "em.place(x=150,y=160)\n",
    "\n",
    "mo=Label(root,text='Mobile no.')\n",
    "mo.place(x=150,y=200)\n",
    "\n",
    "mainloop()"
   ]
  },
  {
   "cell_type": "code",
   "execution_count": 28,
   "id": "a734fc9a",
   "metadata": {},
   "outputs": [],
   "source": [
    "# creating labels\n",
    "\n",
    "from tkinter import *\n",
    "\n",
    "root= Tk() # creating main window\n",
    "root.geometry('500x500') # define size of main window\n",
    "root.title('My Window')\n",
    "root.configure(bg='sky blue') # define background color\n",
    "\n",
    "# creating labels\n",
    "\n",
    "rn=Label(root,text='Roll no.')\n",
    "rn.place(x=150,y=40)\n",
    "\n",
    "fn=Label(root,text='First name')\n",
    "fn.place(x=150,y=80)\n",
    "\n",
    "ln=Label(root,text='Last name')\n",
    "ln.place(x=150,y=120)\n",
    "\n",
    "em=Label(root,text='Email ID')\n",
    "em.place(x=150,y=160)\n",
    "\n",
    "mo=Label(root,text='Mobile no.')\n",
    "mo.place(x=150,y=200)\n",
    "\n",
    "\n",
    "# user input\n",
    "\n",
    "ern=Entry()\n",
    "ern.place(x=250,y=40)\n",
    "\n",
    "efn=Entry()\n",
    "efn.place(x=250,y=80)\n",
    "\n",
    "eln=Entry()\n",
    "eln.place(x=250,y=120)\n",
    "\n",
    "eem=Entry()\n",
    "eem.place(x=250,y=160)\n",
    "\n",
    "emo=Entry()\n",
    "emo.place(x=250,y=200)\n",
    "\n",
    "\n",
    "\n",
    "mainloop()"
   ]
  },
  {
   "cell_type": "code",
   "execution_count": 30,
   "id": "3bbfa353",
   "metadata": {},
   "outputs": [],
   "source": [
    "# creating buttons\n",
    "\n",
    "from tkinter import *\n",
    "\n",
    "root= Tk() # creating main window\n",
    "root.geometry('500x500') # define size of main window\n",
    "root.title('My Window')\n",
    "root.configure(bg='sky blue') # define background color\n",
    "\n",
    "# creating labels\n",
    "\n",
    "rn=Label(root,text='Roll no.')\n",
    "rn.place(x=150,y=40)\n",
    "\n",
    "fn=Label(root,text='First name')\n",
    "fn.place(x=150,y=80)\n",
    "\n",
    "ln=Label(root,text='Last name')\n",
    "ln.place(x=150,y=120)\n",
    "\n",
    "em=Label(root,text='Email ID')\n",
    "em.place(x=150,y=160)\n",
    "\n",
    "mo=Label(root,text='Mobile no.')\n",
    "mo.place(x=150,y=200)\n",
    "\n",
    "\n",
    "# user input\n",
    "\n",
    "ern=Entry()\n",
    "ern.place(x=250,y=40)\n",
    "\n",
    "efn=Entry()\n",
    "efn.place(x=250,y=80)\n",
    "\n",
    "eln=Entry()\n",
    "eln.place(x=250,y=120)\n",
    "\n",
    "eem=Entry()\n",
    "eem.place(x=250,y=160)\n",
    "\n",
    "emo=Entry()\n",
    "emo.place(x=250,y=200)\n",
    "\n",
    "# creating button\n",
    "\n",
    "button1 = Button(root,text=\"SAVE\")\n",
    "button1.place(x=200,y=250)\n",
    "\n",
    "mainloop()"
   ]
  },
  {
   "cell_type": "markdown",
   "id": "06911055",
   "metadata": {},
   "source": [
    "# frozen set\n",
    "\n",
    "syntax = frozenset{'ver1', \"ver2\"}"
   ]
  },
  {
   "cell_type": "markdown",
   "id": "53c07b2a",
   "metadata": {},
   "source": [
    "all properties of set are in frozen set except immutable(can't change')"
   ]
  },
  {
   "cell_type": "code",
   "execution_count": 33,
   "id": "5ab3418d",
   "metadata": {},
   "outputs": [],
   "source": [
    "set1={'a',\"apple\",'b','Ball'}"
   ]
  },
  {
   "cell_type": "code",
   "execution_count": 34,
   "id": "54c13c7b",
   "metadata": {},
   "outputs": [
    {
     "data": {
      "text/plain": [
       "set"
      ]
     },
     "execution_count": 34,
     "metadata": {},
     "output_type": "execute_result"
    }
   ],
   "source": [
    "type(set1)"
   ]
  },
  {
   "cell_type": "code",
   "execution_count": 36,
   "id": "85625728",
   "metadata": {},
   "outputs": [],
   "source": [
    "set2=frozenset(set1)"
   ]
  },
  {
   "cell_type": "code",
   "execution_count": 39,
   "id": "76f58fcb",
   "metadata": {},
   "outputs": [
    {
     "name": "stdout",
     "output_type": "stream",
     "text": [
      "frozenset({'Ball', 'b', 'a', 'apple'})\n"
     ]
    }
   ],
   "source": [
    "print(set2)"
   ]
  },
  {
   "cell_type": "code",
   "execution_count": 40,
   "id": "554267d9",
   "metadata": {},
   "outputs": [
    {
     "data": {
      "text/plain": [
       "frozenset"
      ]
     },
     "execution_count": 40,
     "metadata": {},
     "output_type": "execute_result"
    }
   ],
   "source": [
    "type(set2)"
   ]
  },
  {
   "cell_type": "markdown",
   "id": "7f771e18",
   "metadata": {},
   "source": [
    "# JSON"
   ]
  },
  {
   "cell_type": "markdown",
   "id": "db7eb52f",
   "metadata": {},
   "source": [
    "json is a syntax for storing and exchanging data\n",
    "\n"
   ]
  },
  {
   "cell_type": "markdown",
   "id": "a9a2e198",
   "metadata": {},
   "source": [
    "inbuilt package for JSON is json"
   ]
  },
  {
   "cell_type": "code",
   "execution_count": 41,
   "id": "8db5b0a5",
   "metadata": {},
   "outputs": [],
   "source": [
    "# importing\n",
    "\n",
    "import json"
   ]
  },
  {
   "cell_type": "code",
   "execution_count": 44,
   "id": "34021c6e",
   "metadata": {},
   "outputs": [
    {
     "name": "stdout",
     "output_type": "stream",
     "text": [
      "{'a': 'Apple', 'b': 'Ball', 'c': 'cat'}\n"
     ]
    }
   ],
   "source": [
    "# parse JSON - Convert from JSON to Python\n",
    "\n",
    "x = '{\"a\":\"Apple\",\"b\":\"Ball\",\"c\":\"cat\"}'\n",
    "y= json.loads(x)\n",
    "print(y)"
   ]
  },
  {
   "cell_type": "code",
   "execution_count": 45,
   "id": "1a582fbe",
   "metadata": {},
   "outputs": [
    {
     "data": {
      "text/plain": [
       "dict"
      ]
     },
     "execution_count": 45,
     "metadata": {},
     "output_type": "execute_result"
    }
   ],
   "source": [
    "type(y)"
   ]
  },
  {
   "cell_type": "code",
   "execution_count": null,
   "id": "93e0dda6",
   "metadata": {},
   "outputs": [],
   "source": []
  }
 ],
 "metadata": {
  "kernelspec": {
   "display_name": "Python 3 (ipykernel)",
   "language": "python",
   "name": "python3"
  },
  "language_info": {
   "codemirror_mode": {
    "name": "ipython",
    "version": 3
   },
   "file_extension": ".py",
   "mimetype": "text/x-python",
   "name": "python",
   "nbconvert_exporter": "python",
   "pygments_lexer": "ipython3",
   "version": "3.9.12"
  }
 },
 "nbformat": 4,
 "nbformat_minor": 5
}
