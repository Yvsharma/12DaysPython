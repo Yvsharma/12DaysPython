{
 "cells": [
  {
   "cell_type": "code",
   "execution_count": 1,
   "id": "ae52e574",
   "metadata": {},
   "outputs": [
    {
     "name": "stdout",
     "output_type": "stream",
     "text": [
      "hello world\n"
     ]
    }
   ],
   "source": [
    "print('hello world')"
   ]
  },
  {
   "cell_type": "code",
   "execution_count": 2,
   "id": "77b45bbe",
   "metadata": {},
   "outputs": [
    {
     "name": "stdout",
     "output_type": "stream",
     "text": [
      "yash\n"
     ]
    }
   ],
   "source": [
    "name=input()"
   ]
  },
  {
   "cell_type": "code",
   "execution_count": 3,
   "id": "5580361a",
   "metadata": {},
   "outputs": [
    {
     "name": "stdout",
     "output_type": "stream",
     "text": [
      "enter your name : yash\n"
     ]
    }
   ],
   "source": [
    "name=input('enter your name : ')"
   ]
  },
  {
   "cell_type": "code",
   "execution_count": 4,
   "id": "de9a7017",
   "metadata": {},
   "outputs": [
    {
     "name": "stdout",
     "output_type": "stream",
     "text": [
      "enter your name : yash\n",
      "hello yash\n"
     ]
    }
   ],
   "source": [
    "name=input('enter your name : ')\n",
    "print('hello',name)"
   ]
  },
  {
   "cell_type": "code",
   "execution_count": 5,
   "id": "50658ac0",
   "metadata": {},
   "outputs": [
    {
     "name": "stdout",
     "output_type": "stream",
     "text": [
      "enter your age : 12\n",
      "Your age is 12\n"
     ]
    }
   ],
   "source": [
    "age=input('enter your age : ')\n",
    "print('Your age is',age)"
   ]
  },
  {
   "cell_type": "code",
   "execution_count": 6,
   "id": "2360900e",
   "metadata": {},
   "outputs": [
    {
     "name": "stdout",
     "output_type": "stream",
     "text": [
      "enter your age : 5\n"
     ]
    },
    {
     "ename": "TypeError",
     "evalue": "can only concatenate str (not \"int\") to str",
     "output_type": "error",
     "traceback": [
      "\u001b[1;31m---------------------------------------------------------------------------\u001b[0m",
      "\u001b[1;31mTypeError\u001b[0m                                 Traceback (most recent call last)",
      "Input \u001b[1;32mIn [6]\u001b[0m, in \u001b[0;36m<cell line: 2>\u001b[1;34m()\u001b[0m\n\u001b[0;32m      1\u001b[0m age\u001b[38;5;241m=\u001b[39m\u001b[38;5;28minput\u001b[39m(\u001b[38;5;124m'\u001b[39m\u001b[38;5;124menter your age : \u001b[39m\u001b[38;5;124m'\u001b[39m)\n\u001b[1;32m----> 2\u001b[0m \u001b[38;5;28mprint\u001b[39m(\u001b[43mage\u001b[49m\u001b[38;5;241;43m+\u001b[39;49m\u001b[38;5;241;43m5\u001b[39;49m)\n",
      "\u001b[1;31mTypeError\u001b[0m: can only concatenate str (not \"int\") to str"
     ]
    }
   ],
   "source": [
    "age=input('enter your age : ')\n",
    "print(age+5)"
   ]
  },
  {
   "cell_type": "code",
   "execution_count": 7,
   "id": "7a3ec31c",
   "metadata": {},
   "outputs": [
    {
     "name": "stdout",
     "output_type": "stream",
     "text": [
      "enter your age : 25\n",
      "25younger\n"
     ]
    }
   ],
   "source": [
    "age=input('enter your age : ')\n",
    "print(age+'younger')"
   ]
  },
  {
   "cell_type": "code",
   "execution_count": 8,
   "id": "383e8350",
   "metadata": {},
   "outputs": [
    {
     "name": "stdout",
     "output_type": "stream",
     "text": [
      "enter your age : 25\n",
      "30\n"
     ]
    }
   ],
   "source": [
    "age=input('enter your age : ')\n",
    "print(age+5)"
   ]
  },
  {
   "cell_type": "code",
   "execution_count": 9,
   "id": "eee7891f",
   "metadata": {},
   "outputs": [
    {
     "name": "stdout",
     "output_type": "stream",
     "text": [
      "enter your age : ten\n"
     ]
    },
    {
     "ename": "TypeError",
     "evalue": "can only concatenate str (not \"int\") to str",
     "output_type": "error",
     "traceback": [
      "\u001b[1;31m---------------------------------------------------------------------------\u001b[0m",
      "\u001b[1;31mTypeError\u001b[0m                                 Traceback (most recent call last)",
      "Input \u001b[1;32mIn [9]\u001b[0m, in \u001b[0;36m<cell line: 2>\u001b[1;34m()\u001b[0m\n\u001b[0;32m      1\u001b[0m age\u001b[38;5;241m=\u001b[39m\u001b[38;5;28minput\u001b[39m(\u001b[38;5;124m'\u001b[39m\u001b[38;5;124menter your age : \u001b[39m\u001b[38;5;124m'\u001b[39m)\n\u001b[1;32m----> 2\u001b[0m \u001b[38;5;28mprint\u001b[39m(\u001b[43mage\u001b[49m\u001b[38;5;241;43m+\u001b[39;49m\u001b[38;5;241;43m5\u001b[39;49m)\n",
      "\u001b[1;31mTypeError\u001b[0m: can only concatenate str (not \"int\") to str"
     ]
    }
   ],
   "source": [
    "age=input('enter your age : ')\n",
    "print(age+5)"
   ]
  },
  {
   "cell_type": "markdown",
   "id": "24f1a8dd",
   "metadata": {},
   "source": [
    "# data type"
   ]
  },
  {
   "cell_type": "code",
   "execution_count": null,
   "id": "1673c434",
   "metadata": {},
   "outputs": [],
   "source": [
    "Text type: str\n",
    "numeric value : int, float,complex\n",
    "Sequence type: list,tuple,range\n",
    "Mapping : Dict\n",
    "set type : Set,Frozenset\n",
    "Boolean type : True , False \n"
   ]
  },
  {
   "cell_type": "code",
   "execution_count": 11,
   "id": "473c591a",
   "metadata": {},
   "outputs": [],
   "source": [
    "a=5\n",
    "A=10"
   ]
  },
  {
   "cell_type": "code",
   "execution_count": 12,
   "id": "c89587ec",
   "metadata": {},
   "outputs": [
    {
     "name": "stdout",
     "output_type": "stream",
     "text": [
      "5\n"
     ]
    }
   ],
   "source": [
    "print(a)"
   ]
  },
  {
   "cell_type": "code",
   "execution_count": 13,
   "id": "a839f9f5",
   "metadata": {},
   "outputs": [
    {
     "name": "stdout",
     "output_type": "stream",
     "text": [
      "10\n"
     ]
    }
   ],
   "source": [
    "print(A)"
   ]
  },
  {
   "cell_type": "code",
   "execution_count": 14,
   "id": "297ce16a",
   "metadata": {},
   "outputs": [
    {
     "data": {
      "text/plain": [
       "5.9"
      ]
     },
     "execution_count": 14,
     "metadata": {},
     "output_type": "execute_result"
    }
   ],
   "source": [
    "2.5+3.4"
   ]
  },
  {
   "cell_type": "code",
   "execution_count": 15,
   "id": "c73d1569",
   "metadata": {},
   "outputs": [
    {
     "data": {
      "text/plain": [
       "5"
      ]
     },
     "execution_count": 15,
     "metadata": {},
     "output_type": "execute_result"
    }
   ],
   "source": [
    "int(2.5+3.4)"
   ]
  },
  {
   "cell_type": "markdown",
   "id": "2357e75b",
   "metadata": {},
   "source": [
    "# string"
   ]
  },
  {
   "cell_type": "code",
   "execution_count": 16,
   "id": "c4f73503",
   "metadata": {},
   "outputs": [],
   "source": [
    "name=\"Python classes\""
   ]
  },
  {
   "cell_type": "code",
   "execution_count": 17,
   "id": "072b1ee4",
   "metadata": {},
   "outputs": [
    {
     "name": "stdout",
     "output_type": "stream",
     "text": [
      "Python classes\n"
     ]
    }
   ],
   "source": [
    "print(name)"
   ]
  },
  {
   "cell_type": "code",
   "execution_count": null,
   "id": "85e9fc20",
   "metadata": {},
   "outputs": [],
   "source": [
    "#indexing\n",
    "\n",
    " 0 1 2 3 # left to right\n",
    " Y a s h\n",
    "-4-3-2-1  #right to left"
   ]
  },
  {
   "cell_type": "code",
   "execution_count": 19,
   "id": "ccaa1995",
   "metadata": {},
   "outputs": [],
   "source": [
    "name=('yash')"
   ]
  },
  {
   "cell_type": "code",
   "execution_count": 20,
   "id": "f1da6516",
   "metadata": {},
   "outputs": [
    {
     "data": {
      "text/plain": [
       "4"
      ]
     },
     "execution_count": 20,
     "metadata": {},
     "output_type": "execute_result"
    }
   ],
   "source": [
    "len(name)  #length "
   ]
  },
  {
   "cell_type": "code",
   "execution_count": 21,
   "id": "a4d5d8e3",
   "metadata": {},
   "outputs": [
    {
     "data": {
      "text/plain": [
       "6"
      ]
     },
     "execution_count": 21,
     "metadata": {},
     "output_type": "execute_result"
    }
   ],
   "source": [
    "len('python')"
   ]
  },
  {
   "cell_type": "code",
   "execution_count": 22,
   "id": "ebca0e04",
   "metadata": {},
   "outputs": [],
   "source": [
    "sen='everything is ok if you are ok'"
   ]
  },
  {
   "cell_type": "code",
   "execution_count": 23,
   "id": "358af056",
   "metadata": {},
   "outputs": [
    {
     "name": "stdout",
     "output_type": "stream",
     "text": [
      "True\n"
     ]
    }
   ],
   "source": [
    "# checking string\n",
    "\n",
    "print(\"ok\" in sen)"
   ]
  },
  {
   "cell_type": "code",
   "execution_count": 24,
   "id": "61d7c24f",
   "metadata": {},
   "outputs": [
    {
     "name": "stdout",
     "output_type": "stream",
     "text": [
      "False\n"
     ]
    }
   ],
   "source": [
    "print('yes' in sen)"
   ]
  },
  {
   "cell_type": "code",
   "execution_count": 25,
   "id": "b302bc35",
   "metadata": {},
   "outputs": [
    {
     "data": {
      "text/plain": [
       "True"
      ]
     },
     "execution_count": 25,
     "metadata": {},
     "output_type": "execute_result"
    }
   ],
   "source": [
    "5>2"
   ]
  },
  {
   "cell_type": "code",
   "execution_count": 26,
   "id": "ac0810d9",
   "metadata": {},
   "outputs": [
    {
     "data": {
      "text/plain": [
       "False"
      ]
     },
     "execution_count": 26,
     "metadata": {},
     "output_type": "execute_result"
    }
   ],
   "source": [
    "2>5"
   ]
  },
  {
   "cell_type": "code",
   "execution_count": 27,
   "id": "fe39e756",
   "metadata": {},
   "outputs": [
    {
     "name": "stdout",
     "output_type": "stream",
     "text": [
      "True\n"
     ]
    }
   ],
   "source": [
    "print('yes' not in sen)"
   ]
  },
  {
   "cell_type": "code",
   "execution_count": 28,
   "id": "cd4769d0",
   "metadata": {},
   "outputs": [],
   "source": [
    "sen2='everything is ok if you are ok'"
   ]
  },
  {
   "cell_type": "code",
   "execution_count": 29,
   "id": "96da2ccd",
   "metadata": {},
   "outputs": [
    {
     "name": "stdout",
     "output_type": "stream",
     "text": [
      "ok is present\n"
     ]
    }
   ],
   "source": [
    "if \"ok\" in sen2:\n",
    "    print('ok is present')\n"
   ]
  },
  {
   "cell_type": "code",
   "execution_count": 30,
   "id": "2c2b1970",
   "metadata": {},
   "outputs": [],
   "source": [
    "if \"yes\" in sen2:\n",
    "    print('ok is present')"
   ]
  },
  {
   "cell_type": "code",
   "execution_count": 31,
   "id": "5e8843f2",
   "metadata": {},
   "outputs": [
    {
     "name": "stdout",
     "output_type": "stream",
     "text": [
      "ok is present\n",
      "all ok\n"
     ]
    }
   ],
   "source": [
    "if \"ok\" in sen2:\n",
    "    print('ok is present')\n",
    "print('all ok')"
   ]
  },
  {
   "cell_type": "code",
   "execution_count": 33,
   "id": "e11bc996",
   "metadata": {},
   "outputs": [
    {
     "name": "stdout",
     "output_type": "stream",
     "text": [
      "all ok\n"
     ]
    }
   ],
   "source": [
    "if \"yes\" in sen2:\n",
    "    print('ok is present')\n",
    "print('all ok')"
   ]
  },
  {
   "cell_type": "code",
   "execution_count": null,
   "id": "513ab612",
   "metadata": {},
   "outputs": [],
   "source": [
    " 0 1 2 3 \n",
    " Y a s h\n",
    "-4-3-2-1"
   ]
  },
  {
   "cell_type": "code",
   "execution_count": 34,
   "id": "bb4126e9",
   "metadata": {},
   "outputs": [],
   "source": [
    "name1='yash'"
   ]
  },
  {
   "cell_type": "code",
   "execution_count": 35,
   "id": "fe8b8be4",
   "metadata": {},
   "outputs": [
    {
     "data": {
      "text/plain": [
       "'a'"
      ]
     },
     "execution_count": 35,
     "metadata": {},
     "output_type": "execute_result"
    }
   ],
   "source": [
    "name1[1]"
   ]
  },
  {
   "cell_type": "code",
   "execution_count": 36,
   "id": "37058822",
   "metadata": {},
   "outputs": [
    {
     "data": {
      "text/plain": [
       "'a'"
      ]
     },
     "execution_count": 36,
     "metadata": {},
     "output_type": "execute_result"
    }
   ],
   "source": [
    "name1[-3]"
   ]
  },
  {
   "cell_type": "code",
   "execution_count": 39,
   "id": "c9efa05c",
   "metadata": {},
   "outputs": [],
   "source": [
    "sen3='everything is ok if you are ok '"
   ]
  },
  {
   "cell_type": "code",
   "execution_count": 40,
   "id": "44437297",
   "metadata": {},
   "outputs": [
    {
     "data": {
      "text/plain": [
       "31"
      ]
     },
     "execution_count": 40,
     "metadata": {},
     "output_type": "execute_result"
    }
   ],
   "source": [
    "len(sen3)"
   ]
  },
  {
   "cell_type": "code",
   "execution_count": 41,
   "id": "0c70ea7f",
   "metadata": {},
   "outputs": [
    {
     "data": {
      "text/plain": [
       "'k'"
      ]
     },
     "execution_count": 41,
     "metadata": {},
     "output_type": "execute_result"
    }
   ],
   "source": [
    "sen3[15]"
   ]
  },
  {
   "cell_type": "code",
   "execution_count": null,
   "id": "c844626d",
   "metadata": {},
   "outputs": [],
   "source": [
    "[15,17]\n",
    "15= starting value\n",
    "17= ending value+1"
   ]
  },
  {
   "cell_type": "code",
   "execution_count": 44,
   "id": "ea2b7eb9",
   "metadata": {},
   "outputs": [
    {
     "data": {
      "text/plain": [
       "'ok '"
      ]
     },
     "execution_count": 44,
     "metadata": {},
     "output_type": "execute_result"
    }
   ],
   "source": [
    "sen3[14:17]"
   ]
  },
  {
   "cell_type": "code",
   "execution_count": 46,
   "id": "252f414a",
   "metadata": {},
   "outputs": [
    {
     "data": {
      "text/plain": [
       "'everything'"
      ]
     },
     "execution_count": 46,
     "metadata": {},
     "output_type": "execute_result"
    }
   ],
   "source": [
    "sen3[0:10]"
   ]
  },
  {
   "cell_type": "code",
   "execution_count": 47,
   "id": "3056b007",
   "metadata": {},
   "outputs": [
    {
     "data": {
      "text/plain": [
       "'everything'"
      ]
     },
     "execution_count": 47,
     "metadata": {},
     "output_type": "execute_result"
    }
   ],
   "source": [
    "sen3[:10] #starts from 0"
   ]
  },
  {
   "cell_type": "code",
   "execution_count": 48,
   "id": "efa3a827",
   "metadata": {},
   "outputs": [
    {
     "data": {
      "text/plain": [
       "'ou are ok '"
      ]
     },
     "execution_count": 48,
     "metadata": {},
     "output_type": "execute_result"
    }
   ],
   "source": [
    "sen3[21:] #end till last"
   ]
  },
  {
   "cell_type": "code",
   "execution_count": 53,
   "id": "4e32b3fc",
   "metadata": {},
   "outputs": [],
   "source": [
    "b= 'hello world'"
   ]
  },
  {
   "cell_type": "code",
   "execution_count": 54,
   "id": "429b622b",
   "metadata": {},
   "outputs": [
    {
     "data": {
      "text/plain": [
       "'llo'"
      ]
     },
     "execution_count": 54,
     "metadata": {},
     "output_type": "execute_result"
    }
   ],
   "source": [
    "b[2:5]"
   ]
  },
  {
   "cell_type": "code",
   "execution_count": 55,
   "id": "dd2fbf7f",
   "metadata": {},
   "outputs": [
    {
     "data": {
      "text/plain": [
       "''"
      ]
     },
     "execution_count": 55,
     "metadata": {},
     "output_type": "execute_result"
    }
   ],
   "source": [
    "b[5:2]"
   ]
  },
  {
   "cell_type": "code",
   "execution_count": 58,
   "id": "d02ab58d",
   "metadata": {},
   "outputs": [
    {
     "data": {
      "text/plain": [
       "'o '"
      ]
     },
     "execution_count": 58,
     "metadata": {},
     "output_type": "execute_result"
    }
   ],
   "source": [
    "b[-7:-5]"
   ]
  },
  {
   "cell_type": "markdown",
   "id": "38c3e2ab",
   "metadata": {},
   "source": [
    "# modify string"
   ]
  },
  {
   "cell_type": "code",
   "execution_count": 60,
   "id": "15e707a4",
   "metadata": {},
   "outputs": [],
   "source": [
    "a= 'Hello World!'"
   ]
  },
  {
   "cell_type": "code",
   "execution_count": 61,
   "id": "2fe03608",
   "metadata": {},
   "outputs": [
    {
     "data": {
      "text/plain": [
       "'HELLO WORLD!'"
      ]
     },
     "execution_count": 61,
     "metadata": {},
     "output_type": "execute_result"
    }
   ],
   "source": [
    "#upper case\n",
    "\n",
    "a.upper()"
   ]
  },
  {
   "cell_type": "code",
   "execution_count": 62,
   "id": "411459ce",
   "metadata": {},
   "outputs": [],
   "source": [
    "a='HELLO WORLD!'"
   ]
  },
  {
   "cell_type": "code",
   "execution_count": 63,
   "id": "c047656b",
   "metadata": {},
   "outputs": [
    {
     "data": {
      "text/plain": [
       "'hello world!'"
      ]
     },
     "execution_count": 63,
     "metadata": {},
     "output_type": "execute_result"
    }
   ],
   "source": [
    "# Lower case\n",
    "\n",
    "a.lower()"
   ]
  },
  {
   "cell_type": "code",
   "execution_count": 66,
   "id": "dbc5f206",
   "metadata": {},
   "outputs": [
    {
     "name": "stdout",
     "output_type": "stream",
     "text": [
      " HELLO WORLD! \n"
     ]
    }
   ],
   "source": [
    "a=' HELLO WORLD! '\n",
    "print(a)"
   ]
  },
  {
   "cell_type": "code",
   "execution_count": 67,
   "id": "00daabb1",
   "metadata": {},
   "outputs": [
    {
     "data": {
      "text/plain": [
       "'HELLO WORLD!'"
      ]
     },
     "execution_count": 67,
     "metadata": {},
     "output_type": "execute_result"
    }
   ],
   "source": [
    "# removing Whitespace\n",
    "\n",
    "a.strip()"
   ]
  },
  {
   "cell_type": "code",
   "execution_count": 68,
   "id": "7258de13",
   "metadata": {},
   "outputs": [
    {
     "data": {
      "text/plain": [
       "['HELLO', 'WORLD!']"
      ]
     },
     "execution_count": 68,
     "metadata": {},
     "output_type": "execute_result"
    }
   ],
   "source": [
    "# split string\n",
    "\n",
    "a.split()"
   ]
  },
  {
   "cell_type": "code",
   "execution_count": 73,
   "id": "e6029cc4",
   "metadata": {},
   "outputs": [
    {
     "name": "stdout",
     "output_type": "stream",
     "text": [
      " HELiO WORLD! \n"
     ]
    }
   ],
   "source": [
    "a=' HELiO WORLD! '\n",
    "print(a)"
   ]
  },
  {
   "cell_type": "code",
   "execution_count": 74,
   "id": "7f0a2435",
   "metadata": {},
   "outputs": [
    {
     "data": {
      "text/plain": [
       "' HELLO WORLD! '"
      ]
     },
     "execution_count": 74,
     "metadata": {},
     "output_type": "execute_result"
    }
   ],
   "source": [
    "# replace string\n",
    "\n",
    "a.replace('i','L')"
   ]
  },
  {
   "cell_type": "code",
   "execution_count": 75,
   "id": "eb644e17",
   "metadata": {},
   "outputs": [],
   "source": [
    "a2='hello WoRld'"
   ]
  },
  {
   "cell_type": "code",
   "execution_count": 76,
   "id": "4a89c943",
   "metadata": {},
   "outputs": [
    {
     "data": {
      "text/plain": [
       "'Hello world'"
      ]
     },
     "execution_count": 76,
     "metadata": {},
     "output_type": "execute_result"
    }
   ],
   "source": [
    "a2.capitalize()"
   ]
  },
  {
   "cell_type": "code",
   "execution_count": 77,
   "id": "c7905b7a",
   "metadata": {},
   "outputs": [
    {
     "data": {
      "text/plain": [
       "'hello world'"
      ]
     },
     "execution_count": 77,
     "metadata": {},
     "output_type": "execute_result"
    }
   ],
   "source": [
    "a2.casefold()"
   ]
  },
  {
   "cell_type": "code",
   "execution_count": 81,
   "id": "2708ae02",
   "metadata": {},
   "outputs": [
    {
     "data": {
      "text/plain": [
       "3"
      ]
     },
     "execution_count": 81,
     "metadata": {},
     "output_type": "execute_result"
    }
   ],
   "source": [
    "a2.count('l')"
   ]
  },
  {
   "cell_type": "markdown",
   "id": "5ac7978e",
   "metadata": {},
   "source": [
    "# concatenation  (adding) "
   ]
  },
  {
   "cell_type": "code",
   "execution_count": 82,
   "id": "9c354e15",
   "metadata": {},
   "outputs": [],
   "source": [
    "fname='abc'\n",
    "lname='xyz'"
   ]
  },
  {
   "cell_type": "code",
   "execution_count": 83,
   "id": "02cb1e16",
   "metadata": {},
   "outputs": [
    {
     "name": "stdout",
     "output_type": "stream",
     "text": [
      "abcxyz\n"
     ]
    }
   ],
   "source": [
    "print(fname+lname)"
   ]
  },
  {
   "cell_type": "code",
   "execution_count": 84,
   "id": "eed60871",
   "metadata": {},
   "outputs": [],
   "source": [
    "age=26"
   ]
  },
  {
   "cell_type": "code",
   "execution_count": 85,
   "id": "46f58b9e",
   "metadata": {},
   "outputs": [
    {
     "ename": "TypeError",
     "evalue": "can only concatenate str (not \"int\") to str",
     "output_type": "error",
     "traceback": [
      "\u001b[1;31m---------------------------------------------------------------------------\u001b[0m",
      "\u001b[1;31mTypeError\u001b[0m                                 Traceback (most recent call last)",
      "Input \u001b[1;32mIn [85]\u001b[0m, in \u001b[0;36m<cell line: 1>\u001b[1;34m()\u001b[0m\n\u001b[1;32m----> 1\u001b[0m \u001b[38;5;28mprint\u001b[39m(\u001b[43mfname\u001b[49m\u001b[38;5;241;43m+\u001b[39;49m\u001b[43mage\u001b[49m)\n",
      "\u001b[1;31mTypeError\u001b[0m: can only concatenate str (not \"int\") to str"
     ]
    }
   ],
   "source": [
    "print(fname+age)"
   ]
  },
  {
   "cell_type": "code",
   "execution_count": 86,
   "id": "f0dc3b75",
   "metadata": {},
   "outputs": [],
   "source": [
    "age='26'"
   ]
  },
  {
   "cell_type": "code",
   "execution_count": 87,
   "id": "508befca",
   "metadata": {},
   "outputs": [
    {
     "name": "stdout",
     "output_type": "stream",
     "text": [
      "abc26\n"
     ]
    }
   ],
   "source": [
    "print(fname+age)"
   ]
  },
  {
   "cell_type": "code",
   "execution_count": 88,
   "id": "85bdf191",
   "metadata": {},
   "outputs": [],
   "source": [
    "# format()"
   ]
  },
  {
   "cell_type": "code",
   "execution_count": 89,
   "id": "aa7767c4",
   "metadata": {},
   "outputs": [
    {
     "name": "stdout",
     "output_type": "stream",
     "text": [
      "your age is {}\n"
     ]
    }
   ],
   "source": [
    "fname='abc'\n",
    "age=26\n",
    "\n",
    "print('your age is {}')"
   ]
  },
  {
   "cell_type": "code",
   "execution_count": 90,
   "id": "ef9ff5f3",
   "metadata": {},
   "outputs": [],
   "source": [
    "sent='your age is {}'"
   ]
  },
  {
   "cell_type": "code",
   "execution_count": 91,
   "id": "863c46dd",
   "metadata": {},
   "outputs": [
    {
     "name": "stdout",
     "output_type": "stream",
     "text": [
      "your age is 26\n"
     ]
    }
   ],
   "source": [
    "print(sent.format(age))"
   ]
  },
  {
   "cell_type": "code",
   "execution_count": 92,
   "id": "9cc0dbbe",
   "metadata": {},
   "outputs": [],
   "source": [
    "quantity=3\n",
    "item=500\n",
    "price= 12.50"
   ]
  },
  {
   "cell_type": "code",
   "execution_count": 93,
   "id": "d718aadf",
   "metadata": {},
   "outputs": [],
   "source": [
    "order='i want {} pieces of item {} for {} rupees'"
   ]
  },
  {
   "cell_type": "code",
   "execution_count": 94,
   "id": "cc4982a3",
   "metadata": {},
   "outputs": [
    {
     "name": "stdout",
     "output_type": "stream",
     "text": [
      "i want 3 pieces of item 500 for 12.5 rupees\n"
     ]
    }
   ],
   "source": [
    "print(order.format(quantity,item,price))"
   ]
  },
  {
   "cell_type": "code",
   "execution_count": 95,
   "id": "f0840a4b",
   "metadata": {},
   "outputs": [
    {
     "ename": "SyntaxError",
     "evalue": "invalid syntax (3275690450.py, line 3)",
     "output_type": "error",
     "traceback": [
      "\u001b[1;36m  Input \u001b[1;32mIn [95]\u001b[1;36m\u001b[0m\n\u001b[1;33m    bname= 'this is the real'world' story'\u001b[0m\n\u001b[1;37m                             ^\u001b[0m\n\u001b[1;31mSyntaxError\u001b[0m\u001b[1;31m:\u001b[0m invalid syntax\n"
     ]
    }
   ],
   "source": [
    "# Escapes character\n",
    "\n",
    "bname= 'this is the real'world' story'"
   ]
  },
  {
   "cell_type": "code",
   "execution_count": 96,
   "id": "66c92dae",
   "metadata": {},
   "outputs": [],
   "source": [
    "bname= 'this is the real\\'world\\' story'"
   ]
  },
  {
   "cell_type": "code",
   "execution_count": 97,
   "id": "30d2dff7",
   "metadata": {},
   "outputs": [
    {
     "data": {
      "text/plain": [
       "\"this is the real'world' story\""
      ]
     },
     "execution_count": 97,
     "metadata": {},
     "output_type": "execute_result"
    }
   ],
   "source": [
    "bname"
   ]
  },
  {
   "cell_type": "code",
   "execution_count": 98,
   "id": "4419bc74",
   "metadata": {},
   "outputs": [],
   "source": [
    "# Booleans"
   ]
  },
  {
   "cell_type": "code",
   "execution_count": 105,
   "id": "7e1e76df",
   "metadata": {},
   "outputs": [],
   "source": [
    "a=200\n",
    "b=300"
   ]
  },
  {
   "cell_type": "code",
   "execution_count": 100,
   "id": "ce485d07",
   "metadata": {},
   "outputs": [
    {
     "data": {
      "text/plain": [
       "False"
      ]
     },
     "execution_count": 100,
     "metadata": {},
     "output_type": "execute_result"
    }
   ],
   "source": [
    "a>b"
   ]
  },
  {
   "cell_type": "code",
   "execution_count": 101,
   "id": "c4c0d098",
   "metadata": {},
   "outputs": [
    {
     "data": {
      "text/plain": [
       "True"
      ]
     },
     "execution_count": 101,
     "metadata": {},
     "output_type": "execute_result"
    }
   ],
   "source": [
    "a<b"
   ]
  },
  {
   "cell_type": "code",
   "execution_count": 102,
   "id": "880edb38",
   "metadata": {},
   "outputs": [
    {
     "data": {
      "text/plain": [
       "False"
      ]
     },
     "execution_count": 102,
     "metadata": {},
     "output_type": "execute_result"
    }
   ],
   "source": [
    "a==b"
   ]
  },
  {
   "cell_type": "code",
   "execution_count": 103,
   "id": "707213d3",
   "metadata": {},
   "outputs": [],
   "source": [
    "a=b"
   ]
  },
  {
   "cell_type": "code",
   "execution_count": 104,
   "id": "387c5089",
   "metadata": {},
   "outputs": [
    {
     "name": "stdout",
     "output_type": "stream",
     "text": [
      "300\n",
      "300\n"
     ]
    }
   ],
   "source": [
    "print(a)\n",
    "print(b)"
   ]
  },
  {
   "cell_type": "markdown",
   "id": "c527b2f9",
   "metadata": {},
   "source": [
    "# if else looping"
   ]
  },
  {
   "cell_type": "code",
   "execution_count": 106,
   "id": "54b28ff7",
   "metadata": {},
   "outputs": [],
   "source": [
    "if a>b:\n",
    "    print('a is greater')"
   ]
  },
  {
   "cell_type": "code",
   "execution_count": 107,
   "id": "bd30fbac",
   "metadata": {},
   "outputs": [
    {
     "name": "stdout",
     "output_type": "stream",
     "text": [
      "b is greater\n"
     ]
    }
   ],
   "source": [
    "if a>b:\n",
    "    print('a is greater')\n",
    "else:\n",
    "    print('b is greater')"
   ]
  },
  {
   "cell_type": "code",
   "execution_count": 108,
   "id": "40e1b74e",
   "metadata": {},
   "outputs": [],
   "source": [
    "#elif"
   ]
  },
  {
   "cell_type": "code",
   "execution_count": 109,
   "id": "37460488",
   "metadata": {},
   "outputs": [
    {
     "name": "stdout",
     "output_type": "stream",
     "text": [
      "a and b are equal\n"
     ]
    }
   ],
   "source": [
    "a=10\n",
    "b=10\n",
    "if a>b:\n",
    "    print('a is greater')\n",
    "elif a==b:\n",
    "    print('a and b are equal')\n",
    "else:\n",
    "    print('b is greater')"
   ]
  },
  {
   "cell_type": "markdown",
   "id": "d21f86d7",
   "metadata": {},
   "source": [
    "# Operators"
   ]
  },
  {
   "cell_type": "markdown",
   "id": "0d891d03",
   "metadata": {},
   "source": [
    "Arithmetic "
   ]
  },
  {
   "cell_type": "code",
   "execution_count": 110,
   "id": "d73ccbed",
   "metadata": {},
   "outputs": [
    {
     "ename": "SyntaxError",
     "evalue": "invalid syntax (3526900260.py, line 6)",
     "output_type": "error",
     "traceback": [
      "\u001b[1;36m  Input \u001b[1;32mIn [110]\u001b[1;36m\u001b[0m\n\u001b[1;33m    ** (Exponentiation)\u001b[0m\n\u001b[1;37m    ^\u001b[0m\n\u001b[1;31mSyntaxError\u001b[0m\u001b[1;31m:\u001b[0m invalid syntax\n"
     ]
    }
   ],
   "source": [
    "+ (Addition)\n",
    "- (Subtraction)\n",
    "* (Multiplication)\n",
    "/ (Division)\n",
    "% (Modulus)\n",
    "** (Exponentiation)"
   ]
  },
  {
   "cell_type": "code",
   "execution_count": 111,
   "id": "578787cb",
   "metadata": {},
   "outputs": [],
   "source": [
    "a=500\n",
    "b=5"
   ]
  },
  {
   "cell_type": "code",
   "execution_count": 112,
   "id": "91290ee8",
   "metadata": {},
   "outputs": [
    {
     "data": {
      "text/plain": [
       "505"
      ]
     },
     "execution_count": 112,
     "metadata": {},
     "output_type": "execute_result"
    }
   ],
   "source": [
    "a+b"
   ]
  },
  {
   "cell_type": "code",
   "execution_count": 113,
   "id": "712b4a26",
   "metadata": {},
   "outputs": [
    {
     "data": {
      "text/plain": [
       "495"
      ]
     },
     "execution_count": 113,
     "metadata": {},
     "output_type": "execute_result"
    }
   ],
   "source": [
    "a-b"
   ]
  },
  {
   "cell_type": "code",
   "execution_count": 114,
   "id": "e78e2019",
   "metadata": {},
   "outputs": [
    {
     "data": {
      "text/plain": [
       "2500"
      ]
     },
     "execution_count": 114,
     "metadata": {},
     "output_type": "execute_result"
    }
   ],
   "source": [
    "a*b"
   ]
  },
  {
   "cell_type": "code",
   "execution_count": 115,
   "id": "b127c297",
   "metadata": {},
   "outputs": [
    {
     "data": {
      "text/plain": [
       "100.0"
      ]
     },
     "execution_count": 115,
     "metadata": {},
     "output_type": "execute_result"
    }
   ],
   "source": [
    "a/b"
   ]
  },
  {
   "cell_type": "code",
   "execution_count": 116,
   "id": "30c2dd13",
   "metadata": {},
   "outputs": [
    {
     "data": {
      "text/plain": [
       "31250000000000"
      ]
     },
     "execution_count": 116,
     "metadata": {},
     "output_type": "execute_result"
    }
   ],
   "source": [
    "a**b"
   ]
  },
  {
   "cell_type": "code",
   "execution_count": 117,
   "id": "87346914",
   "metadata": {},
   "outputs": [
    {
     "data": {
      "text/plain": [
       "25"
      ]
     },
     "execution_count": 117,
     "metadata": {},
     "output_type": "execute_result"
    }
   ],
   "source": [
    "b**2"
   ]
  },
  {
   "cell_type": "code",
   "execution_count": 118,
   "id": "9ff4ac09",
   "metadata": {},
   "outputs": [],
   "source": [
    "# Assignment "
   ]
  },
  {
   "cell_type": "code",
   "execution_count": 119,
   "id": "d55c3733",
   "metadata": {},
   "outputs": [
    {
     "ename": "SyntaxError",
     "evalue": "invalid syntax (3632138542.py, line 1)",
     "output_type": "error",
     "traceback": [
      "\u001b[1;36m  Input \u001b[1;32mIn [119]\u001b[1;36m\u001b[0m\n\u001b[1;33m    =\u001b[0m\n\u001b[1;37m    ^\u001b[0m\n\u001b[1;31mSyntaxError\u001b[0m\u001b[1;31m:\u001b[0m invalid syntax\n"
     ]
    }
   ],
   "source": [
    "=\n"
   ]
  },
  {
   "cell_type": "code",
   "execution_count": 120,
   "id": "60ad89f6",
   "metadata": {},
   "outputs": [],
   "source": [
    "b +=3 # b=b+3"
   ]
  },
  {
   "cell_type": "code",
   "execution_count": 121,
   "id": "150b57d4",
   "metadata": {},
   "outputs": [
    {
     "name": "stdout",
     "output_type": "stream",
     "text": [
      "8\n"
     ]
    }
   ],
   "source": [
    "print(b)"
   ]
  },
  {
   "cell_type": "code",
   "execution_count": 122,
   "id": "c26309b5",
   "metadata": {},
   "outputs": [],
   "source": [
    "b -=3"
   ]
  },
  {
   "cell_type": "code",
   "execution_count": 123,
   "id": "01ae9b75",
   "metadata": {},
   "outputs": [
    {
     "name": "stdout",
     "output_type": "stream",
     "text": [
      "5\n"
     ]
    }
   ],
   "source": [
    "print(b)"
   ]
  },
  {
   "cell_type": "code",
   "execution_count": null,
   "id": "a60da641",
   "metadata": {},
   "outputs": [],
   "source": [
    "*=\n",
    "/=\n",
    "%="
   ]
  },
  {
   "cell_type": "code",
   "execution_count": 126,
   "id": "52aca290",
   "metadata": {},
   "outputs": [],
   "source": [
    "a//=10"
   ]
  },
  {
   "cell_type": "code",
   "execution_count": 127,
   "id": "920fd929",
   "metadata": {},
   "outputs": [
    {
     "name": "stdout",
     "output_type": "stream",
     "text": [
      "10\n"
     ]
    }
   ],
   "source": [
    "print(a)"
   ]
  },
  {
   "cell_type": "code",
   "execution_count": null,
   "id": "ee1b14a7",
   "metadata": {},
   "outputs": [],
   "source": [
    "'''\n",
    "user service year ( >5 they can avail bonus)\n",
    "salary (10%)\n",
    "\n",
    "exp o > ser\n",
    "salary \n",
    "bonus\n",
    "salary+bonus\n",
    "'''"
   ]
  },
  {
   "cell_type": "code",
   "execution_count": null,
   "id": "568c05b0",
   "metadata": {},
   "outputs": [],
   "source": [
    "# logical operator\n",
    "\n",
    "and (both the condition is true)\n",
    "or (either one condition is true)\n",
    "not "
   ]
  },
  {
   "cell_type": "code",
   "execution_count": 128,
   "id": "2def792c",
   "metadata": {},
   "outputs": [],
   "source": [
    "a=5\n",
    "b=7\n",
    "c=3"
   ]
  },
  {
   "cell_type": "code",
   "execution_count": 129,
   "id": "1025e323",
   "metadata": {},
   "outputs": [
    {
     "name": "stdout",
     "output_type": "stream",
     "text": [
      "b is Gratest\n"
     ]
    }
   ],
   "source": [
    "if a>b and a>c:\n",
    "    print('a is gratest')\n",
    "elif b>a and b>c:\n",
    "    print('b is Gratest')\n",
    "else:\n",
    "    ('c is gratest')"
   ]
  },
  {
   "cell_type": "code",
   "execution_count": 131,
   "id": "12fc0a56",
   "metadata": {},
   "outputs": [
    {
     "data": {
      "text/plain": [
       "True"
      ]
     },
     "execution_count": 131,
     "metadata": {},
     "output_type": "execute_result"
    }
   ],
   "source": [
    "a>1 and a>4 # a>1 true a>4 true"
   ]
  },
  {
   "cell_type": "code",
   "execution_count": 132,
   "id": "98ff530d",
   "metadata": {},
   "outputs": [
    {
     "data": {
      "text/plain": [
       "False"
      ]
     },
     "execution_count": 132,
     "metadata": {},
     "output_type": "execute_result"
    }
   ],
   "source": [
    "a>1 and a>6 #a>1 true a>6 false"
   ]
  },
  {
   "cell_type": "code",
   "execution_count": 133,
   "id": "ad49645e",
   "metadata": {},
   "outputs": [
    {
     "data": {
      "text/plain": [
       "False"
      ]
     },
     "execution_count": 133,
     "metadata": {},
     "output_type": "execute_result"
    }
   ],
   "source": [
    "a>1 and a<5 #a>1 true a<5 false"
   ]
  },
  {
   "cell_type": "code",
   "execution_count": 134,
   "id": "6dac84cd",
   "metadata": {},
   "outputs": [
    {
     "data": {
      "text/plain": [
       "True"
      ]
     },
     "execution_count": 134,
     "metadata": {},
     "output_type": "execute_result"
    }
   ],
   "source": [
    "a>1 or a<5 #a>1 true a<5 false"
   ]
  },
  {
   "cell_type": "code",
   "execution_count": 135,
   "id": "069beeb3",
   "metadata": {},
   "outputs": [
    {
     "data": {
      "text/plain": [
       "False"
      ]
     },
     "execution_count": 135,
     "metadata": {},
     "output_type": "execute_result"
    }
   ],
   "source": [
    "not(a>1 and a>4) # a>1 true a>4 true"
   ]
  },
  {
   "cell_type": "code",
   "execution_count": 136,
   "id": "ce6dcde4",
   "metadata": {},
   "outputs": [],
   "source": [
    "# identity operator"
   ]
  },
  {
   "cell_type": "code",
   "execution_count": null,
   "id": "01bb0efc",
   "metadata": {},
   "outputs": [],
   "source": [
    "is (return ans in True or False)\n",
    "is not (return ans in True or False)"
   ]
  },
  {
   "cell_type": "code",
   "execution_count": 137,
   "id": "f6d6aa8a",
   "metadata": {},
   "outputs": [],
   "source": [
    "a=5\n",
    "b=7"
   ]
  },
  {
   "cell_type": "code",
   "execution_count": 138,
   "id": "0103f2e7",
   "metadata": {},
   "outputs": [
    {
     "data": {
      "text/plain": [
       "False"
      ]
     },
     "execution_count": 138,
     "metadata": {},
     "output_type": "execute_result"
    }
   ],
   "source": [
    "a is b"
   ]
  },
  {
   "cell_type": "code",
   "execution_count": 139,
   "id": "0d4a2af9",
   "metadata": {},
   "outputs": [
    {
     "data": {
      "text/plain": [
       "False"
      ]
     },
     "execution_count": 139,
     "metadata": {},
     "output_type": "execute_result"
    }
   ],
   "source": [
    "a==b"
   ]
  },
  {
   "cell_type": "code",
   "execution_count": 140,
   "id": "6a22c5c7",
   "metadata": {},
   "outputs": [
    {
     "data": {
      "text/plain": [
       "False"
      ]
     },
     "execution_count": 140,
     "metadata": {},
     "output_type": "execute_result"
    }
   ],
   "source": [
    "a is b"
   ]
  },
  {
   "cell_type": "code",
   "execution_count": 141,
   "id": "f0795a29",
   "metadata": {},
   "outputs": [],
   "source": [
    "a=b='yash'"
   ]
  },
  {
   "cell_type": "code",
   "execution_count": 142,
   "id": "2804b466",
   "metadata": {},
   "outputs": [
    {
     "data": {
      "text/plain": [
       "True"
      ]
     },
     "execution_count": 142,
     "metadata": {},
     "output_type": "execute_result"
    }
   ],
   "source": [
    "a is b"
   ]
  },
  {
   "cell_type": "code",
   "execution_count": null,
   "id": "c17d32be",
   "metadata": {},
   "outputs": [],
   "source": [
    "# Membership operator\n",
    "\n",
    "in\n",
    "not in"
   ]
  },
  {
   "cell_type": "code",
   "execution_count": 143,
   "id": "56ef7894",
   "metadata": {},
   "outputs": [
    {
     "name": "stdout",
     "output_type": "stream",
     "text": [
      "4\n"
     ]
    }
   ],
   "source": [
    "# 2) WRP to find the square root (of a no. / from user)\n",
    "a=2\n",
    "print(a**2)"
   ]
  },
  {
   "cell_type": "code",
   "execution_count": 144,
   "id": "115f25a2",
   "metadata": {},
   "outputs": [
    {
     "name": "stdout",
     "output_type": "stream",
     "text": [
      "8\n"
     ]
    }
   ],
   "source": [
    "print(a**3)"
   ]
  },
  {
   "cell_type": "code",
   "execution_count": 145,
   "id": "82a824d8",
   "metadata": {},
   "outputs": [
    {
     "name": "stdout",
     "output_type": "stream",
     "text": [
      "give a no. : 64\n",
      "Square root of given no. is  8.0\n"
     ]
    }
   ],
   "source": [
    "num=int(input('give a no. : '))\n",
    "print('Square root of given no. is ', num**0.5)"
   ]
  },
  {
   "cell_type": "code",
   "execution_count": 146,
   "id": "35e791cb",
   "metadata": {},
   "outputs": [
    {
     "name": "stdout",
     "output_type": "stream",
     "text": [
      "give a no. : 81\n",
      "Square root of given no. is  9\n"
     ]
    }
   ],
   "source": [
    "num=int(input('give a no. : '))\n",
    "s_root=num**0.5\n",
    "print('Square root of given no. is ', int(s_root))"
   ]
  },
  {
   "cell_type": "code",
   "execution_count": null,
   "id": "6f461ee5",
   "metadata": {},
   "outputs": [],
   "source": [
    "# 3) WAP to fint the given no. is +ve, -ve or zero"
   ]
  }
 ],
 "metadata": {
  "kernelspec": {
   "display_name": "Python 3 (ipykernel)",
   "language": "python",
   "name": "python3"
  },
  "language_info": {
   "codemirror_mode": {
    "name": "ipython",
    "version": 3
   },
   "file_extension": ".py",
   "mimetype": "text/x-python",
   "name": "python",
   "nbconvert_exporter": "python",
   "pygments_lexer": "ipython3",
   "version": "3.9.12"
  }
 },
 "nbformat": 4,
 "nbformat_minor": 5
}
