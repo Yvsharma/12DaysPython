{
 "cells": [
  {
   "cell_type": "code",
   "execution_count": 1,
   "id": "87f30396",
   "metadata": {},
   "outputs": [],
   "source": [
    "# Q5) A school has following rules for grading system:\n",
    "# a. Below 25 - F \n",
    "# b. 25 to 45 - E \n",
    "# c. 45 to 50 - D\n",
    "# d. 50 to 60 - C\n",
    "# e. 60 to 80 - B\n",
    "# f. Above 80 - A\n",
    "# Ask user to enter marks and print the corresponding grade."
   ]
  },
  {
   "cell_type": "code",
   "execution_count": 6,
   "id": "655790dc",
   "metadata": {},
   "outputs": [
    {
     "name": "stdout",
     "output_type": "stream",
     "text": [
      "enter your numbers: -5\n",
      "f grade\n"
     ]
    }
   ],
   "source": [
    "num=int(input('enter your numbers: '))\n",
    "if num<25:\n",
    "    print('f grade')\n",
    "elif num>=25 and num<45:\n",
    "    print('E grade')\n",
    "elif num>=45 and num<50:\n",
    "    print('D grade')    \n",
    "elif num>=50 and num<60:\n",
    "    print('C grade')   \n",
    "elif num>=60 and num<80:\n",
    "    print('B grade')\n",
    "else:\n",
    "    print('A grade')"
   ]
  },
  {
   "cell_type": "markdown",
   "id": "d1907a15",
   "metadata": {},
   "source": [
    "# Tuples"
   ]
  },
  {
   "cell_type": "markdown",
   "id": "7bb530fa",
   "metadata": {},
   "source": [
    "A tuple is a collection which is ordered and unchangeable."
   ]
  },
  {
   "cell_type": "markdown",
   "id": "8a558324",
   "metadata": {},
   "source": [
    "tuples are written with round bracketes.\n",
    "( )"
   ]
  },
  {
   "cell_type": "code",
   "execution_count": 7,
   "id": "b967d92a",
   "metadata": {},
   "outputs": [],
   "source": [
    "# creating our 1st tuple\n",
    "\n",
    "tup=('apple','banana', 'cherry')"
   ]
  },
  {
   "cell_type": "code",
   "execution_count": 8,
   "id": "9e4db6dc",
   "metadata": {},
   "outputs": [
    {
     "name": "stdout",
     "output_type": "stream",
     "text": [
      "('apple', 'banana', 'cherry')\n"
     ]
    }
   ],
   "source": [
    "print(tup)"
   ]
  },
  {
   "cell_type": "code",
   "execution_count": 9,
   "id": "9d14e0dd",
   "metadata": {},
   "outputs": [
    {
     "data": {
      "text/plain": [
       "tuple"
      ]
     },
     "execution_count": 9,
     "metadata": {},
     "output_type": "execute_result"
    }
   ],
   "source": [
    "type(tup)"
   ]
  },
  {
   "cell_type": "code",
   "execution_count": 10,
   "id": "072d0353",
   "metadata": {},
   "outputs": [
    {
     "data": {
      "text/plain": [
       "'apple'"
      ]
     },
     "execution_count": 10,
     "metadata": {},
     "output_type": "execute_result"
    }
   ],
   "source": [
    "tup[0]"
   ]
  },
  {
   "cell_type": "code",
   "execution_count": 11,
   "id": "186a12f1",
   "metadata": {},
   "outputs": [
    {
     "data": {
      "text/plain": [
       "'cherry'"
      ]
     },
     "execution_count": 11,
     "metadata": {},
     "output_type": "execute_result"
    }
   ],
   "source": [
    "tup[-1]"
   ]
  },
  {
   "cell_type": "markdown",
   "id": "bb930c31",
   "metadata": {},
   "source": [
    "### it allows duplicates"
   ]
  },
  {
   "cell_type": "code",
   "execution_count": 12,
   "id": "b42b2704",
   "metadata": {},
   "outputs": [],
   "source": [
    "tup2=('apple','banana', 'cherry','apple','banana',)"
   ]
  },
  {
   "cell_type": "code",
   "execution_count": 13,
   "id": "52fe9bda",
   "metadata": {},
   "outputs": [
    {
     "name": "stdout",
     "output_type": "stream",
     "text": [
      "('apple', 'banana', 'cherry', 'apple', 'banana')\n"
     ]
    }
   ],
   "source": [
    "print(tup2)"
   ]
  },
  {
   "cell_type": "code",
   "execution_count": 14,
   "id": "573b4927",
   "metadata": {},
   "outputs": [
    {
     "data": {
      "text/plain": [
       "3"
      ]
     },
     "execution_count": 14,
     "metadata": {},
     "output_type": "execute_result"
    }
   ],
   "source": [
    "len(tup)"
   ]
  },
  {
   "cell_type": "code",
   "execution_count": 15,
   "id": "927f9ce2",
   "metadata": {},
   "outputs": [
    {
     "data": {
      "text/plain": [
       "5"
      ]
     },
     "execution_count": 15,
     "metadata": {},
     "output_type": "execute_result"
    }
   ],
   "source": [
    "len(tup2)"
   ]
  },
  {
   "cell_type": "code",
   "execution_count": 16,
   "id": "943bb0ad",
   "metadata": {},
   "outputs": [],
   "source": [
    "# create tuple with one item\n",
    "\n",
    "tup3=('apple')"
   ]
  },
  {
   "cell_type": "code",
   "execution_count": 17,
   "id": "987fd565",
   "metadata": {},
   "outputs": [
    {
     "data": {
      "text/plain": [
       "str"
      ]
     },
     "execution_count": 17,
     "metadata": {},
     "output_type": "execute_result"
    }
   ],
   "source": [
    "type(tup3)"
   ]
  },
  {
   "cell_type": "code",
   "execution_count": 18,
   "id": "1fbff6d7",
   "metadata": {},
   "outputs": [],
   "source": [
    "tup4=('apple',)"
   ]
  },
  {
   "cell_type": "code",
   "execution_count": 19,
   "id": "4ef94622",
   "metadata": {},
   "outputs": [
    {
     "data": {
      "text/plain": [
       "tuple"
      ]
     },
     "execution_count": 19,
     "metadata": {},
     "output_type": "execute_result"
    }
   ],
   "source": [
    "type(tup4)"
   ]
  },
  {
   "cell_type": "code",
   "execution_count": 20,
   "id": "76b9b10b",
   "metadata": {},
   "outputs": [
    {
     "data": {
      "text/plain": [
       "tuple"
      ]
     },
     "execution_count": 20,
     "metadata": {},
     "output_type": "execute_result"
    }
   ],
   "source": [
    "# tuples - data type\n",
    "\n",
    "tup_a=(1,2,3,4,5)\n",
    "tup_b=('a','b','c','d')\n",
    "tup_c=(True,False,False,True)\n",
    "type(tup_a)"
   ]
  },
  {
   "cell_type": "code",
   "execution_count": 21,
   "id": "4f3faa43",
   "metadata": {},
   "outputs": [
    {
     "data": {
      "text/plain": [
       "tuple"
      ]
     },
     "execution_count": 21,
     "metadata": {},
     "output_type": "execute_result"
    }
   ],
   "source": [
    "type(tup_c)"
   ]
  },
  {
   "cell_type": "code",
   "execution_count": 22,
   "id": "0c5a9187",
   "metadata": {},
   "outputs": [],
   "source": [
    "# tuple constructor\n",
    "\n",
    "tup_con=tuple(('apple','banana', 'cherry'))"
   ]
  },
  {
   "cell_type": "code",
   "execution_count": 23,
   "id": "11bd4aed",
   "metadata": {},
   "outputs": [
    {
     "name": "stdout",
     "output_type": "stream",
     "text": [
      "('apple', 'banana', 'cherry')\n"
     ]
    }
   ],
   "source": [
    "print(tup_con)"
   ]
  },
  {
   "cell_type": "code",
   "execution_count": 24,
   "id": "e425517c",
   "metadata": {},
   "outputs": [
    {
     "data": {
      "text/plain": [
       "tuple"
      ]
     },
     "execution_count": 24,
     "metadata": {},
     "output_type": "execute_result"
    }
   ],
   "source": [
    "type(tup_con)"
   ]
  },
  {
   "cell_type": "code",
   "execution_count": 25,
   "id": "5ecc4719",
   "metadata": {},
   "outputs": [
    {
     "data": {
      "text/plain": [
       "'cherry'"
      ]
     },
     "execution_count": 25,
     "metadata": {},
     "output_type": "execute_result"
    }
   ],
   "source": [
    "# access tuple items\n",
    "\n",
    "tup_con[2]"
   ]
  },
  {
   "cell_type": "code",
   "execution_count": 26,
   "id": "c03450ca",
   "metadata": {},
   "outputs": [
    {
     "data": {
      "text/plain": [
       "'banana'"
      ]
     },
     "execution_count": 26,
     "metadata": {},
     "output_type": "execute_result"
    }
   ],
   "source": [
    "tup_con[-2]"
   ]
  },
  {
   "cell_type": "code",
   "execution_count": 27,
   "id": "fd9e0e8e",
   "metadata": {},
   "outputs": [],
   "source": [
    "tup_fru=('apple','banana', 'cherry','apple','banana')"
   ]
  },
  {
   "cell_type": "code",
   "execution_count": 29,
   "id": "cebab633",
   "metadata": {},
   "outputs": [
    {
     "data": {
      "text/plain": [
       "('cherry', 'apple', 'banana')"
      ]
     },
     "execution_count": 29,
     "metadata": {},
     "output_type": "execute_result"
    }
   ],
   "source": [
    "# range of tuple\n",
    "\n",
    "tup_fru[2:5]"
   ]
  },
  {
   "cell_type": "code",
   "execution_count": 30,
   "id": "88e6a51b",
   "metadata": {},
   "outputs": [
    {
     "data": {
      "text/plain": [
       "('apple', 'banana', 'cherry')"
      ]
     },
     "execution_count": 30,
     "metadata": {},
     "output_type": "execute_result"
    }
   ],
   "source": [
    "tup_fru[:3]"
   ]
  },
  {
   "cell_type": "code",
   "execution_count": 31,
   "id": "d740a120",
   "metadata": {},
   "outputs": [
    {
     "data": {
      "text/plain": [
       "('apple', 'banana')"
      ]
     },
     "execution_count": 31,
     "metadata": {},
     "output_type": "execute_result"
    }
   ],
   "source": [
    "tup_fru[3:]"
   ]
  },
  {
   "cell_type": "code",
   "execution_count": 32,
   "id": "eb04da23",
   "metadata": {},
   "outputs": [
    {
     "name": "stdout",
     "output_type": "stream",
     "text": [
      "yes cherry is in the tuple\n"
     ]
    }
   ],
   "source": [
    "# check if item exists\n",
    "\n",
    "if 'cherry' in tup_fru:\n",
    "    print('yes cherry is in the tuple')"
   ]
  },
  {
   "cell_type": "code",
   "execution_count": 33,
   "id": "9f26756c",
   "metadata": {},
   "outputs": [],
   "source": [
    "# change tuple values\n",
    "\n",
    "x=('aa','df','dfg','etvg')\n"
   ]
  },
  {
   "cell_type": "code",
   "execution_count": 34,
   "id": "4aed46b3",
   "metadata": {},
   "outputs": [
    {
     "ename": "TypeError",
     "evalue": "'tuple' object does not support item assignment",
     "output_type": "error",
     "traceback": [
      "\u001b[1;31m---------------------------------------------------------------------------\u001b[0m",
      "\u001b[1;31mTypeError\u001b[0m                                 Traceback (most recent call last)",
      "Input \u001b[1;32mIn [34]\u001b[0m, in \u001b[0;36m<cell line: 1>\u001b[1;34m()\u001b[0m\n\u001b[1;32m----> 1\u001b[0m x[\u001b[38;5;241m2\u001b[39m]\u001b[38;5;241m=\u001b[39m\u001b[38;5;124m'\u001b[39m\u001b[38;5;124mcow\u001b[39m\u001b[38;5;124m'\u001b[39m\n",
      "\u001b[1;31mTypeError\u001b[0m: 'tuple' object does not support item assignment"
     ]
    }
   ],
   "source": [
    "x[2]='cow'"
   ]
  },
  {
   "cell_type": "code",
   "execution_count": 35,
   "id": "f40cd29e",
   "metadata": {},
   "outputs": [],
   "source": [
    "y=list(x)"
   ]
  },
  {
   "cell_type": "code",
   "execution_count": 36,
   "id": "9408936f",
   "metadata": {},
   "outputs": [
    {
     "name": "stdout",
     "output_type": "stream",
     "text": [
      "['aa', 'df', 'dfg', 'etvg']\n"
     ]
    }
   ],
   "source": [
    "print(y)"
   ]
  },
  {
   "cell_type": "code",
   "execution_count": 37,
   "id": "6974f57e",
   "metadata": {},
   "outputs": [],
   "source": [
    "y[2]='cow'"
   ]
  },
  {
   "cell_type": "code",
   "execution_count": 38,
   "id": "9befb291",
   "metadata": {},
   "outputs": [
    {
     "name": "stdout",
     "output_type": "stream",
     "text": [
      "['aa', 'df', 'cow', 'etvg']\n"
     ]
    }
   ],
   "source": [
    "print(y)"
   ]
  },
  {
   "cell_type": "code",
   "execution_count": 39,
   "id": "399db763",
   "metadata": {},
   "outputs": [],
   "source": [
    "x=tuple(y)"
   ]
  },
  {
   "cell_type": "code",
   "execution_count": 40,
   "id": "d6d0b77b",
   "metadata": {},
   "outputs": [
    {
     "name": "stdout",
     "output_type": "stream",
     "text": [
      "('aa', 'df', 'cow', 'etvg')\n"
     ]
    }
   ],
   "source": [
    "print(x)"
   ]
  },
  {
   "cell_type": "code",
   "execution_count": 41,
   "id": "2ad8e489",
   "metadata": {},
   "outputs": [],
   "source": [
    " # add items\n",
    "    \n",
    "thistuple=('apple', 'banana','cherry')\n",
    "newlist=list(thistuple)"
   ]
  },
  {
   "cell_type": "code",
   "execution_count": 43,
   "id": "04411500",
   "metadata": {},
   "outputs": [],
   "source": [
    "newlist.append('orange')"
   ]
  },
  {
   "cell_type": "code",
   "execution_count": 45,
   "id": "eb35786d",
   "metadata": {},
   "outputs": [],
   "source": [
    "thistuple=tuple(newlist)"
   ]
  },
  {
   "cell_type": "code",
   "execution_count": 46,
   "id": "5ed54f7b",
   "metadata": {},
   "outputs": [
    {
     "name": "stdout",
     "output_type": "stream",
     "text": [
      "('apple', 'banana', 'cherry', 'orange')\n"
     ]
    }
   ],
   "source": [
    "print(thistuple)"
   ]
  },
  {
   "cell_type": "code",
   "execution_count": 47,
   "id": "e2243223",
   "metadata": {},
   "outputs": [],
   "source": [
    "thisnewtup=(1,2,3)"
   ]
  },
  {
   "cell_type": "code",
   "execution_count": 48,
   "id": "00220360",
   "metadata": {},
   "outputs": [],
   "source": [
    "thistuple=thistuple+thisnewtup"
   ]
  },
  {
   "cell_type": "code",
   "execution_count": 49,
   "id": "fd11a1d8",
   "metadata": {},
   "outputs": [
    {
     "name": "stdout",
     "output_type": "stream",
     "text": [
      "('apple', 'banana', 'cherry', 'orange', 1, 2, 3)\n"
     ]
    }
   ],
   "source": [
    "print(thistuple)"
   ]
  },
  {
   "cell_type": "code",
   "execution_count": 50,
   "id": "3baa9869",
   "metadata": {},
   "outputs": [],
   "source": [
    "# remove items\n",
    "thistuple=('apple', 'banana','cherry')\n",
    "newlist=list(thistuple)\n",
    "newlist.remove('banana')\n",
    "thistuple=tuple(newlist)"
   ]
  },
  {
   "cell_type": "code",
   "execution_count": 51,
   "id": "8144fcd1",
   "metadata": {},
   "outputs": [
    {
     "name": "stdout",
     "output_type": "stream",
     "text": [
      "('apple', 'cherry')\n"
     ]
    }
   ],
   "source": [
    "print(thistuple)"
   ]
  },
  {
   "cell_type": "code",
   "execution_count": 52,
   "id": "163b97aa",
   "metadata": {},
   "outputs": [],
   "source": [
    "thistuple=('apple', 'banana','cherry')"
   ]
  },
  {
   "cell_type": "code",
   "execution_count": 53,
   "id": "28502775",
   "metadata": {},
   "outputs": [],
   "source": [
    "del thistuple"
   ]
  },
  {
   "cell_type": "code",
   "execution_count": 55,
   "id": "d1202fbb",
   "metadata": {},
   "outputs": [
    {
     "ename": "NameError",
     "evalue": "name 'thistuple' is not defined",
     "output_type": "error",
     "traceback": [
      "\u001b[1;31m---------------------------------------------------------------------------\u001b[0m",
      "\u001b[1;31mNameError\u001b[0m                                 Traceback (most recent call last)",
      "Input \u001b[1;32mIn [55]\u001b[0m, in \u001b[0;36m<cell line: 1>\u001b[1;34m()\u001b[0m\n\u001b[1;32m----> 1\u001b[0m \u001b[38;5;28mprint\u001b[39m(\u001b[43mthistuple\u001b[49m)\n",
      "\u001b[1;31mNameError\u001b[0m: name 'thistuple' is not defined"
     ]
    }
   ],
   "source": [
    "print(thistuple)"
   ]
  },
  {
   "cell_type": "code",
   "execution_count": 56,
   "id": "379dfca9",
   "metadata": {},
   "outputs": [],
   "source": [
    "# unpacking a Tuple\n",
    "\n",
    "fruit=('apple','banana', 'cherry','apple','banana')"
   ]
  },
  {
   "cell_type": "code",
   "execution_count": 58,
   "id": "a6e3f0cc",
   "metadata": {},
   "outputs": [],
   "source": [
    "(green,yellow,red,blue,black)=fruit"
   ]
  },
  {
   "cell_type": "code",
   "execution_count": 59,
   "id": "f13e64d5",
   "metadata": {},
   "outputs": [
    {
     "name": "stdout",
     "output_type": "stream",
     "text": [
      "apple\n"
     ]
    }
   ],
   "source": [
    "print(green)"
   ]
  },
  {
   "cell_type": "code",
   "execution_count": 60,
   "id": "365ac337",
   "metadata": {},
   "outputs": [
    {
     "name": "stdout",
     "output_type": "stream",
     "text": [
      "banana\n"
     ]
    }
   ],
   "source": [
    "print(yellow)"
   ]
  },
  {
   "cell_type": "code",
   "execution_count": 61,
   "id": "950da97b",
   "metadata": {},
   "outputs": [
    {
     "data": {
      "text/plain": [
       "str"
      ]
     },
     "execution_count": 61,
     "metadata": {},
     "output_type": "execute_result"
    }
   ],
   "source": [
    "type(green)"
   ]
  },
  {
   "cell_type": "code",
   "execution_count": 62,
   "id": "825975ad",
   "metadata": {},
   "outputs": [
    {
     "name": "stdout",
     "output_type": "stream",
     "text": [
      "('apple', 'banana', 'cherry', 'apple', 'banana')\n"
     ]
    }
   ],
   "source": [
    "print(fruit)"
   ]
  },
  {
   "cell_type": "code",
   "execution_count": 73,
   "id": "ce726990",
   "metadata": {},
   "outputs": [],
   "source": [
    "fruit2=('apple','banana', 'cherry','apple','banana')"
   ]
  },
  {
   "cell_type": "code",
   "execution_count": 65,
   "id": "77a9a7d0",
   "metadata": {},
   "outputs": [
    {
     "ename": "ValueError",
     "evalue": "too many values to unpack (expected 3)",
     "output_type": "error",
     "traceback": [
      "\u001b[1;31m---------------------------------------------------------------------------\u001b[0m",
      "\u001b[1;31mValueError\u001b[0m                                Traceback (most recent call last)",
      "Input \u001b[1;32mIn [65]\u001b[0m, in \u001b[0;36m<cell line: 1>\u001b[1;34m()\u001b[0m\n\u001b[1;32m----> 1\u001b[0m (green,yellow,black)\u001b[38;5;241m=\u001b[39mfruit2\n",
      "\u001b[1;31mValueError\u001b[0m: too many values to unpack (expected 3)"
     ]
    }
   ],
   "source": [
    "(green,yellow,black)=fruit2"
   ]
  },
  {
   "cell_type": "code",
   "execution_count": 66,
   "id": "bcb37134",
   "metadata": {},
   "outputs": [],
   "source": [
    "# using * (Asterisk)\n",
    "(green,yellow,*black)=fruit2"
   ]
  },
  {
   "cell_type": "code",
   "execution_count": 67,
   "id": "532c4e8c",
   "metadata": {},
   "outputs": [
    {
     "name": "stdout",
     "output_type": "stream",
     "text": [
      "['cherry', 'apple', 'banana']\n"
     ]
    }
   ],
   "source": [
    "print(black)"
   ]
  },
  {
   "cell_type": "code",
   "execution_count": 68,
   "id": "06d73f28",
   "metadata": {},
   "outputs": [],
   "source": [
    "(green,*yellow,black)=fruit2"
   ]
  },
  {
   "cell_type": "code",
   "execution_count": 69,
   "id": "db29caf8",
   "metadata": {},
   "outputs": [
    {
     "name": "stdout",
     "output_type": "stream",
     "text": [
      "['banana', 'cherry', 'apple']\n"
     ]
    }
   ],
   "source": [
    "print(yellow)"
   ]
  },
  {
   "cell_type": "code",
   "execution_count": 70,
   "id": "a0a079eb",
   "metadata": {},
   "outputs": [
    {
     "data": {
      "text/plain": [
       "list"
      ]
     },
     "execution_count": 70,
     "metadata": {},
     "output_type": "execute_result"
    }
   ],
   "source": [
    "type(yellow)"
   ]
  },
  {
   "cell_type": "code",
   "execution_count": 71,
   "id": "72dbb85f",
   "metadata": {},
   "outputs": [
    {
     "name": "stdout",
     "output_type": "stream",
     "text": [
      "apple\n",
      "banana\n",
      "cherry\n",
      "apple\n",
      "banana\n"
     ]
    }
   ],
   "source": [
    "# loop through a Tuple\n",
    "\n",
    "for i in fruit2:\n",
    "    print(i)"
   ]
  },
  {
   "cell_type": "code",
   "execution_count": 74,
   "id": "e28b1639",
   "metadata": {},
   "outputs": [
    {
     "name": "stdout",
     "output_type": "stream",
     "text": [
      "apple\n",
      "banana\n",
      "cherry\n",
      "apple\n",
      "banana\n"
     ]
    }
   ],
   "source": [
    "x=0\n",
    "while x <len(fruit2):\n",
    "    print(fruit2[x])\n",
    "    x=x+1"
   ]
  },
  {
   "cell_type": "code",
   "execution_count": 75,
   "id": "082eb8e5",
   "metadata": {},
   "outputs": [],
   "source": [
    "# join two tuples\n",
    "\n",
    "string=('a','b','c')\n",
    "number=(1,2,3)\n",
    " \n",
    "tup=string+number"
   ]
  },
  {
   "cell_type": "code",
   "execution_count": 76,
   "id": "59529909",
   "metadata": {},
   "outputs": [
    {
     "name": "stdout",
     "output_type": "stream",
     "text": [
      "('a', 'b', 'c', 1, 2, 3)\n"
     ]
    }
   ],
   "source": [
    "print(tup)"
   ]
  },
  {
   "cell_type": "code",
   "execution_count": 77,
   "id": "7804a8f8",
   "metadata": {},
   "outputs": [
    {
     "name": "stdout",
     "output_type": "stream",
     "text": [
      "('a', 'b', 'c', 1, 2, 3, 'a', 'b', 'c', 1, 2, 3, 'a', 'b', 'c', 1, 2, 3)\n"
     ]
    }
   ],
   "source": [
    "print(tup*3)"
   ]
  },
  {
   "cell_type": "code",
   "execution_count": 78,
   "id": "4d219fcd",
   "metadata": {},
   "outputs": [
    {
     "ename": "TypeError",
     "evalue": "'<' not supported between instances of 'int' and 'str'",
     "output_type": "error",
     "traceback": [
      "\u001b[1;31m---------------------------------------------------------------------------\u001b[0m",
      "\u001b[1;31mTypeError\u001b[0m                                 Traceback (most recent call last)",
      "Input \u001b[1;32mIn [78]\u001b[0m, in \u001b[0;36m<cell line: 1>\u001b[1;34m()\u001b[0m\n\u001b[1;32m----> 1\u001b[0m \u001b[38;5;28;43mmin\u001b[39;49m\u001b[43m(\u001b[49m\u001b[43mtup\u001b[49m\u001b[43m)\u001b[49m\n",
      "\u001b[1;31mTypeError\u001b[0m: '<' not supported between instances of 'int' and 'str'"
     ]
    }
   ],
   "source": [
    "min(tup)"
   ]
  },
  {
   "cell_type": "code",
   "execution_count": 79,
   "id": "1b46695f",
   "metadata": {},
   "outputs": [
    {
     "data": {
      "text/plain": [
       "1"
      ]
     },
     "execution_count": 79,
     "metadata": {},
     "output_type": "execute_result"
    }
   ],
   "source": [
    "min(number)"
   ]
  },
  {
   "cell_type": "code",
   "execution_count": 80,
   "id": "94dbb229",
   "metadata": {},
   "outputs": [
    {
     "data": {
      "text/plain": [
       "3"
      ]
     },
     "execution_count": 80,
     "metadata": {},
     "output_type": "execute_result"
    }
   ],
   "source": [
    "max(number)"
   ]
  },
  {
   "cell_type": "code",
   "execution_count": 81,
   "id": "cdcf8291",
   "metadata": {},
   "outputs": [],
   "source": [
    "fruit2=('apple','banana', 'cherry','apple','banana')"
   ]
  },
  {
   "cell_type": "code",
   "execution_count": 82,
   "id": "334da1e4",
   "metadata": {},
   "outputs": [
    {
     "data": {
      "text/plain": [
       "2"
      ]
     },
     "execution_count": 82,
     "metadata": {},
     "output_type": "execute_result"
    }
   ],
   "source": [
    "fruit2.count('apple')"
   ]
  },
  {
   "cell_type": "markdown",
   "id": "c3e6f692",
   "metadata": {},
   "source": [
    "# Set"
   ]
  },
  {
   "cell_type": "markdown",
   "id": "fe9f4190",
   "metadata": {},
   "source": [
    "Set items are unordered, unchangeable and do not allow duplicate\n",
    "values."
   ]
  },
  {
   "cell_type": "markdown",
   "id": "d0ca9f19",
   "metadata": {},
   "source": [
    "unordered:- it means that the items in a set do not have a defined order.\n",
    "set items can appear in a different order every time we use them and cannot be referred by index."
   ]
  },
  {
   "cell_type": "markdown",
   "id": "55db1656",
   "metadata": {},
   "source": [
    "to create set use { }"
   ]
  },
  {
   "cell_type": "code",
   "execution_count": 83,
   "id": "21f5bc83",
   "metadata": {},
   "outputs": [],
   "source": [
    "# creating set\n",
    "\n",
    "theset={'bike','car','cycle','auto'}"
   ]
  },
  {
   "cell_type": "code",
   "execution_count": 84,
   "id": "33171808",
   "metadata": {},
   "outputs": [
    {
     "data": {
      "text/plain": [
       "set"
      ]
     },
     "execution_count": 84,
     "metadata": {},
     "output_type": "execute_result"
    }
   ],
   "source": [
    "type(theset)"
   ]
  },
  {
   "cell_type": "code",
   "execution_count": 85,
   "id": "22e55491",
   "metadata": {},
   "outputs": [
    {
     "name": "stdout",
     "output_type": "stream",
     "text": [
      "{'bike', 'auto', 'car', 'cycle'}\n"
     ]
    }
   ],
   "source": [
    "print(theset)"
   ]
  },
  {
   "cell_type": "code",
   "execution_count": 86,
   "id": "80676d0b",
   "metadata": {},
   "outputs": [
    {
     "data": {
      "text/plain": [
       "4"
      ]
     },
     "execution_count": 86,
     "metadata": {},
     "output_type": "execute_result"
    }
   ],
   "source": [
    "# check length\n",
    "\n",
    "len(theset)"
   ]
  },
  {
   "cell_type": "code",
   "execution_count": 87,
   "id": "d726aafe",
   "metadata": {},
   "outputs": [],
   "source": [
    "set1={1,2,3,4,5}\n",
    "set2={'a','b','c','d'}\n",
    "set3={True,False,False,True}"
   ]
  },
  {
   "cell_type": "code",
   "execution_count": 88,
   "id": "fe6b797c",
   "metadata": {},
   "outputs": [],
   "source": [
    "# use of contructor\n",
    "\n",
    "# set ()\n",
    "\n",
    "thisset=set(('apple','banana','cherry'))"
   ]
  },
  {
   "cell_type": "code",
   "execution_count": 89,
   "id": "8cf18f03",
   "metadata": {},
   "outputs": [
    {
     "name": "stdout",
     "output_type": "stream",
     "text": [
      "apple\n",
      "cherry\n",
      "banana\n"
     ]
    }
   ],
   "source": [
    "# Access items\n",
    "for x in thisset:\n",
    "    print(x)"
   ]
  },
  {
   "cell_type": "code",
   "execution_count": 90,
   "id": "81dfdb46",
   "metadata": {},
   "outputs": [
    {
     "name": "stdout",
     "output_type": "stream",
     "text": [
      "False\n"
     ]
    }
   ],
   "source": [
    "print('kiwi'in thisset)"
   ]
  },
  {
   "cell_type": "code",
   "execution_count": 91,
   "id": "f769b786",
   "metadata": {},
   "outputs": [],
   "source": [
    "# add sets\n",
    "\n",
    "thisset={'apple','banana','cherry'}\n",
    "thisset.add('orange')"
   ]
  },
  {
   "cell_type": "code",
   "execution_count": 96,
   "id": "d756438d",
   "metadata": {},
   "outputs": [
    {
     "name": "stdout",
     "output_type": "stream",
     "text": [
      "{'apple', 'orange', 'cherry', 'banana'}\n"
     ]
    }
   ],
   "source": [
    "print(thisset)"
   ]
  },
  {
   "cell_type": "code",
   "execution_count": 97,
   "id": "6c272c13",
   "metadata": {},
   "outputs": [],
   "source": [
    "# add sets\n",
    "thisset={'apple','banana','cherry'}\n",
    "sett={'kiwi','mange','papaya'}"
   ]
  },
  {
   "cell_type": "code",
   "execution_count": 98,
   "id": "318b349b",
   "metadata": {},
   "outputs": [],
   "source": [
    "thisset.update(sett)"
   ]
  },
  {
   "cell_type": "code",
   "execution_count": 99,
   "id": "4af78cf0",
   "metadata": {},
   "outputs": [
    {
     "name": "stdout",
     "output_type": "stream",
     "text": [
      "{'apple', 'papaya', 'cherry', 'mange', 'kiwi', 'banana'}\n"
     ]
    }
   ],
   "source": [
    "print(thisset)"
   ]
  },
  {
   "cell_type": "code",
   "execution_count": 100,
   "id": "43b5a969",
   "metadata": {},
   "outputs": [],
   "source": [
    "sett={'kiwi','mange','papaya'}\n",
    "num={22,56}"
   ]
  },
  {
   "cell_type": "code",
   "execution_count": 101,
   "id": "9743c667",
   "metadata": {},
   "outputs": [],
   "source": [
    "num.update(sett)"
   ]
  },
  {
   "cell_type": "code",
   "execution_count": 102,
   "id": "90523264",
   "metadata": {},
   "outputs": [
    {
     "name": "stdout",
     "output_type": "stream",
     "text": [
      "{'papaya', 22, 56, 'mange', 'kiwi'}\n"
     ]
    }
   ],
   "source": [
    "print(num)"
   ]
  },
  {
   "cell_type": "code",
   "execution_count": 103,
   "id": "da3fc7dd",
   "metadata": {},
   "outputs": [
    {
     "ename": "TypeError",
     "evalue": "'builtin_function_or_method' object is not subscriptable",
     "output_type": "error",
     "traceback": [
      "\u001b[1;31m---------------------------------------------------------------------------\u001b[0m",
      "\u001b[1;31mTypeError\u001b[0m                                 Traceback (most recent call last)",
      "Input \u001b[1;32mIn [103]\u001b[0m, in \u001b[0;36m<cell line: 3>\u001b[1;34m()\u001b[0m\n\u001b[0;32m      1\u001b[0m \u001b[38;5;66;03m# remove items\u001b[39;00m\n\u001b[1;32m----> 3\u001b[0m \u001b[43mnum\u001b[49m\u001b[38;5;241;43m.\u001b[39;49m\u001b[43mremove\u001b[49m\u001b[43m[\u001b[49m\u001b[38;5;241;43m1\u001b[39;49m\u001b[43m]\u001b[49m\n",
      "\u001b[1;31mTypeError\u001b[0m: 'builtin_function_or_method' object is not subscriptable"
     ]
    }
   ],
   "source": [
    "# remove items\n",
    "\n",
    "num.remove[1]"
   ]
  },
  {
   "cell_type": "code",
   "execution_count": 108,
   "id": "b88c1141",
   "metadata": {},
   "outputs": [],
   "source": [
    "num.remove('mange')"
   ]
  },
  {
   "cell_type": "code",
   "execution_count": 109,
   "id": "f543f763",
   "metadata": {},
   "outputs": [
    {
     "name": "stdout",
     "output_type": "stream",
     "text": [
      "{'papaya', 22, 56, 'kiwi'}\n"
     ]
    }
   ],
   "source": [
    "print(num)"
   ]
  },
  {
   "cell_type": "code",
   "execution_count": 110,
   "id": "7ac8b01d",
   "metadata": {},
   "outputs": [],
   "source": [
    "num.remove(22)"
   ]
  },
  {
   "cell_type": "code",
   "execution_count": 111,
   "id": "20f646ea",
   "metadata": {},
   "outputs": [
    {
     "name": "stdout",
     "output_type": "stream",
     "text": [
      "{'papaya', 56, 'kiwi'}\n"
     ]
    }
   ],
   "source": [
    "print(num)"
   ]
  },
  {
   "cell_type": "code",
   "execution_count": 112,
   "id": "4f976744",
   "metadata": {},
   "outputs": [],
   "source": [
    "# using discard\n",
    "\n",
    "num.discard('mango')"
   ]
  },
  {
   "cell_type": "code",
   "execution_count": 113,
   "id": "405110ec",
   "metadata": {},
   "outputs": [
    {
     "name": "stdout",
     "output_type": "stream",
     "text": [
      "{'papaya', 56, 'kiwi'}\n"
     ]
    }
   ],
   "source": [
    "print(num)"
   ]
  },
  {
   "cell_type": "code",
   "execution_count": 114,
   "id": "2fcb15b3",
   "metadata": {},
   "outputs": [],
   "source": [
    "num.discard('kiwi')"
   ]
  },
  {
   "cell_type": "code",
   "execution_count": 115,
   "id": "30646faa",
   "metadata": {},
   "outputs": [
    {
     "name": "stdout",
     "output_type": "stream",
     "text": [
      "{'papaya', 56}\n"
     ]
    }
   ],
   "source": [
    "print(num)"
   ]
  },
  {
   "cell_type": "code",
   "execution_count": 116,
   "id": "9e1f60a9",
   "metadata": {},
   "outputs": [],
   "source": [
    "thisset={'apple','banana','cherry'}"
   ]
  },
  {
   "cell_type": "code",
   "execution_count": 117,
   "id": "0f0a8859",
   "metadata": {},
   "outputs": [
    {
     "data": {
      "text/plain": [
       "{'apple', 'banana', 'cherry'}"
      ]
     },
     "execution_count": 117,
     "metadata": {},
     "output_type": "execute_result"
    }
   ],
   "source": [
    "# use of pop\n",
    "\n",
    "thisset"
   ]
  },
  {
   "cell_type": "code",
   "execution_count": 118,
   "id": "4ca2f5fe",
   "metadata": {},
   "outputs": [
    {
     "data": {
      "text/plain": [
       "'apple'"
      ]
     },
     "execution_count": 118,
     "metadata": {},
     "output_type": "execute_result"
    }
   ],
   "source": [
    "thisset.pop()"
   ]
  },
  {
   "cell_type": "code",
   "execution_count": 119,
   "id": "4360779b",
   "metadata": {},
   "outputs": [],
   "source": [
    "# clear and Del\n",
    "\n",
    "thisset.clear()"
   ]
  },
  {
   "cell_type": "code",
   "execution_count": 120,
   "id": "3a0436d1",
   "metadata": {},
   "outputs": [
    {
     "name": "stdout",
     "output_type": "stream",
     "text": [
      "set()\n"
     ]
    }
   ],
   "source": [
    "print(thisset)"
   ]
  },
  {
   "cell_type": "code",
   "execution_count": 121,
   "id": "d537f126",
   "metadata": {},
   "outputs": [],
   "source": [
    "del thisset"
   ]
  },
  {
   "cell_type": "code",
   "execution_count": 122,
   "id": "f3aa1ffe",
   "metadata": {},
   "outputs": [
    {
     "ename": "NameError",
     "evalue": "name 'thisset' is not defined",
     "output_type": "error",
     "traceback": [
      "\u001b[1;31m---------------------------------------------------------------------------\u001b[0m",
      "\u001b[1;31mNameError\u001b[0m                                 Traceback (most recent call last)",
      "Input \u001b[1;32mIn [122]\u001b[0m, in \u001b[0;36m<cell line: 1>\u001b[1;34m()\u001b[0m\n\u001b[1;32m----> 1\u001b[0m \u001b[38;5;28mprint\u001b[39m(\u001b[43mthisset\u001b[49m)\n",
      "\u001b[1;31mNameError\u001b[0m: name 'thisset' is not defined"
     ]
    }
   ],
   "source": [
    "print(thisset)"
   ]
  },
  {
   "cell_type": "code",
   "execution_count": 136,
   "id": "0775c965",
   "metadata": {},
   "outputs": [],
   "source": [
    "# join two set\n",
    "\n",
    "set1={'a','b','a','c','b'}"
   ]
  },
  {
   "cell_type": "code",
   "execution_count": 124,
   "id": "84deff1f",
   "metadata": {},
   "outputs": [
    {
     "name": "stdout",
     "output_type": "stream",
     "text": [
      "{'b', 'a', 'c'}\n"
     ]
    }
   ],
   "source": [
    "print(set1)"
   ]
  },
  {
   "cell_type": "code",
   "execution_count": 129,
   "id": "dcc1cb9a",
   "metadata": {},
   "outputs": [],
   "source": [
    "set2={'a','x','z','y'}"
   ]
  },
  {
   "cell_type": "code",
   "execution_count": 126,
   "id": "f3ebb61c",
   "metadata": {},
   "outputs": [],
   "source": [
    "# union\n",
    "set3=set1.union(set2)"
   ]
  },
  {
   "cell_type": "code",
   "execution_count": 127,
   "id": "22183d7e",
   "metadata": {},
   "outputs": [
    {
     "name": "stdout",
     "output_type": "stream",
     "text": [
      "{'x', 'a', 'b', 'z', 'y', 'c'}\n"
     ]
    }
   ],
   "source": [
    "print(set3)"
   ]
  },
  {
   "cell_type": "code",
   "execution_count": 130,
   "id": "4dda7001",
   "metadata": {},
   "outputs": [],
   "source": [
    "# finding common element\n",
    "\n",
    "set4=set1.intersection(set2)"
   ]
  },
  {
   "cell_type": "code",
   "execution_count": 132,
   "id": "5d66d061",
   "metadata": {},
   "outputs": [
    {
     "name": "stdout",
     "output_type": "stream",
     "text": [
      "{'a'}\n"
     ]
    }
   ],
   "source": [
    "print(set4)"
   ]
  },
  {
   "cell_type": "code",
   "execution_count": 133,
   "id": "5f1a13f8",
   "metadata": {},
   "outputs": [],
   "source": [
    "set1.intersection_update(set2) # keep only duplicates"
   ]
  },
  {
   "cell_type": "code",
   "execution_count": 134,
   "id": "fa84e9e7",
   "metadata": {},
   "outputs": [
    {
     "data": {
      "text/plain": [
       "{'a'}"
      ]
     },
     "execution_count": 134,
     "metadata": {},
     "output_type": "execute_result"
    }
   ],
   "source": [
    "set1"
   ]
  },
  {
   "cell_type": "code",
   "execution_count": 135,
   "id": "11094d03",
   "metadata": {},
   "outputs": [
    {
     "data": {
      "text/plain": [
       "{'a', 'x', 'y', 'z'}"
      ]
     },
     "execution_count": 135,
     "metadata": {},
     "output_type": "execute_result"
    }
   ],
   "source": [
    "set2"
   ]
  },
  {
   "cell_type": "code",
   "execution_count": 137,
   "id": "eb83d987",
   "metadata": {},
   "outputs": [],
   "source": [
    "# keep all , but not the duplicate\n",
    "set1={'a','b','a','c','b'}\n",
    "set2={'a','x','z','y'}\n",
    "set1.symmetric_difference_update(set2)"
   ]
  },
  {
   "cell_type": "code",
   "execution_count": 138,
   "id": "256bf9f0",
   "metadata": {},
   "outputs": [
    {
     "name": "stdout",
     "output_type": "stream",
     "text": [
      "{'x', 'b', 'z', 'y', 'c'}\n"
     ]
    }
   ],
   "source": [
    "print(set1)"
   ]
  },
  {
   "cell_type": "markdown",
   "id": "c736c443",
   "metadata": {},
   "source": [
    "# Dictionaries"
   ]
  },
  {
   "cell_type": "markdown",
   "id": "9145d23d",
   "metadata": {},
   "source": [
    "Dictionarie is a collection which is ordered , changable and do not allow duplicates."
   ]
  },
  {
   "cell_type": "markdown",
   "id": "a9b4ac84",
   "metadata": {},
   "source": [
    "dictionarie are written with curly brackets and have keys and values."
   ]
  },
  {
   "cell_type": "code",
   "execution_count": 139,
   "id": "2c8e0325",
   "metadata": {},
   "outputs": [],
   "source": [
    "# creating our 1st Dict\n",
    "\n",
    "thedic= {\n",
    "    'brand':'ford',\n",
    "    'model':'Mustang',\n",
    "    'year':1964\n",
    "}"
   ]
  },
  {
   "cell_type": "code",
   "execution_count": 140,
   "id": "0a541ba5",
   "metadata": {},
   "outputs": [
    {
     "name": "stdout",
     "output_type": "stream",
     "text": [
      "{'brand': 'ford', 'model': 'Mustang', 'year': 1964}\n"
     ]
    }
   ],
   "source": [
    "print(thedic)"
   ]
  },
  {
   "cell_type": "code",
   "execution_count": 141,
   "id": "07be39dd",
   "metadata": {},
   "outputs": [
    {
     "data": {
      "text/plain": [
       "dict"
      ]
     },
     "execution_count": 141,
     "metadata": {},
     "output_type": "execute_result"
    }
   ],
   "source": [
    "type(thedic)"
   ]
  },
  {
   "cell_type": "code",
   "execution_count": 142,
   "id": "1c22443c",
   "metadata": {},
   "outputs": [],
   "source": [
    "# duplicates not allowed\n",
    "thedic= {\n",
    "    'brand':'ford',\n",
    "    'model':'Mustang',\n",
    "    'year':1964,\n",
    "    'year':2020\n",
    "}"
   ]
  },
  {
   "cell_type": "code",
   "execution_count": 143,
   "id": "3e2379db",
   "metadata": {},
   "outputs": [
    {
     "name": "stdout",
     "output_type": "stream",
     "text": [
      "{'brand': 'ford', 'model': 'Mustang', 'year': 2020}\n"
     ]
    }
   ],
   "source": [
    "print(thedic)"
   ]
  },
  {
   "cell_type": "code",
   "execution_count": 144,
   "id": "ed240b38",
   "metadata": {},
   "outputs": [
    {
     "data": {
      "text/plain": [
       "3"
      ]
     },
     "execution_count": 144,
     "metadata": {},
     "output_type": "execute_result"
    }
   ],
   "source": [
    "# length\n",
    "len(thedic)"
   ]
  },
  {
   "cell_type": "code",
   "execution_count": 145,
   "id": "cff69546",
   "metadata": {},
   "outputs": [
    {
     "ename": "KeyError",
     "evalue": "1",
     "output_type": "error",
     "traceback": [
      "\u001b[1;31m---------------------------------------------------------------------------\u001b[0m",
      "\u001b[1;31mKeyError\u001b[0m                                  Traceback (most recent call last)",
      "Input \u001b[1;32mIn [145]\u001b[0m, in \u001b[0;36m<cell line: 1>\u001b[1;34m()\u001b[0m\n\u001b[1;32m----> 1\u001b[0m \u001b[43mthedic\u001b[49m\u001b[43m[\u001b[49m\u001b[38;5;241;43m1\u001b[39;49m\u001b[43m]\u001b[49m\n",
      "\u001b[1;31mKeyError\u001b[0m: 1"
     ]
    }
   ],
   "source": [
    "thedic[1]"
   ]
  },
  {
   "cell_type": "code",
   "execution_count": 146,
   "id": "a39fcf04",
   "metadata": {},
   "outputs": [
    {
     "ename": "TypeError",
     "evalue": "'dict' object is not callable",
     "output_type": "error",
     "traceback": [
      "\u001b[1;31m---------------------------------------------------------------------------\u001b[0m",
      "\u001b[1;31mTypeError\u001b[0m                                 Traceback (most recent call last)",
      "Input \u001b[1;32mIn [146]\u001b[0m, in \u001b[0;36m<cell line: 1>\u001b[1;34m()\u001b[0m\n\u001b[1;32m----> 1\u001b[0m \u001b[43mthedic\u001b[49m\u001b[43m(\u001b[49m\u001b[38;5;241;43m1\u001b[39;49m\u001b[43m)\u001b[49m\n",
      "\u001b[1;31mTypeError\u001b[0m: 'dict' object is not callable"
     ]
    }
   ],
   "source": [
    "thedic(1)"
   ]
  },
  {
   "cell_type": "code",
   "execution_count": 149,
   "id": "309f9a07",
   "metadata": {},
   "outputs": [],
   "source": [
    "# data types\n",
    "thedic2={\n",
    "    'brand':'ford',\n",
    "    'electric':False,\n",
    "    'year':1964,\n",
    "    'color':['red','white','blue']\n",
    "}"
   ]
  },
  {
   "cell_type": "code",
   "execution_count": 150,
   "id": "0594be0b",
   "metadata": {},
   "outputs": [
    {
     "name": "stdout",
     "output_type": "stream",
     "text": [
      "{'brand': 'ford', 'electric': False, 'year': 1964, 'color': ['red', 'white', 'blue']}\n"
     ]
    }
   ],
   "source": [
    "print(thedic2)"
   ]
  },
  {
   "cell_type": "code",
   "execution_count": 153,
   "id": "833334f5",
   "metadata": {},
   "outputs": [],
   "source": [
    "# constructor\n",
    "# dict()\n",
    "thedic3=dict(name='yash',age=27,country='India')"
   ]
  },
  {
   "cell_type": "code",
   "execution_count": 154,
   "id": "242d6825",
   "metadata": {},
   "outputs": [
    {
     "name": "stdout",
     "output_type": "stream",
     "text": [
      "{'name': 'yash', 'age': 27, 'country': 'India'}\n"
     ]
    }
   ],
   "source": [
    "print(thedic3)"
   ]
  },
  {
   "cell_type": "code",
   "execution_count": 163,
   "id": "8cbd3f02",
   "metadata": {},
   "outputs": [],
   "source": [
    "# accessing item\n",
    "\n",
    "x=thedic3['name']"
   ]
  },
  {
   "cell_type": "code",
   "execution_count": 166,
   "id": "36393ca1",
   "metadata": {},
   "outputs": [
    {
     "name": "stdout",
     "output_type": "stream",
     "text": [
      "27\n"
     ]
    }
   ],
   "source": [
    "print(x)"
   ]
  },
  {
   "cell_type": "code",
   "execution_count": 165,
   "id": "9f2a1f6c",
   "metadata": {},
   "outputs": [
    {
     "name": "stdout",
     "output_type": "stream",
     "text": [
      "27\n"
     ]
    }
   ],
   "source": [
    "x=thedic3.get('age')\n",
    "print(x)"
   ]
  },
  {
   "cell_type": "code",
   "execution_count": 167,
   "id": "ca49f8ae",
   "metadata": {},
   "outputs": [],
   "source": [
    "# get keys\n",
    "thedic2={\n",
    "    'brand':'ford',\n",
    "    'electric':False,\n",
    "    'year':1964,\n",
    "    'color':['red','white','blue']\n",
    "}"
   ]
  },
  {
   "cell_type": "code",
   "execution_count": 168,
   "id": "d38b8bf0",
   "metadata": {},
   "outputs": [],
   "source": [
    "y=thedic2.keys()"
   ]
  },
  {
   "cell_type": "code",
   "execution_count": 169,
   "id": "1b9e405d",
   "metadata": {},
   "outputs": [
    {
     "name": "stdout",
     "output_type": "stream",
     "text": [
      "dict_keys(['brand', 'electric', 'year', 'color'])\n"
     ]
    }
   ],
   "source": [
    "print(y)"
   ]
  },
  {
   "cell_type": "code",
   "execution_count": 170,
   "id": "14f47b69",
   "metadata": {},
   "outputs": [],
   "source": [
    "# get values\n",
    "\n",
    "thedic2={\n",
    "    'brand':'ford',\n",
    "    'electric':False,\n",
    "    'year':1964,\n",
    "    'color':['red','white','blue']\n",
    "}"
   ]
  },
  {
   "cell_type": "code",
   "execution_count": 171,
   "id": "6530a103",
   "metadata": {},
   "outputs": [],
   "source": [
    "c=thedic2.values()"
   ]
  },
  {
   "cell_type": "code",
   "execution_count": 172,
   "id": "9c59b6e8",
   "metadata": {},
   "outputs": [
    {
     "name": "stdout",
     "output_type": "stream",
     "text": [
      "dict_values(['ford', False, 1964, ['red', 'white', 'blue']])\n"
     ]
    }
   ],
   "source": [
    "print(c)"
   ]
  },
  {
   "cell_type": "code",
   "execution_count": 173,
   "id": "156d5035",
   "metadata": {},
   "outputs": [],
   "source": [
    "# change the value\n",
    "thedic2['year']=2020"
   ]
  },
  {
   "cell_type": "code",
   "execution_count": 174,
   "id": "9599dbd5",
   "metadata": {},
   "outputs": [
    {
     "name": "stdout",
     "output_type": "stream",
     "text": [
      "dict_values(['ford', False, 2020, ['red', 'white', 'blue']])\n"
     ]
    }
   ],
   "source": [
    "print(c)"
   ]
  },
  {
   "cell_type": "code",
   "execution_count": 175,
   "id": "6d5fd562",
   "metadata": {},
   "outputs": [],
   "source": [
    "# get items item()\n",
    " \n",
    "thedic2={\n",
    "    'brand':'ford',\n",
    "    'electric':False,\n",
    "    'year':1964,\n",
    "    'color':['red','white','blue']\n",
    "}"
   ]
  },
  {
   "cell_type": "code",
   "execution_count": 176,
   "id": "6059ebc0",
   "metadata": {},
   "outputs": [],
   "source": [
    "val=thedic2.items()"
   ]
  },
  {
   "cell_type": "code",
   "execution_count": 177,
   "id": "4fd846e4",
   "metadata": {},
   "outputs": [
    {
     "name": "stdout",
     "output_type": "stream",
     "text": [
      "dict_items([('brand', 'ford'), ('electric', False), ('year', 1964), ('color', ['red', 'white', 'blue'])])\n"
     ]
    }
   ],
   "source": [
    "print(val)"
   ]
  },
  {
   "cell_type": "code",
   "execution_count": 178,
   "id": "fbab2773",
   "metadata": {},
   "outputs": [],
   "source": [
    "# if key exists or not\n",
    "\n",
    "thedic2={\n",
    "    'brand':'ford',\n",
    "    'electric':False,\n",
    "    'year':1964,\n",
    "    'color':['red','white','blue']\n",
    "}"
   ]
  },
  {
   "cell_type": "code",
   "execution_count": 179,
   "id": "f39fca5f",
   "metadata": {},
   "outputs": [
    {
     "name": "stdout",
     "output_type": "stream",
     "text": [
      "yes it's available\n"
     ]
    }
   ],
   "source": [
    "if 'year' in thedic2:\n",
    "    print(\"yes it's available\")"
   ]
  },
  {
   "cell_type": "code",
   "execution_count": 180,
   "id": "06f7eee5",
   "metadata": {},
   "outputs": [],
   "source": [
    "# update dict\n",
    "thedic2={\n",
    "    'brand':'ford',\n",
    "    'electric':False,\n",
    "    'year':1964,\n",
    "    'color':['red','white','blue']\n",
    "}\n"
   ]
  },
  {
   "cell_type": "code",
   "execution_count": 181,
   "id": "87e15b9c",
   "metadata": {},
   "outputs": [],
   "source": [
    "thedic2.update({'brand':'Maruti'})"
   ]
  },
  {
   "cell_type": "code",
   "execution_count": 182,
   "id": "83904cc1",
   "metadata": {},
   "outputs": [
    {
     "name": "stdout",
     "output_type": "stream",
     "text": [
      "{'brand': 'Maruti', 'electric': False, 'year': 1964, 'color': ['red', 'white', 'blue']}\n"
     ]
    }
   ],
   "source": [
    "print(thedic2)"
   ]
  },
  {
   "cell_type": "code",
   "execution_count": 183,
   "id": "9a3333fe",
   "metadata": {},
   "outputs": [],
   "source": [
    "# adding item\n",
    "thedic2={\n",
    "    'brand':'ford',\n",
    "    'electric':False,\n",
    "    'year':1964,\n",
    "    'color':['red','white','blue']\n",
    "}"
   ]
  },
  {
   "cell_type": "code",
   "execution_count": 184,
   "id": "0acc04df",
   "metadata": {},
   "outputs": [],
   "source": [
    "thedic2['tyres']=4"
   ]
  },
  {
   "cell_type": "code",
   "execution_count": 185,
   "id": "b190c469",
   "metadata": {},
   "outputs": [
    {
     "name": "stdout",
     "output_type": "stream",
     "text": [
      "{'brand': 'ford', 'electric': False, 'year': 1964, 'color': ['red', 'white', 'blue'], 'tyres': 4}\n"
     ]
    }
   ],
   "source": [
    "print(thedic2)"
   ]
  },
  {
   "cell_type": "code",
   "execution_count": 186,
   "id": "80cc3660",
   "metadata": {},
   "outputs": [
    {
     "data": {
      "text/plain": [
       "4"
      ]
     },
     "execution_count": 186,
     "metadata": {},
     "output_type": "execute_result"
    }
   ],
   "source": [
    "# remove item\n",
    "\n",
    "thedic2.pop('tyres')"
   ]
  },
  {
   "cell_type": "code",
   "execution_count": 187,
   "id": "e1ce053f",
   "metadata": {},
   "outputs": [
    {
     "name": "stdout",
     "output_type": "stream",
     "text": [
      "{'brand': 'ford', 'electric': False, 'year': 1964, 'color': ['red', 'white', 'blue']}\n"
     ]
    }
   ],
   "source": [
    "print(thedic2)"
   ]
  },
  {
   "cell_type": "code",
   "execution_count": 188,
   "id": "72996fa0",
   "metadata": {},
   "outputs": [],
   "source": [
    "# popitem() to remove a item"
   ]
  },
  {
   "cell_type": "code",
   "execution_count": 189,
   "id": "aaf02025",
   "metadata": {},
   "outputs": [],
   "source": [
    "# del\n",
    "# clear"
   ]
  },
  {
   "cell_type": "markdown",
   "id": "9a482473",
   "metadata": {},
   "source": [
    "### use of loop"
   ]
  },
  {
   "cell_type": "code",
   "execution_count": 190,
   "id": "90287d55",
   "metadata": {},
   "outputs": [],
   "source": [
    "thedic2={\n",
    "    'brand':'ford',\n",
    "    'electric':False,\n",
    "    'year':1964,\n",
    "    'color':['red','white','blue']\n",
    "}"
   ]
  },
  {
   "cell_type": "code",
   "execution_count": 191,
   "id": "a8cb7a52",
   "metadata": {},
   "outputs": [
    {
     "name": "stdout",
     "output_type": "stream",
     "text": [
      "brand\n",
      "electric\n",
      "year\n",
      "color\n"
     ]
    }
   ],
   "source": [
    "for x in thedic2: # to see keys\n",
    "    print(x)"
   ]
  },
  {
   "cell_type": "code",
   "execution_count": 193,
   "id": "d1b4e1d4",
   "metadata": {},
   "outputs": [
    {
     "name": "stdout",
     "output_type": "stream",
     "text": [
      "brand\n",
      "electric\n",
      "year\n",
      "color\n"
     ]
    }
   ],
   "source": [
    "for x in thedic2.keys(): # to see keys\n",
    "    print(x)"
   ]
  },
  {
   "cell_type": "code",
   "execution_count": 192,
   "id": "c2d407e8",
   "metadata": {},
   "outputs": [
    {
     "name": "stdout",
     "output_type": "stream",
     "text": [
      "ford\n",
      "False\n",
      "1964\n",
      "['red', 'white', 'blue']\n"
     ]
    }
   ],
   "source": [
    "for y in thedic2: # to print values\n",
    "    print(thedic2[y])"
   ]
  },
  {
   "cell_type": "code",
   "execution_count": 195,
   "id": "aafc231f",
   "metadata": {},
   "outputs": [
    {
     "name": "stdout",
     "output_type": "stream",
     "text": [
      "ford\n",
      "False\n",
      "1964\n",
      "['red', 'white', 'blue']\n"
     ]
    }
   ],
   "source": [
    "for x in thedic2.values(): # to see values\n",
    "    print(x)"
   ]
  },
  {
   "cell_type": "code",
   "execution_count": 196,
   "id": "b590c47c",
   "metadata": {},
   "outputs": [
    {
     "name": "stdout",
     "output_type": "stream",
     "text": [
      "brand ford\n",
      "electric False\n",
      "year 1964\n",
      "color ['red', 'white', 'blue']\n"
     ]
    }
   ],
   "source": [
    "for x,y in thedic2.items():\n",
    "    print(x,y)"
   ]
  },
  {
   "cell_type": "code",
   "execution_count": 204,
   "id": "440804cf",
   "metadata": {},
   "outputs": [],
   "source": [
    "# nested dic\n",
    "\n",
    "myfamily={\n",
    "    'child1':{\n",
    "        'name':'abc',\n",
    "        'year':2002\n",
    "    },\n",
    "    'child2':{\n",
    "        'name':'xyz',\n",
    "        'year':2000\n",
    "    },\n",
    "    'child3':{\n",
    "        'name':'pqr',\n",
    "        'year':1995\n",
    "    }\n",
    "}"
   ]
  },
  {
   "cell_type": "code",
   "execution_count": 205,
   "id": "46de13af",
   "metadata": {},
   "outputs": [
    {
     "name": "stdout",
     "output_type": "stream",
     "text": [
      "{'child1': {'name': 'abc', 'year': 2002}, 'child2': {'name': 'xyz', 'year': 2000}, 'child3': {'name': 'pqr', 'year': 1995}}\n"
     ]
    }
   ],
   "source": [
    "print(myfamily)"
   ]
  },
  {
   "cell_type": "code",
   "execution_count": 206,
   "id": "db5e9085",
   "metadata": {},
   "outputs": [],
   "source": [
    "child1={\n",
    "    'name':'abc',\n",
    "    'year':2002\n",
    "}\n",
    "child2={\n",
    "    'name':'xyz',\n",
    "    'year':2000\n",
    "}\n",
    "child3={\n",
    "    'name':'pqr',\n",
    "    'year':1995\n",
    "}\n",
    "myfamily={\n",
    "    'child1':child1,\n",
    "    'child2':child2,\n",
    "    'child3':child3\n",
    "}"
   ]
  },
  {
   "cell_type": "code",
   "execution_count": 207,
   "id": "e11041e2",
   "metadata": {},
   "outputs": [
    {
     "name": "stdout",
     "output_type": "stream",
     "text": [
      "{'child1': {'name': 'abc', 'year': 2002}, 'child2': {'name': 'xyz', 'year': 2000}, 'child3': {'name': 'pqr', 'year': 1995}}\n"
     ]
    }
   ],
   "source": [
    "print(myfamily)"
   ]
  },
  {
   "cell_type": "code",
   "execution_count": null,
   "id": "4cc00341",
   "metadata": {},
   "outputs": [],
   "source": [
    "# practice questions\n",
    "\n",
    "# Exercise 1: Print First 10 natural numbers using while loop\n",
    "# Exercise 2: Print the following pattern\n",
    "1 \n",
    "1 2 \n",
    "1 2 3 \n",
    "1 2 3 4 \n",
    "1 2 3 4 5\n",
    "# Exercise 3: Calculate the sum of all numbers from 1 to a given number\n",
    "# Exercise 4: Write a program to print multiplication table of a given number\n",
    "# Exercise 5: Display numbers from a list using loop\n",
    "numbers = [12, 75, 150, 180, 145, 525, 50]\n",
    "# Exercise 6: Count the total number of digits in a number\n",
    "num = 75869\n",
    "# Exercise 7: Print the following pattern\n",
    "5 4 3 2 1 \n",
    "4 3 2 1 \n",
    "3 2 1 \n",
    "2 1 \n",
    "1\n",
    "# Exercise 8: Print list in reverse order using a loop\n",
    "list1 = [10, 20, 30, 40, 50]\n",
    "# Exercise 9: Display numbers from -10 to -1 using for loop\n",
    "-10\n",
    "-9\n",
    "-8\n",
    "-7\n",
    "-6\n",
    "-5\n",
    "-4\n",
    "-3\n",
    "-2\n",
    "-1\n",
    "# Exercise 10: Use else block to display a message “Done” after successful execution of for loop\n",
    "# Exercise 11: Write a program to display all prime numbers within a range\n",
    "# Exercise 12: Display Fibonacci series up to 10 terms\n",
    "# Exercise 13: Find the factorial of a given number\n",
    "# Exercise 14: Reverse a given integer number\n",
    "76542\n",
    "# Exercise 15: Use a loop to display elements from a given list present at odd index positions\n",
    "my_list = [10, 20, 30, 40, 50, 60, 70, 80, 90, 100]\n",
    "# Exercise 16: Calculate the cube of all numbers from 1 to a given number\n",
    "input_number = 6\n",
    "# Exercise 17: Find the sum of the series upto n terms\n",
    "n = 5\n",
    "# Exercise 18: Print the following pattern\n",
    "* \n",
    "* * \n",
    "* * * \n",
    "* * * * \n",
    "* * * * * \n",
    "* * * * \n",
    "* * * \n",
    "* * \n",
    "*"
   ]
  }
 ],
 "metadata": {
  "kernelspec": {
   "display_name": "Python 3 (ipykernel)",
   "language": "python",
   "name": "python3"
  },
  "language_info": {
   "codemirror_mode": {
    "name": "ipython",
    "version": 3
   },
   "file_extension": ".py",
   "mimetype": "text/x-python",
   "name": "python",
   "nbconvert_exporter": "python",
   "pygments_lexer": "ipython3",
   "version": "3.9.12"
  }
 },
 "nbformat": 4,
 "nbformat_minor": 5
}
