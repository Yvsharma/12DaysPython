{
 "cells": [
  {
   "cell_type": "markdown",
   "id": "0c0c46e7",
   "metadata": {},
   "source": [
    "# Python Functions"
   ]
  },
  {
   "cell_type": "markdown",
   "id": "d22f5ec5",
   "metadata": {},
   "source": [
    "A function is a block of code which only runs when it is called."
   ]
  },
  {
   "cell_type": "markdown",
   "id": "cc432c5b",
   "metadata": {},
   "source": [
    "We can pass data, known as parameters into a function.\n",
    "function can return data as a result."
   ]
  },
  {
   "cell_type": "markdown",
   "id": "adcc4829",
   "metadata": {},
   "source": [
    "In python a function is defined using the def keyword.\n",
    "syntax :- def function_name:"
   ]
  },
  {
   "cell_type": "code",
   "execution_count": 2,
   "id": "f460795c",
   "metadata": {},
   "outputs": [],
   "source": [
    "# creating 1st function\n",
    "\n",
    "def fun1():\n",
    "    print ('hello world!')"
   ]
  },
  {
   "cell_type": "code",
   "execution_count": 3,
   "id": "e671541c",
   "metadata": {},
   "outputs": [
    {
     "name": "stdout",
     "output_type": "stream",
     "text": [
      "hello world!\n"
     ]
    }
   ],
   "source": [
    "# calling a function\n",
    "\n",
    "fun1()"
   ]
  },
  {
   "cell_type": "code",
   "execution_count": 7,
   "id": "2344bd8d",
   "metadata": {},
   "outputs": [],
   "source": [
    "# Arguments\n",
    "\n",
    "def my_function(fname):\n",
    "    print(fname+ ' Hey there !')"
   ]
  },
  {
   "cell_type": "code",
   "execution_count": 5,
   "id": "fef6c864",
   "metadata": {},
   "outputs": [
    {
     "ename": "TypeError",
     "evalue": "my_function() missing 1 required positional argument: 'fname'",
     "output_type": "error",
     "traceback": [
      "\u001b[1;31m---------------------------------------------------------------------------\u001b[0m",
      "\u001b[1;31mTypeError\u001b[0m                                 Traceback (most recent call last)",
      "Input \u001b[1;32mIn [5]\u001b[0m, in \u001b[0;36m<cell line: 1>\u001b[1;34m()\u001b[0m\n\u001b[1;32m----> 1\u001b[0m \u001b[43mmy_function\u001b[49m\u001b[43m(\u001b[49m\u001b[43m)\u001b[49m\n",
      "\u001b[1;31mTypeError\u001b[0m: my_function() missing 1 required positional argument: 'fname'"
     ]
    }
   ],
   "source": [
    "my_function()"
   ]
  },
  {
   "cell_type": "code",
   "execution_count": 8,
   "id": "64d7c9ca",
   "metadata": {},
   "outputs": [
    {
     "name": "stdout",
     "output_type": "stream",
     "text": [
      "sonu Hey there !\n"
     ]
    }
   ],
   "source": [
    "my_function('sonu')"
   ]
  },
  {
   "cell_type": "code",
   "execution_count": 9,
   "id": "7cb0561f",
   "metadata": {},
   "outputs": [
    {
     "name": "stdout",
     "output_type": "stream",
     "text": [
      "ranu Hey there !\n"
     ]
    }
   ],
   "source": [
    "my_function('ranu')"
   ]
  },
  {
   "cell_type": "code",
   "execution_count": 10,
   "id": "0a9e998d",
   "metadata": {},
   "outputs": [
    {
     "ename": "TypeError",
     "evalue": "unsupported operand type(s) for +: 'int' and 'str'",
     "output_type": "error",
     "traceback": [
      "\u001b[1;31m---------------------------------------------------------------------------\u001b[0m",
      "\u001b[1;31mTypeError\u001b[0m                                 Traceback (most recent call last)",
      "Input \u001b[1;32mIn [10]\u001b[0m, in \u001b[0;36m<cell line: 1>\u001b[1;34m()\u001b[0m\n\u001b[1;32m----> 1\u001b[0m \u001b[43mmy_function\u001b[49m\u001b[43m(\u001b[49m\u001b[38;5;241;43m22\u001b[39;49m\u001b[43m)\u001b[49m\n",
      "Input \u001b[1;32mIn [7]\u001b[0m, in \u001b[0;36mmy_function\u001b[1;34m(fname)\u001b[0m\n\u001b[0;32m      3\u001b[0m \u001b[38;5;28;01mdef\u001b[39;00m \u001b[38;5;21mmy_function\u001b[39m(fname):\n\u001b[1;32m----> 4\u001b[0m     \u001b[38;5;28mprint\u001b[39m(\u001b[43mfname\u001b[49m\u001b[38;5;241;43m+\u001b[39;49m\u001b[43m \u001b[49m\u001b[38;5;124;43m'\u001b[39;49m\u001b[38;5;124;43m Hey there !\u001b[39;49m\u001b[38;5;124;43m'\u001b[39;49m)\n",
      "\u001b[1;31mTypeError\u001b[0m: unsupported operand type(s) for +: 'int' and 'str'"
     ]
    }
   ],
   "source": [
    "my_function(22)"
   ]
  },
  {
   "cell_type": "code",
   "execution_count": 11,
   "id": "ccc4dbc2",
   "metadata": {},
   "outputs": [],
   "source": [
    "# Numbers of argument\n",
    "\n",
    "def my_function(fname,lname):\n",
    "    print(fname+' ' +lname+' Hey there !')"
   ]
  },
  {
   "cell_type": "code",
   "execution_count": 12,
   "id": "fad247bc",
   "metadata": {},
   "outputs": [
    {
     "name": "stdout",
     "output_type": "stream",
     "text": [
      "ranu sharma Hey there !\n"
     ]
    }
   ],
   "source": [
    "my_function('ranu','sharma')"
   ]
  },
  {
   "cell_type": "code",
   "execution_count": 13,
   "id": "680ff05d",
   "metadata": {},
   "outputs": [
    {
     "ename": "TypeError",
     "evalue": "my_function() missing 1 required positional argument: 'lname'",
     "output_type": "error",
     "traceback": [
      "\u001b[1;31m---------------------------------------------------------------------------\u001b[0m",
      "\u001b[1;31mTypeError\u001b[0m                                 Traceback (most recent call last)",
      "Input \u001b[1;32mIn [13]\u001b[0m, in \u001b[0;36m<cell line: 1>\u001b[1;34m()\u001b[0m\n\u001b[1;32m----> 1\u001b[0m \u001b[43mmy_function\u001b[49m\u001b[43m(\u001b[49m\u001b[38;5;124;43m'\u001b[39;49m\u001b[38;5;124;43mranu\u001b[39;49m\u001b[38;5;124;43m'\u001b[39;49m\u001b[43m)\u001b[49m\n",
      "\u001b[1;31mTypeError\u001b[0m: my_function() missing 1 required positional argument: 'lname'"
     ]
    }
   ],
   "source": [
    "my_function('ranu')"
   ]
  },
  {
   "cell_type": "markdown",
   "id": "7f0ffa8b",
   "metadata": {},
   "source": [
    "# Arbitary arguments , *args\n",
    "\n",
    "if yoy do not know how many arguments that will be passed into your function, add a * before the parameter name in the function."
   ]
  },
  {
   "cell_type": "code",
   "execution_count": 14,
   "id": "f4b0d7bc",
   "metadata": {},
   "outputs": [],
   "source": [
    "def my_function(*kids):\n",
    "    print('the youngest child is '+ kids[2])"
   ]
  },
  {
   "cell_type": "code",
   "execution_count": 15,
   "id": "2a2829a1",
   "metadata": {},
   "outputs": [
    {
     "name": "stdout",
     "output_type": "stream",
     "text": [
      "the youngest child is monu\n"
     ]
    }
   ],
   "source": [
    "my_function('yash','sonu','monu','raju')"
   ]
  },
  {
   "cell_type": "code",
   "execution_count": 50,
   "id": "59c989d6",
   "metadata": {},
   "outputs": [],
   "source": [
    "# keyword argument\n",
    "\n",
    "def my_function(child1,child2,child3):\n",
    "    print('The youngest child is : ' + child3)"
   ]
  },
  {
   "cell_type": "code",
   "execution_count": 51,
   "id": "25d8c107",
   "metadata": {},
   "outputs": [
    {
     "name": "stdout",
     "output_type": "stream",
     "text": [
      "The youngest child is : Shanu\n"
     ]
    }
   ],
   "source": [
    "my_function(child3='Shanu',child1='Yash',child2='Sonu') # assign according to condition"
   ]
  },
  {
   "cell_type": "code",
   "execution_count": 52,
   "id": "fbe7d3e6",
   "metadata": {},
   "outputs": [
    {
     "name": "stdout",
     "output_type": "stream",
     "text": [
      "The youngest child is : Sonu\n"
     ]
    }
   ],
   "source": [
    "my_function('Shanu','Yash','Sonu') # assign automatically"
   ]
  },
  {
   "cell_type": "markdown",
   "id": "914a18d4",
   "metadata": {},
   "source": [
    "# Arbitary keyword Arguments, **Kwargs\n"
   ]
  },
  {
   "cell_type": "markdown",
   "id": "79590b6f",
   "metadata": {},
   "source": [
    "If we do not know how many keywords argument that will be passed into our function , add ** before the parameter name in the function."
   ]
  },
  {
   "cell_type": "code",
   "execution_count": 42,
   "id": "619d3723",
   "metadata": {},
   "outputs": [],
   "source": [
    "def my_function(**name):\n",
    "    print('the youngest child is '+ name['lname'])"
   ]
  },
  {
   "cell_type": "code",
   "execution_count": 43,
   "id": "a49d0aa5",
   "metadata": {},
   "outputs": [
    {
     "name": "stdout",
     "output_type": "stream",
     "text": [
      "the youngest child is sharma\n"
     ]
    }
   ],
   "source": [
    "my_function(fname='geeta',lname='sharma')"
   ]
  },
  {
   "cell_type": "code",
   "execution_count": 44,
   "id": "faaca388",
   "metadata": {},
   "outputs": [],
   "source": [
    "def my_function(**name):\n",
    "    print('the youngest child is '+ name['lname']+ ' lives in '+ name['address'])"
   ]
  },
  {
   "cell_type": "code",
   "execution_count": 45,
   "id": "8e0ea6f7",
   "metadata": {},
   "outputs": [
    {
     "name": "stdout",
     "output_type": "stream",
     "text": [
      "the youngest child is sharma lives in D-58\n"
     ]
    }
   ],
   "source": [
    "my_function(fname='geeta',lname='sharma',age=27,address='D-58')"
   ]
  },
  {
   "cell_type": "code",
   "execution_count": 26,
   "id": "43946c03",
   "metadata": {},
   "outputs": [],
   "source": [
    "def my_function(fname,lname):\n",
    "    print('the youngest child is '+ lname)"
   ]
  },
  {
   "cell_type": "code",
   "execution_count": 27,
   "id": "7ad6d0cd",
   "metadata": {},
   "outputs": [
    {
     "name": "stdout",
     "output_type": "stream",
     "text": [
      "the youngest child is gupta\n"
     ]
    }
   ],
   "source": [
    "my_function('sonu','gupta')"
   ]
  },
  {
   "cell_type": "markdown",
   "id": "f68b661d",
   "metadata": {},
   "source": [
    "# Default parameter value"
   ]
  },
  {
   "cell_type": "code",
   "execution_count": 46,
   "id": "8df5e0c4",
   "metadata": {},
   "outputs": [],
   "source": [
    "def my_function(country='Norway'):\n",
    "    print('I am from '+ country)"
   ]
  },
  {
   "cell_type": "code",
   "execution_count": 47,
   "id": "9f29f762",
   "metadata": {},
   "outputs": [
    {
     "name": "stdout",
     "output_type": "stream",
     "text": [
      "I am from India\n"
     ]
    }
   ],
   "source": [
    "my_function('India')"
   ]
  },
  {
   "cell_type": "code",
   "execution_count": 48,
   "id": "92bb821d",
   "metadata": {},
   "outputs": [
    {
     "name": "stdout",
     "output_type": "stream",
     "text": [
      "I am from Norway\n"
     ]
    }
   ],
   "source": [
    "my_function()"
   ]
  },
  {
   "cell_type": "code",
   "execution_count": 49,
   "id": "f021ab37",
   "metadata": {},
   "outputs": [
    {
     "name": "stdout",
     "output_type": "stream",
     "text": [
      "I am from Sweden\n"
     ]
    }
   ],
   "source": [
    "my_function('Sweden')"
   ]
  },
  {
   "cell_type": "markdown",
   "id": "714f5d8d",
   "metadata": {},
   "source": [
    "# Pass a list as an argument"
   ]
  },
  {
   "cell_type": "code",
   "execution_count": 68,
   "id": "88439322",
   "metadata": {},
   "outputs": [],
   "source": [
    "def my_function(fruit):\n",
    "    for i in fruit:\n",
    "        print(i)"
   ]
  },
  {
   "cell_type": "code",
   "execution_count": 54,
   "id": "280fc13b",
   "metadata": {},
   "outputs": [],
   "source": [
    "fruit=['apple','banana','cherry','mango']"
   ]
  },
  {
   "cell_type": "code",
   "execution_count": 55,
   "id": "14618e49",
   "metadata": {},
   "outputs": [
    {
     "name": "stdout",
     "output_type": "stream",
     "text": [
      "apple\n",
      "banana\n",
      "cherry\n",
      "mango\n"
     ]
    }
   ],
   "source": [
    "my_function(fruit)"
   ]
  },
  {
   "cell_type": "code",
   "execution_count": 86,
   "id": "71b531b4",
   "metadata": {},
   "outputs": [],
   "source": [
    "def my_function1(x):\n",
    "    for i in fruit5:\n",
    "        print(i)"
   ]
  },
  {
   "cell_type": "code",
   "execution_count": 87,
   "id": "2f4954dc",
   "metadata": {},
   "outputs": [],
   "source": [
    "fruit5=['apple','banana','cherry','mango']\n"
   ]
  },
  {
   "cell_type": "code",
   "execution_count": 88,
   "id": "9aeb9a76",
   "metadata": {},
   "outputs": [
    {
     "name": "stdout",
     "output_type": "stream",
     "text": [
      "apple\n",
      "banana\n",
      "cherry\n",
      "mango\n"
     ]
    }
   ],
   "source": [
    "my_function1(fruit5)"
   ]
  },
  {
   "cell_type": "code",
   "execution_count": 66,
   "id": "0331acc5",
   "metadata": {},
   "outputs": [],
   "source": [
    "def my_function(number):\n",
    "    for i in fruit4:\n",
    "        print(i)"
   ]
  },
  {
   "cell_type": "code",
   "execution_count": 63,
   "id": "6375636d",
   "metadata": {},
   "outputs": [
    {
     "name": "stdout",
     "output_type": "stream",
     "text": [
      "apple\n",
      "banana\n",
      "cherry\n",
      "mango\n",
      "apple2\n"
     ]
    }
   ],
   "source": [
    "fruit3=['apple','banana','cherry','mango','apple2']\n",
    "my_function(fruit3)"
   ]
  },
  {
   "cell_type": "code",
   "execution_count": 67,
   "id": "85f93711",
   "metadata": {},
   "outputs": [
    {
     "name": "stdout",
     "output_type": "stream",
     "text": [
      "1\n",
      "2\n",
      "3\n",
      "4\n",
      "5\n",
      "6\n"
     ]
    }
   ],
   "source": [
    "fruit4=[1,2,3,4,5,6]\n",
    "my_function(fruit4)"
   ]
  },
  {
   "cell_type": "code",
   "execution_count": 89,
   "id": "f707b2c6",
   "metadata": {},
   "outputs": [],
   "source": [
    "def my_function11(fruit6):\n",
    "    for i in fruit6:\n",
    "        print(i)"
   ]
  },
  {
   "cell_type": "code",
   "execution_count": 92,
   "id": "72caf7b2",
   "metadata": {},
   "outputs": [],
   "source": [
    "xx=['apple','banana','cherry','mango','apple2','yy']"
   ]
  },
  {
   "cell_type": "code",
   "execution_count": 93,
   "id": "45284855",
   "metadata": {},
   "outputs": [
    {
     "name": "stdout",
     "output_type": "stream",
     "text": [
      "apple\n",
      "banana\n",
      "cherry\n",
      "mango\n",
      "apple2\n",
      "yy\n"
     ]
    }
   ],
   "source": [
    "my_function(xx)"
   ]
  },
  {
   "cell_type": "markdown",
   "id": "42e3bf38",
   "metadata": {},
   "source": [
    "# return values"
   ]
  },
  {
   "cell_type": "code",
   "execution_count": 94,
   "id": "efab1b3f",
   "metadata": {},
   "outputs": [],
   "source": [
    "def multi(x):\n",
    "    return 5*x"
   ]
  },
  {
   "cell_type": "code",
   "execution_count": 95,
   "id": "43c90dbb",
   "metadata": {},
   "outputs": [
    {
     "name": "stdout",
     "output_type": "stream",
     "text": [
      "25\n"
     ]
    }
   ],
   "source": [
    "print(multi(5))"
   ]
  },
  {
   "cell_type": "code",
   "execution_count": 96,
   "id": "84f59680",
   "metadata": {},
   "outputs": [
    {
     "name": "stdout",
     "output_type": "stream",
     "text": [
      "35\n"
     ]
    }
   ],
   "source": [
    "print(multi(7))"
   ]
  },
  {
   "cell_type": "markdown",
   "id": "970b2d6b",
   "metadata": {},
   "source": [
    "# recursion"
   ]
  },
  {
   "cell_type": "markdown",
   "id": "a8c145f6",
   "metadata": {},
   "source": [
    "# tri_recursion( ) is a function that we have defined to call itself.\n",
    "\n",
    "We use k variable as the data , which decrements(-1) every time we recurse.\n",
    "the recursion ends when the condition is not greater that 0."
   ]
  },
  {
   "cell_type": "code",
   "execution_count": 99,
   "id": "d7bab0f5",
   "metadata": {},
   "outputs": [],
   "source": [
    "def tri_recursion(k):\n",
    "    if (k>0):\n",
    "        result= k+tri_recursion(k-1)\n",
    "        print(result)\n",
    "    else:\n",
    "        result=0\n",
    "        \n",
    "    return result"
   ]
  },
  {
   "cell_type": "code",
   "execution_count": 100,
   "id": "3badb0d5",
   "metadata": {},
   "outputs": [
    {
     "name": "stdout",
     "output_type": "stream",
     "text": [
      "1\n",
      "3\n",
      "6\n",
      "10\n",
      "15\n",
      "21\n"
     ]
    },
    {
     "data": {
      "text/plain": [
       "21"
      ]
     },
     "execution_count": 100,
     "metadata": {},
     "output_type": "execute_result"
    }
   ],
   "source": [
    "tri_recursion(6)"
   ]
  },
  {
   "cell_type": "code",
   "execution_count": 101,
   "id": "ef16b2d2",
   "metadata": {},
   "outputs": [
    {
     "name": "stdout",
     "output_type": "stream",
     "text": [
      "1\n",
      "3\n"
     ]
    },
    {
     "data": {
      "text/plain": [
       "3"
      ]
     },
     "execution_count": 101,
     "metadata": {},
     "output_type": "execute_result"
    }
   ],
   "source": [
    "tri_recursion(2)"
   ]
  },
  {
   "cell_type": "code",
   "execution_count": 102,
   "id": "78c8c687",
   "metadata": {},
   "outputs": [
    {
     "name": "stdout",
     "output_type": "stream",
     "text": [
      "1\n",
      "3\n",
      "6\n"
     ]
    },
    {
     "data": {
      "text/plain": [
       "6"
      ]
     },
     "execution_count": 102,
     "metadata": {},
     "output_type": "execute_result"
    }
   ],
   "source": [
    "tri_recursion(3)"
   ]
  },
  {
   "cell_type": "code",
   "execution_count": 104,
   "id": "6df1346a",
   "metadata": {},
   "outputs": [
    {
     "name": "stdout",
     "output_type": "stream",
     "text": [
      "1\n",
      "3\n",
      "6\n",
      "10\n",
      "15\n"
     ]
    },
    {
     "data": {
      "text/plain": [
       "15"
      ]
     },
     "execution_count": 104,
     "metadata": {},
     "output_type": "execute_result"
    }
   ],
   "source": [
    "tri_recursion(5)"
   ]
  },
  {
   "cell_type": "code",
   "execution_count": 105,
   "id": "cf3e97b7",
   "metadata": {},
   "outputs": [],
   "source": [
    "def recur(i):\n",
    "    if (i>0):\n",
    "        result= i+recur(i-1)\n",
    "        print(result)\n",
    "    else:\n",
    "        result=0\n",
    "        \n",
    "    return result"
   ]
  },
  {
   "cell_type": "code",
   "execution_count": 106,
   "id": "3dbe70a3",
   "metadata": {},
   "outputs": [
    {
     "name": "stdout",
     "output_type": "stream",
     "text": [
      "1\n",
      "3\n",
      "6\n",
      "10\n",
      "15\n"
     ]
    },
    {
     "data": {
      "text/plain": [
       "15"
      ]
     },
     "execution_count": 106,
     "metadata": {},
     "output_type": "execute_result"
    }
   ],
   "source": [
    "recur(5)"
   ]
  },
  {
   "cell_type": "markdown",
   "id": "e82d0484",
   "metadata": {},
   "source": [
    "# anonymus function"
   ]
  },
  {
   "cell_type": "markdown",
   "id": "bccf1af7",
   "metadata": {},
   "source": [
    "A lambda function is a small anonymus function."
   ]
  },
  {
   "cell_type": "markdown",
   "id": "15d9a0d6",
   "metadata": {},
   "source": [
    "A lambda function can take any number of arguments, but can only have one expression."
   ]
  },
  {
   "cell_type": "markdown",
   "id": "90358744",
   "metadata": {},
   "source": [
    "# Syntax\n",
    "\n",
    "lambda arguments : expression"
   ]
  },
  {
   "cell_type": "code",
   "execution_count": 107,
   "id": "465ae478",
   "metadata": {},
   "outputs": [],
   "source": [
    "# add 10 to a argument a, and return the result.\n",
    "\n",
    "x= lambda a : a+10"
   ]
  },
  {
   "cell_type": "code",
   "execution_count": 108,
   "id": "570a635b",
   "metadata": {},
   "outputs": [
    {
     "name": "stdout",
     "output_type": "stream",
     "text": [
      "15\n"
     ]
    }
   ],
   "source": [
    "print(x(5))"
   ]
  },
  {
   "cell_type": "code",
   "execution_count": 109,
   "id": "b7e9b30b",
   "metadata": {},
   "outputs": [
    {
     "name": "stdout",
     "output_type": "stream",
     "text": [
      "20\n"
     ]
    }
   ],
   "source": [
    "print(x(10))"
   ]
  },
  {
   "cell_type": "code",
   "execution_count": 119,
   "id": "271137cf",
   "metadata": {},
   "outputs": [
    {
     "name": "stdout",
     "output_type": "stream",
     "text": [
      "96\n"
     ]
    },
    {
     "data": {
      "text/plain": [
       "75"
      ]
     },
     "execution_count": 119,
     "metadata": {},
     "output_type": "execute_result"
    }
   ],
   "source": [
    "# Multiply argument a,b  \n",
    "\n",
    "y= lambda a,b : a*b\n",
    "print(y(12,8))\n",
    "y(5,15)"
   ]
  },
  {
   "cell_type": "code",
   "execution_count": 115,
   "id": "0611e51d",
   "metadata": {},
   "outputs": [
    {
     "data": {
      "text/plain": [
       "150"
      ]
     },
     "execution_count": 115,
     "metadata": {},
     "output_type": "execute_result"
    }
   ],
   "source": [
    "y(25,6)"
   ]
  },
  {
   "cell_type": "code",
   "execution_count": 120,
   "id": "0ca24960",
   "metadata": {},
   "outputs": [],
   "source": [
    "z= lambda p,q,r : p*q*r"
   ]
  },
  {
   "cell_type": "code",
   "execution_count": 121,
   "id": "a4c89a02",
   "metadata": {},
   "outputs": [
    {
     "data": {
      "text/plain": [
       "60"
      ]
     },
     "execution_count": 121,
     "metadata": {},
     "output_type": "execute_result"
    }
   ],
   "source": [
    "z(2,5,6)"
   ]
  },
  {
   "cell_type": "code",
   "execution_count": 122,
   "id": "9644f2b9",
   "metadata": {},
   "outputs": [
    {
     "ename": "SyntaxError",
     "evalue": "invalid syntax (4179714985.py, line 1)",
     "output_type": "error",
     "traceback": [
      "\u001b[1;36m  Input \u001b[1;32mIn [122]\u001b[1;36m\u001b[0m\n\u001b[1;33m    z2 = lambda a,b : if a>b: print(a*b) else : print(a+b)\u001b[0m\n\u001b[1;37m                      ^\u001b[0m\n\u001b[1;31mSyntaxError\u001b[0m\u001b[1;31m:\u001b[0m invalid syntax\n"
     ]
    }
   ],
   "source": [
    "z2 = lambda a,b : if a>b: print(a*b) else : print(a+b)"
   ]
  },
  {
   "cell_type": "code",
   "execution_count": 123,
   "id": "a2b66dce",
   "metadata": {},
   "outputs": [],
   "source": [
    "def myfunction(n):\n",
    "    return lambda a : a*n"
   ]
  },
  {
   "cell_type": "code",
   "execution_count": 124,
   "id": "94cbdfd7",
   "metadata": {},
   "outputs": [],
   "source": [
    "myres= myfunction(2)"
   ]
  },
  {
   "cell_type": "code",
   "execution_count": 125,
   "id": "1f94cbc9",
   "metadata": {},
   "outputs": [
    {
     "data": {
      "text/plain": [
       "22"
      ]
     },
     "execution_count": 125,
     "metadata": {},
     "output_type": "execute_result"
    }
   ],
   "source": [
    "myres(11)"
   ]
  },
  {
   "cell_type": "code",
   "execution_count": 126,
   "id": "3b7c365a",
   "metadata": {},
   "outputs": [
    {
     "data": {
      "text/plain": [
       "118"
      ]
     },
     "execution_count": 126,
     "metadata": {},
     "output_type": "execute_result"
    }
   ],
   "source": [
    "myres(59)"
   ]
  },
  {
   "cell_type": "code",
   "execution_count": 127,
   "id": "0097f65e",
   "metadata": {},
   "outputs": [],
   "source": [
    "myres= myfunction(3)"
   ]
  },
  {
   "cell_type": "code",
   "execution_count": 128,
   "id": "5ba3f3ca",
   "metadata": {},
   "outputs": [
    {
     "data": {
      "text/plain": [
       "33"
      ]
     },
     "execution_count": 128,
     "metadata": {},
     "output_type": "execute_result"
    }
   ],
   "source": [
    "myres(11)"
   ]
  },
  {
   "cell_type": "markdown",
   "id": "1f03c692",
   "metadata": {},
   "source": [
    "# Random module"
   ]
  },
  {
   "cell_type": "markdown",
   "id": "7864ee49",
   "metadata": {},
   "source": [
    "python provide multiple inbuilt function that are used to choose or generate random no. by using random module."
   ]
  },
  {
   "cell_type": "code",
   "execution_count": 129,
   "id": "dbae9ccb",
   "metadata": {},
   "outputs": [],
   "source": [
    "# Choice( ) - Pick random no.\n",
    "# Randint( ) - use random no. from particular list\n",
    "# shuffle( )- which shuffle a value of list"
   ]
  },
  {
   "cell_type": "code",
   "execution_count": 130,
   "id": "6db85034",
   "metadata": {},
   "outputs": [],
   "source": [
    "# Import\n",
    "\n",
    "# import random\n",
    "# from random import function_name"
   ]
  },
  {
   "cell_type": "code",
   "execution_count": 131,
   "id": "b087ea71",
   "metadata": {},
   "outputs": [],
   "source": [
    "# using  choice\n",
    "\n",
    "l1= [1,2,3,4,8,6,158,4654,340]"
   ]
  },
  {
   "cell_type": "code",
   "execution_count": 133,
   "id": "126acecd",
   "metadata": {},
   "outputs": [],
   "source": [
    "from random import choice"
   ]
  },
  {
   "cell_type": "code",
   "execution_count": 138,
   "id": "20446437",
   "metadata": {},
   "outputs": [
    {
     "data": {
      "text/plain": [
       "1"
      ]
     },
     "execution_count": 138,
     "metadata": {},
     "output_type": "execute_result"
    }
   ],
   "source": [
    "choice(l1)"
   ]
  },
  {
   "cell_type": "code",
   "execution_count": 151,
   "id": "00c65d67",
   "metadata": {},
   "outputs": [
    {
     "name": "stdout",
     "output_type": "stream",
     "text": [
      "your otp is :  678\n"
     ]
    }
   ],
   "source": [
    "# Randint( )\n",
    "from random import randint\n",
    "otp= randint(1,1000)\n",
    "print('your otp is : ', otp)"
   ]
  },
  {
   "cell_type": "code",
   "execution_count": 152,
   "id": "b427a435",
   "metadata": {},
   "outputs": [],
   "source": [
    "import random"
   ]
  },
  {
   "cell_type": "code",
   "execution_count": null,
   "id": "4c31e422",
   "metadata": {},
   "outputs": [],
   "source": [
    "random."
   ]
  },
  {
   "cell_type": "code",
   "execution_count": 156,
   "id": "c94c6a63",
   "metadata": {},
   "outputs": [],
   "source": [
    "# shuffle\n",
    "\n",
    "l2=['apple','banana','cherry']"
   ]
  },
  {
   "cell_type": "code",
   "execution_count": 163,
   "id": "211f850b",
   "metadata": {},
   "outputs": [
    {
     "name": "stdout",
     "output_type": "stream",
     "text": [
      "['cherry', 'apple', 'banana']\n"
     ]
    }
   ],
   "source": [
    "random.shuffle(l2)\n",
    "print(l2)"
   ]
  },
  {
   "cell_type": "code",
   "execution_count": 164,
   "id": "9a4ecfaf",
   "metadata": {},
   "outputs": [],
   "source": [
    "#tuples\n",
    "\n",
    "a = ()"
   ]
  },
  {
   "cell_type": "code",
   "execution_count": 165,
   "id": "688f267a",
   "metadata": {},
   "outputs": [
    {
     "name": "stdout",
     "output_type": "stream",
     "text": [
      "()\n"
     ]
    }
   ],
   "source": [
    "print(a)"
   ]
  },
  {
   "cell_type": "code",
   "execution_count": 166,
   "id": "adc702c6",
   "metadata": {},
   "outputs": [
    {
     "data": {
      "text/plain": [
       "['__add__',\n",
       " '__class__',\n",
       " '__class_getitem__',\n",
       " '__contains__',\n",
       " '__delattr__',\n",
       " '__dir__',\n",
       " '__doc__',\n",
       " '__eq__',\n",
       " '__format__',\n",
       " '__ge__',\n",
       " '__getattribute__',\n",
       " '__getitem__',\n",
       " '__getnewargs__',\n",
       " '__gt__',\n",
       " '__hash__',\n",
       " '__init__',\n",
       " '__init_subclass__',\n",
       " '__iter__',\n",
       " '__le__',\n",
       " '__len__',\n",
       " '__lt__',\n",
       " '__mul__',\n",
       " '__ne__',\n",
       " '__new__',\n",
       " '__reduce__',\n",
       " '__reduce_ex__',\n",
       " '__repr__',\n",
       " '__rmul__',\n",
       " '__setattr__',\n",
       " '__sizeof__',\n",
       " '__str__',\n",
       " '__subclasshook__',\n",
       " 'count',\n",
       " 'index']"
      ]
     },
     "execution_count": 166,
     "metadata": {},
     "output_type": "execute_result"
    }
   ],
   "source": [
    "dir(a)"
   ]
  },
  {
   "cell_type": "code",
   "execution_count": 167,
   "id": "6d893036",
   "metadata": {},
   "outputs": [],
   "source": [
    "# list\n",
    "x=[]"
   ]
  },
  {
   "cell_type": "code",
   "execution_count": 168,
   "id": "65f4cfcf",
   "metadata": {},
   "outputs": [
    {
     "data": {
      "text/plain": [
       "list"
      ]
     },
     "execution_count": 168,
     "metadata": {},
     "output_type": "execute_result"
    }
   ],
   "source": [
    "type(x)"
   ]
  },
  {
   "cell_type": "code",
   "execution_count": 169,
   "id": "0669b9f2",
   "metadata": {},
   "outputs": [
    {
     "data": {
      "text/plain": [
       "['__add__',\n",
       " '__class__',\n",
       " '__class_getitem__',\n",
       " '__contains__',\n",
       " '__delattr__',\n",
       " '__delitem__',\n",
       " '__dir__',\n",
       " '__doc__',\n",
       " '__eq__',\n",
       " '__format__',\n",
       " '__ge__',\n",
       " '__getattribute__',\n",
       " '__getitem__',\n",
       " '__gt__',\n",
       " '__hash__',\n",
       " '__iadd__',\n",
       " '__imul__',\n",
       " '__init__',\n",
       " '__init_subclass__',\n",
       " '__iter__',\n",
       " '__le__',\n",
       " '__len__',\n",
       " '__lt__',\n",
       " '__mul__',\n",
       " '__ne__',\n",
       " '__new__',\n",
       " '__reduce__',\n",
       " '__reduce_ex__',\n",
       " '__repr__',\n",
       " '__reversed__',\n",
       " '__rmul__',\n",
       " '__setattr__',\n",
       " '__setitem__',\n",
       " '__sizeof__',\n",
       " '__str__',\n",
       " '__subclasshook__',\n",
       " 'append',\n",
       " 'clear',\n",
       " 'copy',\n",
       " 'count',\n",
       " 'extend',\n",
       " 'index',\n",
       " 'insert',\n",
       " 'pop',\n",
       " 'remove',\n",
       " 'reverse',\n",
       " 'sort']"
      ]
     },
     "execution_count": 169,
     "metadata": {},
     "output_type": "execute_result"
    }
   ],
   "source": [
    "dir(x)"
   ]
  },
  {
   "cell_type": "markdown",
   "id": "a91a644f",
   "metadata": {},
   "source": [
    "# Math module"
   ]
  },
  {
   "cell_type": "markdown",
   "id": "b59ca25b",
   "metadata": {},
   "source": [
    "# functions\n",
    "\n",
    "factorial( ) - used to find the factorial\n",
    "ceil( )- Raound up the integer.\n",
    "floor( )- Round down the integer\n",
    "Sqrt( )- return square root of the value"
   ]
  },
  {
   "cell_type": "markdown",
   "id": "91d5c997",
   "metadata": {},
   "source": [
    "# import\n",
    "\n",
    "1) import math\n",
    "\n",
    "2) from math import function_name"
   ]
  },
  {
   "cell_type": "markdown",
   "id": "f058a288",
   "metadata": {},
   "source": [
    "math.tab to see all functions"
   ]
  },
  {
   "cell_type": "code",
   "execution_count": 170,
   "id": "ff4e3edb",
   "metadata": {},
   "outputs": [],
   "source": [
    "import math"
   ]
  },
  {
   "cell_type": "code",
   "execution_count": 171,
   "id": "58069389",
   "metadata": {},
   "outputs": [
    {
     "data": {
      "text/plain": [
       "720"
      ]
     },
     "execution_count": 171,
     "metadata": {},
     "output_type": "execute_result"
    }
   ],
   "source": [
    "# factorial\n",
    "math.factorial(6)"
   ]
  },
  {
   "cell_type": "code",
   "execution_count": 172,
   "id": "4adc0930",
   "metadata": {},
   "outputs": [
    {
     "data": {
      "text/plain": [
       "6"
      ]
     },
     "execution_count": 172,
     "metadata": {},
     "output_type": "execute_result"
    }
   ],
   "source": [
    "math.factorial(3)"
   ]
  },
  {
   "cell_type": "code",
   "execution_count": 173,
   "id": "096c2f3d",
   "metadata": {},
   "outputs": [
    {
     "data": {
      "text/plain": [
       "8"
      ]
     },
     "execution_count": 173,
     "metadata": {},
     "output_type": "execute_result"
    }
   ],
   "source": [
    "# ceil( )\n",
    "math.ceil(7.4)"
   ]
  },
  {
   "cell_type": "code",
   "execution_count": 174,
   "id": "83369bab",
   "metadata": {},
   "outputs": [
    {
     "data": {
      "text/plain": [
       "1"
      ]
     },
     "execution_count": 174,
     "metadata": {},
     "output_type": "execute_result"
    }
   ],
   "source": [
    "math.ceil(.5)"
   ]
  },
  {
   "cell_type": "code",
   "execution_count": 175,
   "id": "d3fe694f",
   "metadata": {},
   "outputs": [
    {
     "name": "stdout",
     "output_type": "stream",
     "text": [
      "33\n"
     ]
    }
   ],
   "source": [
    "print(round(33.33))"
   ]
  },
  {
   "cell_type": "code",
   "execution_count": 176,
   "id": "7f9f8133",
   "metadata": {},
   "outputs": [
    {
     "name": "stdout",
     "output_type": "stream",
     "text": [
      "34\n"
     ]
    }
   ],
   "source": [
    "print(round(33.6))"
   ]
  },
  {
   "cell_type": "code",
   "execution_count": 177,
   "id": "9985cb84",
   "metadata": {},
   "outputs": [
    {
     "name": "stdout",
     "output_type": "stream",
     "text": [
      "34\n"
     ]
    }
   ],
   "source": [
    "print(round(33.5))"
   ]
  },
  {
   "cell_type": "code",
   "execution_count": 178,
   "id": "1f1799ff",
   "metadata": {},
   "outputs": [
    {
     "name": "stdout",
     "output_type": "stream",
     "text": [
      "33.79\n"
     ]
    }
   ],
   "source": [
    "print(round(33.7899653,2))"
   ]
  },
  {
   "cell_type": "code",
   "execution_count": 179,
   "id": "16d450de",
   "metadata": {},
   "outputs": [
    {
     "data": {
      "text/plain": [
       "-2"
      ]
     },
     "execution_count": 179,
     "metadata": {},
     "output_type": "execute_result"
    }
   ],
   "source": [
    "#floor\n",
    "\n",
    "math.floor(-1.5)"
   ]
  },
  {
   "cell_type": "code",
   "execution_count": 180,
   "id": "fce3dd1f",
   "metadata": {},
   "outputs": [
    {
     "data": {
      "text/plain": [
       "3"
      ]
     },
     "execution_count": 180,
     "metadata": {},
     "output_type": "execute_result"
    }
   ],
   "source": [
    "math.floor(3.9)"
   ]
  },
  {
   "cell_type": "code",
   "execution_count": 181,
   "id": "88da5890",
   "metadata": {},
   "outputs": [
    {
     "data": {
      "text/plain": [
       "3.1622776601683795"
      ]
     },
     "execution_count": 181,
     "metadata": {},
     "output_type": "execute_result"
    }
   ],
   "source": [
    "# sqrt( )\n",
    "\n",
    "math.sqrt(10)"
   ]
  },
  {
   "cell_type": "code",
   "execution_count": 182,
   "id": "606dfa29",
   "metadata": {},
   "outputs": [
    {
     "data": {
      "text/plain": [
       "9.0"
      ]
     },
     "execution_count": 182,
     "metadata": {},
     "output_type": "execute_result"
    }
   ],
   "source": [
    "math.sqrt(81)"
   ]
  },
  {
   "cell_type": "code",
   "execution_count": 183,
   "id": "b930cc62",
   "metadata": {},
   "outputs": [
    {
     "name": "stdout",
     "output_type": "stream",
     "text": [
      "9\n"
     ]
    }
   ],
   "source": [
    "print(int(math.sqrt(81)))"
   ]
  },
  {
   "cell_type": "code",
   "execution_count": 184,
   "id": "50c72e7e",
   "metadata": {},
   "outputs": [],
   "source": [
    "x= min(5,88,2,64)"
   ]
  },
  {
   "cell_type": "code",
   "execution_count": 185,
   "id": "ea2bcfc0",
   "metadata": {},
   "outputs": [
    {
     "name": "stdout",
     "output_type": "stream",
     "text": [
      "2\n"
     ]
    }
   ],
   "source": [
    "print(x)"
   ]
  },
  {
   "cell_type": "code",
   "execution_count": 186,
   "id": "6b4e29ba",
   "metadata": {},
   "outputs": [
    {
     "name": "stdout",
     "output_type": "stream",
     "text": [
      "88\n"
     ]
    }
   ],
   "source": [
    "y= max(5,88,2,64)\n",
    "print(y)"
   ]
  },
  {
   "cell_type": "code",
   "execution_count": 187,
   "id": "84dbbcb6",
   "metadata": {},
   "outputs": [
    {
     "name": "stdout",
     "output_type": "stream",
     "text": [
      "7.53\n"
     ]
    }
   ],
   "source": [
    "# abs( )\n",
    "\n",
    "x2=abs(-7.53)\n",
    "print(x2)"
   ]
  },
  {
   "cell_type": "code",
   "execution_count": 188,
   "id": "ea1ba41c",
   "metadata": {},
   "outputs": [
    {
     "name": "stdout",
     "output_type": "stream",
     "text": [
      "64\n"
     ]
    }
   ],
   "source": [
    "# pow\n",
    "\n",
    "x3=pow(4,3)\n",
    "print(x3)"
   ]
  },
  {
   "cell_type": "code",
   "execution_count": 189,
   "id": "61c25cb1",
   "metadata": {},
   "outputs": [
    {
     "name": "stdout",
     "output_type": "stream",
     "text": [
      "3.141592653589793\n"
     ]
    }
   ],
   "source": [
    "# math constants\n",
    "x4=math.pi\n",
    "print(x4)"
   ]
  },
  {
   "cell_type": "markdown",
   "id": "b65198a7",
   "metadata": {},
   "source": [
    "math.e (euler's no.)\n",
    "math.inf\n",
    "math.nan\n",
    "math.pi\n",
    "math.tau"
   ]
  },
  {
   "cell_type": "markdown",
   "id": "b019f74c",
   "metadata": {},
   "source": [
    "# function questions"
   ]
  },
  {
   "cell_type": "markdown",
   "id": "4604d9f7",
   "metadata": {},
   "source": [
    "\n",
    "\n",
    "Q1) Create a function that can accept 2 arguments name and subject and print value.\n",
    "\n",
    "Q2) Write a function sum() suc that it can accept 2 no. arguments and print the sum of 2 arguments.\n",
    "\n",
    "Q3) Write a function calculation() suchh that it accept 2 variable and calculate the addition , subtraction and division.\n",
    "\n",
    "Q4) Write a recursive function to calculate the sum of number from 0 to 10.\n",
    "\n",
    "Q5) Create a function without any name that can accept 2 argument and then print the sum of its value.\n",
    "\n",
    "Q6) WAP to generate a random number between 1000 to 5000 using python inbuilt module.\n",
    "\n",
    "Q7) WAP to generate a random captcha list,using python inbuilt module.\n",
    "\n",
    "Q8) WAP to shuffle captcha list , using python inbuilt module."
   ]
  },
  {
   "cell_type": "markdown",
   "id": "85539472",
   "metadata": {},
   "source": [
    "# Questions from list,tup,set,dict\n",
    "\n",
    "Q1) WAP to acept a list from the user and print the alternate element of list.\n",
    "\n",
    "Q2) WAP to remove the element '3' from the given list [1,2,3,4,5,6].\n",
    "\n",
    "Q3) WAP to insert the element 'Python' on index 2 in the given list ['Java','Php','.Net','Angular'].\n",
    "\n",
    "Q4) WAP to add element in the list using for loop.\n",
    "\n",
    "Q5) WAP to perform slicing with given tuple ('Python',1,2,3,'Java','A','B') with following slicing point: a) print alternate value of tuple. b) Print the last value of tuple. c) print the value between index 1 to 5.\n",
    "\n",
    "Q6) WAP to count element in given tuple (1,2,3,4,5,6,7,8,9).\n",
    "\n",
    "Q7) WAP to convert tuple into list.\n",
    "\n",
    "Q8) WAP to convert 2 given list into dictionary. list1[1,2,3,4,5] list2['A','B','C','D','E'].\n",
    "\n",
    "Q9) WAP to print the keys from the given Dictionary {1:'Apple',2:'Banana',3:'Mango'} and print keys into list.\n",
    "\n",
    "Q10)WAP to print the Values from the given Dictionary {1:'Apple',2:'Banana',3:'Mango'} and print Values into list."
   ]
  },
  {
   "cell_type": "code",
   "execution_count": null,
   "id": "7629b546",
   "metadata": {},
   "outputs": [],
   "source": []
  }
 ],
 "metadata": {
  "kernelspec": {
   "display_name": "Python 3 (ipykernel)",
   "language": "python",
   "name": "python3"
  },
  "language_info": {
   "codemirror_mode": {
    "name": "ipython",
    "version": 3
   },
   "file_extension": ".py",
   "mimetype": "text/x-python",
   "name": "python",
   "nbconvert_exporter": "python",
   "pygments_lexer": "ipython3",
   "version": "3.9.12"
  }
 },
 "nbformat": 4,
 "nbformat_minor": 5
}
