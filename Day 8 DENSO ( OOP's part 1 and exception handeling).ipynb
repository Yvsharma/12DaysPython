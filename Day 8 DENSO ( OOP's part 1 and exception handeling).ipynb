{
 "cells": [
  {
   "cell_type": "markdown",
   "id": "c3cc787d",
   "metadata": {},
   "source": [
    "# OOPs"
   ]
  },
  {
   "cell_type": "markdown",
   "id": "96b825e0",
   "metadata": {},
   "source": [
    "Object oriented programming"
   ]
  },
  {
   "cell_type": "markdown",
   "id": "204bee5e",
   "metadata": {},
   "source": [
    "Class :\n",
    "     classes is a template/blue-print for real world entities.\n",
    "        \n",
    "class has :- 1) properties\n",
    "    \n",
    "            2) Behaviour"
   ]
  },
  {
   "cell_type": "markdown",
   "id": "9becbf97",
   "metadata": {},
   "source": [
    "Class = phone\n",
    "\n",
    " properties (attribute) :- color,cost,battery life\n",
    " \n",
    " behavior (Method) :- make calls, watch videos, play games"
   ]
  },
  {
   "cell_type": "markdown",
   "id": "bec97d9d",
   "metadata": {},
   "source": [
    "Objects : objects are specific instances of a class.\n",
    "    ex:- we have mobile (class)\n",
    "        Mobile of apple. (object)\n",
    "        \n",
    "specific instances of mobile data type\n",
    "ex:- apple, ld,one+"
   ]
  },
  {
   "cell_type": "markdown",
   "id": "f33c1ff3",
   "metadata": {},
   "source": [
    "# creating our first class\n",
    "\n",
    "syntax:-\n",
    "    \n",
    "class class_name:\n",
    "\n",
    "    def function_name():\n",
    "    \n",
    "        body\n"
   ]
  },
  {
   "cell_type": "code",
   "execution_count": 1,
   "id": "8480c4c2",
   "metadata": {},
   "outputs": [],
   "source": [
    "class phone:\n",
    "    def make_call(self):\n",
    "        print('making phone call')\n",
    "        \n",
    "    def play_games(self):\n",
    "        print('we are playing games')"
   ]
  },
  {
   "cell_type": "code",
   "execution_count": 2,
   "id": "bdb801ae",
   "metadata": {},
   "outputs": [],
   "source": [
    "# creating object\n",
    "\n",
    "p = phone()"
   ]
  },
  {
   "cell_type": "code",
   "execution_count": 3,
   "id": "a25a79d7",
   "metadata": {},
   "outputs": [
    {
     "name": "stdout",
     "output_type": "stream",
     "text": [
      "we are playing games\n"
     ]
    }
   ],
   "source": [
    "# invoking\n",
    "p.play_games()"
   ]
  },
  {
   "cell_type": "code",
   "execution_count": 4,
   "id": "b0bc3492",
   "metadata": {},
   "outputs": [
    {
     "name": "stdout",
     "output_type": "stream",
     "text": [
      "making phone call\n"
     ]
    }
   ],
   "source": [
    "p.make_call()"
   ]
  },
  {
   "cell_type": "code",
   "execution_count": 5,
   "id": "eab96627",
   "metadata": {},
   "outputs": [
    {
     "name": "stdout",
     "output_type": "stream",
     "text": [
      "making phone call\n"
     ]
    }
   ],
   "source": [
    "phone().make_call()"
   ]
  },
  {
   "cell_type": "code",
   "execution_count": 6,
   "id": "9a11ae63",
   "metadata": {},
   "outputs": [
    {
     "ename": "NameError",
     "evalue": "name 'phone1' is not defined",
     "output_type": "error",
     "traceback": [
      "\u001b[1;31m---------------------------------------------------------------------------\u001b[0m",
      "\u001b[1;31mNameError\u001b[0m                                 Traceback (most recent call last)",
      "Input \u001b[1;32mIn [6]\u001b[0m, in \u001b[0;36m<cell line: 1>\u001b[1;34m()\u001b[0m\n\u001b[1;32m----> 1\u001b[0m p \u001b[38;5;241m=\u001b[39m \u001b[43mphone1\u001b[49m()\n",
      "\u001b[1;31mNameError\u001b[0m: name 'phone1' is not defined"
     ]
    }
   ],
   "source": [
    "# p = variable\n",
    "# phone1 = name of class\n",
    "# () = assign value for arguments\n",
    "p = phone1()"
   ]
  },
  {
   "cell_type": "code",
   "execution_count": 7,
   "id": "1c579137",
   "metadata": {},
   "outputs": [],
   "source": [
    "# Adding parameters to class\n",
    "\n",
    "class phone2:\n",
    "    def set_color(self,color):\n",
    "        self.color=color\n",
    "    def set_cost(self,cost):\n",
    "        self.cost=cost\n",
    "    def show_color(self):\n",
    "        return self.color\n",
    "        #print('making phone call')\n",
    "    def show_cost(self):\n",
    "        return self.cost\n",
    "        #print('we are playing games')\n",
    "        \n",
    "    def make_call(self):\n",
    "        print('making phone call')\n",
    "        \n",
    "    def play_games(self):\n",
    "        print('we are playing games')"
   ]
  },
  {
   "cell_type": "code",
   "execution_count": 8,
   "id": "9814ec31",
   "metadata": {},
   "outputs": [],
   "source": [
    "# object creating\n",
    "\n",
    "Ph=phone2()"
   ]
  },
  {
   "cell_type": "code",
   "execution_count": 10,
   "id": "ef6d47f3",
   "metadata": {},
   "outputs": [],
   "source": [
    "Ph.set_color('Red')\n",
    "Ph.set_cost(12000)"
   ]
  },
  {
   "cell_type": "code",
   "execution_count": 11,
   "id": "38a52822",
   "metadata": {},
   "outputs": [
    {
     "data": {
      "text/plain": [
       "'Red'"
      ]
     },
     "execution_count": 11,
     "metadata": {},
     "output_type": "execute_result"
    }
   ],
   "source": [
    "Ph.show_color()"
   ]
  },
  {
   "cell_type": "code",
   "execution_count": 12,
   "id": "c5265981",
   "metadata": {},
   "outputs": [
    {
     "data": {
      "text/plain": [
       "12000"
      ]
     },
     "execution_count": 12,
     "metadata": {},
     "output_type": "execute_result"
    }
   ],
   "source": [
    "Ph.show_cost()"
   ]
  },
  {
   "cell_type": "code",
   "execution_count": 13,
   "id": "6d8115a8",
   "metadata": {},
   "outputs": [
    {
     "name": "stdout",
     "output_type": "stream",
     "text": [
      "making phone call\n"
     ]
    }
   ],
   "source": [
    "Ph.make_call()"
   ]
  },
  {
   "cell_type": "code",
   "execution_count": 14,
   "id": "c5cdda2d",
   "metadata": {},
   "outputs": [
    {
     "name": "stdout",
     "output_type": "stream",
     "text": [
      "we are playing games\n"
     ]
    }
   ],
   "source": [
    "Ph.play_games()"
   ]
  },
  {
   "cell_type": "markdown",
   "id": "733c68be",
   "metadata": {},
   "source": [
    "# creating a class with comstructor\n",
    "\n",
    "it is a special type of function with which we can invoke or assign values to the attributes"
   ]
  },
  {
   "cell_type": "markdown",
   "id": "b38f0318",
   "metadata": {},
   "source": [
    "so , as soon as we create our object, all of the attribute inside ourclass would initialise if we have our constructor in our class."
   ]
  },
  {
   "cell_type": "markdown",
   "id": "014be1b8",
   "metadata": {},
   "source": [
    "# __init__ (syntax)\n",
    "\n",
    "def __init__(self,a,b,c,d)"
   ]
  },
  {
   "cell_type": "code",
   "execution_count": 19,
   "id": "ff85a875",
   "metadata": {},
   "outputs": [],
   "source": [
    "# Example\n",
    "\n",
    "class employee:\n",
    "    def __init__ (self,name,age,salary,gender):\n",
    "        self.name= name\n",
    "        self.age = age\n",
    "        self.salary = salary\n",
    "        self.gender = gender\n",
    "        \n",
    "    def employee_details(self):\n",
    "        print('Name of Employee is : ', self.name)\n",
    "        print('Salary of Employee is : ', self.salary)\n",
    "        print('Age of Employee is : ', self.age)\n",
    "        print('Gender of Employee is : ', self.gender)\n",
    "        \n",
    "        print(self.name , 'of age ', self.age, 'having', self.salary, 'salary')"
   ]
  },
  {
   "cell_type": "code",
   "execution_count": 20,
   "id": "c76156bc",
   "metadata": {},
   "outputs": [],
   "source": [
    "# object create\n",
    "E = employee('Sonu',27,1200,'Male')#"
   ]
  },
  {
   "cell_type": "code",
   "execution_count": 21,
   "id": "70851a07",
   "metadata": {},
   "outputs": [
    {
     "name": "stdout",
     "output_type": "stream",
     "text": [
      "Name of Employee is :  Sonu\n",
      "Salary of Employee is :  1200\n",
      "Age of Employee is :  27\n",
      "Gender of Employee is :  Male\n",
      "Sonu of age  27 having 1200 salary\n"
     ]
    }
   ],
   "source": [
    "# invoke\n",
    "\n",
    "E.employee_details()"
   ]
  },
  {
   "cell_type": "code",
   "execution_count": 22,
   "id": "a74b175e",
   "metadata": {},
   "outputs": [],
   "source": [
    "E = employee('Monu',21,1000,'Male')"
   ]
  },
  {
   "cell_type": "code",
   "execution_count": 23,
   "id": "25f5fe53",
   "metadata": {},
   "outputs": [
    {
     "name": "stdout",
     "output_type": "stream",
     "text": [
      "Name of Employee is :  Monu\n",
      "Salary of Employee is :  1000\n",
      "Age of Employee is :  21\n",
      "Gender of Employee is :  Male\n",
      "Monu of age  21 having 1000 salary\n"
     ]
    }
   ],
   "source": [
    "E.employee_details()"
   ]
  },
  {
   "cell_type": "markdown",
   "id": "e7ee6c59",
   "metadata": {},
   "source": [
    "# inheritance"
   ]
  },
  {
   "cell_type": "markdown",
   "id": "5f6071c7",
   "metadata": {},
   "source": [
    "types:-\n",
    "    \n",
    "    single\n",
    "    \n",
    "    multiple\n",
    "    \n",
    "    multilevel\n",
    "    \n",
    "    hierarchical\n",
    "    \n",
    "    hybrid"
   ]
  },
  {
   "cell_type": "markdown",
   "id": "f1fe05ff",
   "metadata": {},
   "source": [
    "with inheritance 1 class can derive the properties of other class."
   ]
  },
  {
   "cell_type": "code",
   "execution_count": 24,
   "id": "5fd07fdc",
   "metadata": {},
   "outputs": [],
   "source": [
    "class vehicle: # parent class\n",
    "    def __init__(self,mileage,cost):\n",
    "        self.mileage=mileage\n",
    "        self.cost=cost\n",
    "        \n",
    "    def show_details(self):\n",
    "        print('I am a vehicle')\n",
    "        print('Mileage is ', self.mileage)\n",
    "        print('cost is ', self.cost)"
   ]
  },
  {
   "cell_type": "code",
   "execution_count": 25,
   "id": "60429e2e",
   "metadata": {},
   "outputs": [],
   "source": [
    "class car(vehicle): # child class\n",
    "    def show_car(self):\n",
    "        print('I am a car')"
   ]
  },
  {
   "cell_type": "code",
   "execution_count": 27,
   "id": "05965194",
   "metadata": {},
   "outputs": [],
   "source": [
    "# create object\n",
    "\n",
    "C= car(15,2500)"
   ]
  },
  {
   "cell_type": "code",
   "execution_count": 28,
   "id": "2d1bb0ea",
   "metadata": {},
   "outputs": [
    {
     "name": "stdout",
     "output_type": "stream",
     "text": [
      "I am a car\n"
     ]
    }
   ],
   "source": [
    "C.show_car() # invoke child class"
   ]
  },
  {
   "cell_type": "code",
   "execution_count": 29,
   "id": "e7ea9d23",
   "metadata": {},
   "outputs": [
    {
     "name": "stdout",
     "output_type": "stream",
     "text": [
      "I am a vehicle\n",
      "Mileage is  15\n",
      "cost is  2500\n"
     ]
    }
   ],
   "source": [
    "C.show_details() # invoke parent class"
   ]
  },
  {
   "cell_type": "code",
   "execution_count": 30,
   "id": "789dd246",
   "metadata": {},
   "outputs": [],
   "source": [
    "# over riding init method\n",
    "\n",
    "class vehicle1: # parent class\n",
    "    def __init__(self,mileage,cost):\n",
    "        self.mileage=mileage\n",
    "        self.cost=cost\n",
    "        \n",
    "    def show_details(self):\n",
    "        print('I am a vehicle')\n",
    "        print('Mileage is ', self.mileage)\n",
    "        print('cost is ', self.cost)"
   ]
  },
  {
   "cell_type": "code",
   "execution_count": 31,
   "id": "15af5de1",
   "metadata": {},
   "outputs": [],
   "source": [
    "class car(vehicle1):\n",
    "    def __init__(self,mileage,cost,tyres,HP):\n",
    "        super().__init__(mileage,cost)\n",
    "        self.tyres= tyres\n",
    "        self.HP=HP\n",
    "        \n",
    "    def show_cardetails(self):\n",
    "        print('I am a car')\n",
    "        print('No. of tyres is ', self.tyres)\n",
    "        print('HP is ', self.HP)\n",
    "        "
   ]
  },
  {
   "cell_type": "code",
   "execution_count": 33,
   "id": "f56b518d",
   "metadata": {},
   "outputs": [],
   "source": [
    "# object\n",
    "\n",
    "c1=car(20,12000,4,300)"
   ]
  },
  {
   "cell_type": "code",
   "execution_count": 34,
   "id": "1eda0703",
   "metadata": {},
   "outputs": [
    {
     "name": "stdout",
     "output_type": "stream",
     "text": [
      "I am a vehicle\n",
      "Mileage is  20\n",
      "cost is  12000\n"
     ]
    }
   ],
   "source": [
    "c1.show_details()"
   ]
  },
  {
   "cell_type": "code",
   "execution_count": 35,
   "id": "f51bd8ac",
   "metadata": {},
   "outputs": [
    {
     "name": "stdout",
     "output_type": "stream",
     "text": [
      "I am a car\n",
      "No. of tyres is  4\n",
      "HP is  300\n"
     ]
    }
   ],
   "source": [
    "c1.show_cardetails()"
   ]
  },
  {
   "cell_type": "code",
   "execution_count": 36,
   "id": "eb2438f8",
   "metadata": {},
   "outputs": [],
   "source": [
    "class vehicle2: # parent class\n",
    "    def __init__(self,mileage,cost):\n",
    "        self.mileage=mileage\n",
    "        self.cost=cost\n",
    "        \n",
    "    def show_details(self):\n",
    "        print('I am a vehicle')\n",
    "        print('Mileage is ', self.mileage)\n",
    "        print('cost is ', self.cost)\n",
    "        print('HP is ', self.HP)\n",
    "        \n",
    "class car1(vehicle2):\n",
    "    def __init__(self,mileage,cost,tyres,HP):\n",
    "        super().__init__(mileage,cost)\n",
    "        self.tyres= tyres\n",
    "        self.HP=HP\n",
    "        \n",
    "    def show_cardetails(self):\n",
    "        print('I am a car')\n",
    "        print('No. of tyres is ', self.tyres)\n",
    "        print('HP is ', self.HP)"
   ]
  },
  {
   "cell_type": "code",
   "execution_count": 37,
   "id": "9b3227cc",
   "metadata": {},
   "outputs": [],
   "source": [
    "car=car1(2,150,4,7)"
   ]
  },
  {
   "cell_type": "code",
   "execution_count": 38,
   "id": "aa422388",
   "metadata": {},
   "outputs": [
    {
     "name": "stdout",
     "output_type": "stream",
     "text": [
      "I am a vehicle\n",
      "Mileage is  2\n",
      "cost is  150\n",
      "HP is  7\n"
     ]
    }
   ],
   "source": [
    "car.show_details()"
   ]
  },
  {
   "cell_type": "markdown",
   "id": "e95f4e4c",
   "metadata": {},
   "source": [
    "# Multiple inheritance"
   ]
  },
  {
   "cell_type": "code",
   "execution_count": 39,
   "id": "ae5ec37b",
   "metadata": {},
   "outputs": [],
   "source": [
    "class parent1:\n",
    "    def str1(self,str1):\n",
    "        self.str1=str1\n",
    "    def show_str1(self):\n",
    "        return self.str1"
   ]
  },
  {
   "cell_type": "code",
   "execution_count": 40,
   "id": "6cd1441b",
   "metadata": {},
   "outputs": [],
   "source": [
    "class parent2:\n",
    "    def str2(self,str2):\n",
    "        self.str2=str2\n",
    "    def show_str2(self):\n",
    "        return self.str2"
   ]
  },
  {
   "cell_type": "code",
   "execution_count": 41,
   "id": "c0b08f6b",
   "metadata": {},
   "outputs": [],
   "source": [
    "class child(parent1,parent2):\n",
    "    def str3(self,str3):\n",
    "        self.str3=str3\n",
    "        \n",
    "    def show_str3(self):\n",
    "        return self.str3"
   ]
  },
  {
   "cell_type": "code",
   "execution_count": 42,
   "id": "8547f9e8",
   "metadata": {},
   "outputs": [],
   "source": [
    "# create object\n",
    "\n",
    "ch= child()"
   ]
  },
  {
   "cell_type": "code",
   "execution_count": 43,
   "id": "5284b757",
   "metadata": {},
   "outputs": [],
   "source": [
    "ch.str1('Python')\n",
    "ch.str2('Java')\n",
    "ch.str3('SQL')"
   ]
  },
  {
   "cell_type": "code",
   "execution_count": 44,
   "id": "f204e469",
   "metadata": {},
   "outputs": [
    {
     "data": {
      "text/plain": [
       "'Python'"
      ]
     },
     "execution_count": 44,
     "metadata": {},
     "output_type": "execute_result"
    }
   ],
   "source": [
    "ch.show_str1()"
   ]
  },
  {
   "cell_type": "code",
   "execution_count": 45,
   "id": "56beaad3",
   "metadata": {},
   "outputs": [
    {
     "data": {
      "text/plain": [
       "'Java'"
      ]
     },
     "execution_count": 45,
     "metadata": {},
     "output_type": "execute_result"
    }
   ],
   "source": [
    "ch.show_str2()"
   ]
  },
  {
   "cell_type": "code",
   "execution_count": 46,
   "id": "831135c9",
   "metadata": {},
   "outputs": [
    {
     "data": {
      "text/plain": [
       "'SQL'"
      ]
     },
     "execution_count": 46,
     "metadata": {},
     "output_type": "execute_result"
    }
   ],
   "source": [
    "ch.show_str3()"
   ]
  },
  {
   "cell_type": "code",
   "execution_count": 78,
   "id": "314b7984",
   "metadata": {},
   "outputs": [],
   "source": [
    "# advance\n",
    "\n",
    "class base1: # parent class1\n",
    "    def __init__(self,mileage):\n",
    "        self.mileage=mileage\n",
    "        \n",
    "    def show_details(self):\n",
    "        print('I am a base1')\n",
    "        print('Mileage is ', self.mileage)\n",
    "        \n",
    "class base2: # parent class2\n",
    "    def __init__(self,cost):\n",
    "        self.cost=cost\n",
    "        \n",
    "    def show_details1(self):\n",
    "        print('I am a base2')\n",
    "        print('cost is ', self.cost)\n",
    "        \n",
    "class child3(base1,base2):\n",
    "    def __init__(self,mileage,cost,tyres,HP):\n",
    "        super().__init__(mileage)\n",
    "        self.tyres= tyres\n",
    "        self.HP=HP\n",
    "    \n",
    "    def show_cardetails(self):\n",
    "        print('I am a car')\n",
    "        print('No. of tyres is ', self.tyres)\n",
    "        print('HP is ', self.HP)\n"
   ]
  },
  {
   "cell_type": "code",
   "execution_count": 79,
   "id": "1fdf72aa",
   "metadata": {},
   "outputs": [],
   "source": [
    "child3 = child3(150,1500,4,150)"
   ]
  },
  {
   "cell_type": "code",
   "execution_count": 80,
   "id": "bb48315a",
   "metadata": {},
   "outputs": [
    {
     "data": {
      "text/plain": [
       "__main__.child"
      ]
     },
     "execution_count": 80,
     "metadata": {},
     "output_type": "execute_result"
    }
   ],
   "source": [
    "child"
   ]
  },
  {
   "cell_type": "code",
   "execution_count": 81,
   "id": "f5274dd9",
   "metadata": {},
   "outputs": [
    {
     "name": "stdout",
     "output_type": "stream",
     "text": [
      "I am a car\n",
      "No. of tyres is  4\n",
      "HP is  150\n"
     ]
    }
   ],
   "source": [
    "child3.show_cardetails() # invoke child class"
   ]
  },
  {
   "cell_type": "code",
   "execution_count": 71,
   "id": "16b862f5",
   "metadata": {},
   "outputs": [
    {
     "name": "stdout",
     "output_type": "stream",
     "text": [
      "I am a base1\n",
      "Mileage is  150\n"
     ]
    }
   ],
   "source": [
    "child3.show_details() # invoking parent class 1"
   ]
  },
  {
   "cell_type": "markdown",
   "id": "68cbd5b9",
   "metadata": {},
   "source": [
    "# Exception handeling"
   ]
  },
  {
   "cell_type": "code",
   "execution_count": 82,
   "id": "2ef773e2",
   "metadata": {},
   "outputs": [
    {
     "ename": "TypeError",
     "evalue": "unsupported operand type(s) for +: 'int' and 'str'",
     "output_type": "error",
     "traceback": [
      "\u001b[1;31m---------------------------------------------------------------------------\u001b[0m",
      "\u001b[1;31mTypeError\u001b[0m                                 Traceback (most recent call last)",
      "Input \u001b[1;32mIn [82]\u001b[0m, in \u001b[0;36m<cell line: 1>\u001b[1;34m()\u001b[0m\n\u001b[1;32m----> 1\u001b[0m \u001b[38;5;28mprint\u001b[39m(\u001b[38;5;241;43m5\u001b[39;49m\u001b[38;5;241;43m+\u001b[39;49m\u001b[43m \u001b[49m\u001b[38;5;124;43m'\u001b[39;49m\u001b[38;5;124;43myash\u001b[39;49m\u001b[38;5;124;43m'\u001b[39;49m)\n",
      "\u001b[1;31mTypeError\u001b[0m: unsupported operand type(s) for +: 'int' and 'str'"
     ]
    }
   ],
   "source": [
    "print(5+ 'yash')"
   ]
  },
  {
   "cell_type": "code",
   "execution_count": 83,
   "id": "0086e7f7",
   "metadata": {},
   "outputs": [
    {
     "name": "stdout",
     "output_type": "stream",
     "text": [
      "5yash\n"
     ]
    }
   ],
   "source": [
    "print('5'+ 'yash')"
   ]
  },
  {
   "cell_type": "markdown",
   "id": "45837b97",
   "metadata": {},
   "source": [
    "in python 3 types of error we have:\n",
    "    1) Syntax\n",
    "    2) Exception\n",
    "    3) User defined"
   ]
  },
  {
   "cell_type": "code",
   "execution_count": 84,
   "id": "0ffb5c5e",
   "metadata": {},
   "outputs": [
    {
     "name": "stdout",
     "output_type": "stream",
     "text": [
      "5.0\n"
     ]
    }
   ],
   "source": [
    "a= 10\n",
    "b= 2\n",
    "c = a/b\n",
    "print(c)"
   ]
  },
  {
   "cell_type": "code",
   "execution_count": 85,
   "id": "5d724157",
   "metadata": {},
   "outputs": [
    {
     "ename": "ZeroDivisionError",
     "evalue": "division by zero",
     "output_type": "error",
     "traceback": [
      "\u001b[1;31m---------------------------------------------------------------------------\u001b[0m",
      "\u001b[1;31mZeroDivisionError\u001b[0m                         Traceback (most recent call last)",
      "Input \u001b[1;32mIn [85]\u001b[0m, in \u001b[0;36m<cell line: 3>\u001b[1;34m()\u001b[0m\n\u001b[0;32m      1\u001b[0m a\u001b[38;5;241m=\u001b[39m \u001b[38;5;241m10\u001b[39m\n\u001b[0;32m      2\u001b[0m b\u001b[38;5;241m=\u001b[39m \u001b[38;5;241m0\u001b[39m\n\u001b[1;32m----> 3\u001b[0m c\u001b[38;5;241m=\u001b[39m \u001b[43ma\u001b[49m\u001b[38;5;241;43m/\u001b[39;49m\u001b[43mb\u001b[49m\n\u001b[0;32m      4\u001b[0m \u001b[38;5;28mprint\u001b[39m(c)\n",
      "\u001b[1;31mZeroDivisionError\u001b[0m: division by zero"
     ]
    }
   ],
   "source": [
    "a= 10\n",
    "b= 0\n",
    "c= a/b\n",
    "print(c)"
   ]
  },
  {
   "cell_type": "markdown",
   "id": "267f528d",
   "metadata": {},
   "source": [
    "# solution\n",
    "\n",
    "try: \n",
    "    the code which is written in try block can be occur error at runtime.\n",
    "    \n",
    "except:\n",
    "    if error occurs except program will run"
   ]
  },
  {
   "cell_type": "code",
   "execution_count": 86,
   "id": "079e8493",
   "metadata": {},
   "outputs": [
    {
     "name": "stdout",
     "output_type": "stream",
     "text": [
      "Enter a no. : 5\n",
      "Enter other no. 2\n",
      "answer :  2.5\n"
     ]
    }
   ],
   "source": [
    "try:\n",
    "    a=int(input('Enter a no. : '))\n",
    "    b=int(input('Enter other no. '))\n",
    "    c= a/b\n",
    "    print('answer : ',c)\n",
    "    \n",
    "except:\n",
    "    print('change the no.')"
   ]
  },
  {
   "cell_type": "code",
   "execution_count": 88,
   "id": "a2dee7cf",
   "metadata": {},
   "outputs": [
    {
     "name": "stdout",
     "output_type": "stream",
     "text": [
      "Enter a no. : 5\n",
      "Enter other no. one\n",
      "please enter value in intger form\n"
     ]
    }
   ],
   "source": [
    "try:\n",
    "    a=int(input('Enter a no. : '))\n",
    "    b=int(input('Enter other no. '))\n",
    "    c= a/b\n",
    "    print('answer : ',c)\n",
    "    \n",
    "except:\n",
    "    print('please enter value in intger form')"
   ]
  },
  {
   "cell_type": "code",
   "execution_count": 91,
   "id": "a0a238ed",
   "metadata": {},
   "outputs": [
    {
     "name": "stdout",
     "output_type": "stream",
     "text": [
      "Enter a no. : 5\n",
      "Enter other no. 0\n",
      "Caught error: division by zero\n"
     ]
    }
   ],
   "source": [
    "# show error\n",
    "\n",
    "try:\n",
    "    a=int(input('Enter a no. : '))\n",
    "    b=int(input('Enter other no. '))\n",
    "    c= a/b\n",
    "    print('answer : ',c)\n",
    "    \n",
    "except Exception as e:\n",
    "    print('Caught error:', e)"
   ]
  },
  {
   "cell_type": "code",
   "execution_count": 92,
   "id": "62471cea",
   "metadata": {},
   "outputs": [
    {
     "name": "stdout",
     "output_type": "stream",
     "text": [
      "Enter a no. : onr\n",
      "Caught error: invalid literal for int() with base 10: 'onr'\n"
     ]
    }
   ],
   "source": [
    "try:\n",
    "    a=int(input('Enter a no. : '))\n",
    "    b=int(input('Enter other no. '))\n",
    "    c= a/b\n",
    "    print('answer : ',c)\n",
    "    \n",
    "except Exception as e:\n",
    "    print('Caught error:', e)"
   ]
  },
  {
   "cell_type": "code",
   "execution_count": null,
   "id": "2b8c7a62",
   "metadata": {},
   "outputs": [],
   "source": []
  }
 ],
 "metadata": {
  "kernelspec": {
   "display_name": "Python 3 (ipykernel)",
   "language": "python",
   "name": "python3"
  },
  "language_info": {
   "codemirror_mode": {
    "name": "ipython",
    "version": 3
   },
   "file_extension": ".py",
   "mimetype": "text/x-python",
   "name": "python",
   "nbconvert_exporter": "python",
   "pygments_lexer": "ipython3",
   "version": "3.9.12"
  }
 },
 "nbformat": 4,
 "nbformat_minor": 5
}
