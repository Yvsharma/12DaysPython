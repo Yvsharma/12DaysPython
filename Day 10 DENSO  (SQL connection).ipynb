{
 "cells": [
  {
   "cell_type": "code",
   "execution_count": 1,
   "id": "970c597a",
   "metadata": {},
   "outputs": [
    {
     "name": "stdout",
     "output_type": "stream",
     "text": [
      "This is my file handeling program\n"
     ]
    }
   ],
   "source": [
    "# file read\n",
    "\n",
    "file1=open('demo1.txt','r')\n",
    "filecontent= file1.read()\n",
    "print(filecontent)"
   ]
  },
  {
   "cell_type": "code",
   "execution_count": 2,
   "id": "f704f1fb",
   "metadata": {},
   "outputs": [],
   "source": [
    "list1= ['1','2','python','java']"
   ]
  },
  {
   "cell_type": "code",
   "execution_count": 3,
   "id": "e3fb2dea",
   "metadata": {},
   "outputs": [
    {
     "data": {
      "text/plain": [
       "list"
      ]
     },
     "execution_count": 3,
     "metadata": {},
     "output_type": "execute_result"
    }
   ],
   "source": [
    "type(list1)"
   ]
  },
  {
   "cell_type": "code",
   "execution_count": 4,
   "id": "1bf50aba",
   "metadata": {},
   "outputs": [
    {
     "name": "stdout",
     "output_type": "stream",
     "text": [
      "file created\n"
     ]
    }
   ],
   "source": [
    "file=open('demo3.txt','w')\n",
    "file.writelines(list1)\n",
    "print('file created')\n",
    "file.close()"
   ]
  },
  {
   "cell_type": "code",
   "execution_count": 5,
   "id": "3cb00187",
   "metadata": {},
   "outputs": [
    {
     "name": "stdout",
     "output_type": "stream",
     "text": [
      "['12pythonjava']\n"
     ]
    }
   ],
   "source": [
    "file=open('demo3.txt','r')\n",
    "filelist=file.readlines()\n",
    "print(filelist)"
   ]
  },
  {
   "cell_type": "code",
   "execution_count": 6,
   "id": "a9aa3307",
   "metadata": {},
   "outputs": [
    {
     "name": "stdout",
     "output_type": "stream",
     "text": [
      "file created\n"
     ]
    }
   ],
   "source": [
    "list3=['1','2','5','8','9','4']\n",
    "file2=open('demo3.txt','a')\n",
    "file2.writelines(list3)\n",
    "print('file created')\n",
    "file.close()"
   ]
  },
  {
   "cell_type": "code",
   "execution_count": 7,
   "id": "799af03c",
   "metadata": {},
   "outputs": [
    {
     "name": "stdout",
     "output_type": "stream",
     "text": [
      "['12pythonjava']\n"
     ]
    }
   ],
   "source": [
    "file3=open('demo3.txt','r')\n",
    "filestr=file3.readlines()\n",
    "print(filestr)"
   ]
  },
  {
   "cell_type": "markdown",
   "id": "593c3ca8",
   "metadata": {},
   "source": [
    "# Regular expression"
   ]
  },
  {
   "cell_type": "markdown",
   "id": "45234cd9",
   "metadata": {},
   "source": [
    "RegX = regular exp"
   ]
  },
  {
   "cell_type": "markdown",
   "id": "086d5201",
   "metadata": {},
   "source": [
    "it is a sequence of characters that defines a search pattern."
   ]
  },
  {
   "cell_type": "markdown",
   "id": "f01c9138",
   "metadata": {},
   "source": [
    "types:\n",
    "    1) Match\n",
    "    \n",
    "    2) search\n",
    "    \n",
    "    3) replace"
   ]
  },
  {
   "cell_type": "markdown",
   "id": "90040810",
   "metadata": {},
   "source": [
    "# importing\n",
    "\n",
    "import module_name\n",
    "\n",
    "from module_name import function_name"
   ]
  },
  {
   "cell_type": "code",
   "execution_count": 8,
   "id": "962beabb",
   "metadata": {},
   "outputs": [
    {
     "name": "stdout",
     "output_type": "stream",
     "text": [
      "None\n"
     ]
    }
   ],
   "source": [
    "import re # re= regular exp.\n",
    "\n",
    "mystring='abcdef'\n",
    "\n",
    "# x= re.match('pattern',string_name)\n",
    "\n",
    "x= re.match('z',mystring)\n",
    "print(x)"
   ]
  },
  {
   "cell_type": "code",
   "execution_count": 9,
   "id": "fa925c0e",
   "metadata": {},
   "outputs": [
    {
     "name": "stdout",
     "output_type": "stream",
     "text": [
      "<re.Match object; span=(0, 1), match='a'>\n"
     ]
    }
   ],
   "source": [
    "import re # re= regular exp.\n",
    "\n",
    "mystring='abcdef'\n",
    "\n",
    "# x= re.match('pattern',string_name)\n",
    "\n",
    "x= re.match('a',mystring)\n",
    "print(x)"
   ]
  },
  {
   "cell_type": "code",
   "execution_count": 10,
   "id": "738697e7",
   "metadata": {},
   "outputs": [
    {
     "name": "stdout",
     "output_type": "stream",
     "text": [
      "<re.Match object; span=(0, 2), match='ab'>\n"
     ]
    }
   ],
   "source": [
    "import re # re= regular exp.\n",
    "\n",
    "mystring='abcdef'\n",
    "\n",
    "# x= re.match('pattern',string_name)\n",
    "\n",
    "x= re.match('ab',mystring)\n",
    "print(x)"
   ]
  },
  {
   "cell_type": "code",
   "execution_count": 11,
   "id": "75c82a76",
   "metadata": {},
   "outputs": [
    {
     "name": "stdout",
     "output_type": "stream",
     "text": [
      "<re.Match object; span=(12, 15), match='ing'>\n"
     ]
    }
   ],
   "source": [
    "txt = 'we are learning python'\n",
    "\n",
    "x= re.search('ing',txt)\n",
    "print(x)"
   ]
  },
  {
   "cell_type": "code",
   "execution_count": 12,
   "id": "d052e386",
   "metadata": {},
   "outputs": [
    {
     "name": "stdout",
     "output_type": "stream",
     "text": [
      "Wo Aro Loarning Python\n"
     ]
    }
   ],
   "source": [
    "# for replacing we use sub\n",
    "\n",
    "txt = 'We Are Learning Python'\n",
    "\n",
    "x= re.sub('e','o',txt)\n",
    "print(x)"
   ]
  },
  {
   "cell_type": "code",
   "execution_count": 13,
   "id": "d53145bf",
   "metadata": {},
   "outputs": [
    {
     "name": "stdout",
     "output_type": "stream",
     "text": [
      "Wa Aaa Laaaaaaa Paaaaa\n"
     ]
    }
   ],
   "source": [
    "txt = 'We Are Learning Python'\n",
    "\n",
    "x= re.sub(r\"[a-z]\",'a',txt)\n",
    "print(x)"
   ]
  },
  {
   "cell_type": "code",
   "execution_count": 14,
   "id": "005c8aaa",
   "metadata": {},
   "outputs": [
    {
     "name": "stdout",
     "output_type": "stream",
     "text": [
      "['W', ' Ar', ' L', 'arning Python']\n"
     ]
    }
   ],
   "source": [
    "txt = 'We Are Learning Python'\n",
    "\n",
    "x= re.split(\"e\",txt)\n",
    "print(x)"
   ]
  },
  {
   "cell_type": "code",
   "execution_count": 15,
   "id": "42dbf655",
   "metadata": {},
   "outputs": [],
   "source": [
    "# importing API mpdule\n",
    "\n",
    "import pymysql\n",
    "\n",
    "# host,database,user,password,port\n",
    "\n",
    "def createconn():\n",
    "    return pymysql.connect(host='localhost',database='MyDemo1',user='root',password='2580',port=3306)"
   ]
  },
  {
   "cell_type": "code",
   "execution_count": 16,
   "id": "0a5a5051",
   "metadata": {},
   "outputs": [],
   "source": [
    "# issuing SQl statements\n",
    "\n",
    "# creating cursor\n",
    "\n",
    "# cursor=conn.cursor() - to execute query\n",
    "# query=\"detailed query\" - for writing querry\n",
    "# cursor.execute(query) - perform operation\n",
    "\n",
    "# closing the connection\n",
    "\n",
    "# conn.commit() - save it in Data base\n",
    "# conn.close()= close the connection"
   ]
  },
  {
   "cell_type": "code",
   "execution_count": 17,
   "id": "4ba4ad33",
   "metadata": {},
   "outputs": [],
   "source": [
    "# create tabble\n",
    "\n",
    "def createtable():\n",
    "    conn=createconn()\n",
    "    cursor = conn.cursor()\n",
    "    query=\"create table employee(eid int,name varchar(50),email varchar(50),mobile int)\"\n",
    "    cursor.execute(query)\n",
    "    conn.commit()\n",
    "    print('table created')\n",
    "    conn.close()"
   ]
  },
  {
   "cell_type": "code",
   "execution_count": 18,
   "id": "1be69f1b",
   "metadata": {},
   "outputs": [
    {
     "ename": "OperationalError",
     "evalue": "(1050, \"Table 'employee' already exists\")",
     "output_type": "error",
     "traceback": [
      "\u001b[1;31m---------------------------------------------------------------------------\u001b[0m",
      "\u001b[1;31mOperationalError\u001b[0m                          Traceback (most recent call last)",
      "Input \u001b[1;32mIn [18]\u001b[0m, in \u001b[0;36m<cell line: 1>\u001b[1;34m()\u001b[0m\n\u001b[1;32m----> 1\u001b[0m \u001b[43mcreatetable\u001b[49m\u001b[43m(\u001b[49m\u001b[43m)\u001b[49m\n",
      "Input \u001b[1;32mIn [17]\u001b[0m, in \u001b[0;36mcreatetable\u001b[1;34m()\u001b[0m\n\u001b[0;32m      5\u001b[0m cursor \u001b[38;5;241m=\u001b[39m conn\u001b[38;5;241m.\u001b[39mcursor()\n\u001b[0;32m      6\u001b[0m query\u001b[38;5;241m=\u001b[39m\u001b[38;5;124m\"\u001b[39m\u001b[38;5;124mcreate table employee(eid int,name varchar(50),email varchar(50),mobile int)\u001b[39m\u001b[38;5;124m\"\u001b[39m\n\u001b[1;32m----> 7\u001b[0m \u001b[43mcursor\u001b[49m\u001b[38;5;241;43m.\u001b[39;49m\u001b[43mexecute\u001b[49m\u001b[43m(\u001b[49m\u001b[43mquery\u001b[49m\u001b[43m)\u001b[49m\n\u001b[0;32m      8\u001b[0m conn\u001b[38;5;241m.\u001b[39mcommit()\n\u001b[0;32m      9\u001b[0m \u001b[38;5;28mprint\u001b[39m(\u001b[38;5;124m'\u001b[39m\u001b[38;5;124mtable created\u001b[39m\u001b[38;5;124m'\u001b[39m)\n",
      "File \u001b[1;32mC:\\Intel\\New folder\\lib\\site-packages\\pymysql\\cursors.py:148\u001b[0m, in \u001b[0;36mCursor.execute\u001b[1;34m(self, query, args)\u001b[0m\n\u001b[0;32m    144\u001b[0m     \u001b[38;5;28;01mpass\u001b[39;00m\n\u001b[0;32m    146\u001b[0m query \u001b[38;5;241m=\u001b[39m \u001b[38;5;28mself\u001b[39m\u001b[38;5;241m.\u001b[39mmogrify(query, args)\n\u001b[1;32m--> 148\u001b[0m result \u001b[38;5;241m=\u001b[39m \u001b[38;5;28;43mself\u001b[39;49m\u001b[38;5;241;43m.\u001b[39;49m\u001b[43m_query\u001b[49m\u001b[43m(\u001b[49m\u001b[43mquery\u001b[49m\u001b[43m)\u001b[49m\n\u001b[0;32m    149\u001b[0m \u001b[38;5;28mself\u001b[39m\u001b[38;5;241m.\u001b[39m_executed \u001b[38;5;241m=\u001b[39m query\n\u001b[0;32m    150\u001b[0m \u001b[38;5;28;01mreturn\u001b[39;00m result\n",
      "File \u001b[1;32mC:\\Intel\\New folder\\lib\\site-packages\\pymysql\\cursors.py:310\u001b[0m, in \u001b[0;36mCursor._query\u001b[1;34m(self, q)\u001b[0m\n\u001b[0;32m    308\u001b[0m \u001b[38;5;28mself\u001b[39m\u001b[38;5;241m.\u001b[39m_last_executed \u001b[38;5;241m=\u001b[39m q\n\u001b[0;32m    309\u001b[0m \u001b[38;5;28mself\u001b[39m\u001b[38;5;241m.\u001b[39m_clear_result()\n\u001b[1;32m--> 310\u001b[0m \u001b[43mconn\u001b[49m\u001b[38;5;241;43m.\u001b[39;49m\u001b[43mquery\u001b[49m\u001b[43m(\u001b[49m\u001b[43mq\u001b[49m\u001b[43m)\u001b[49m\n\u001b[0;32m    311\u001b[0m \u001b[38;5;28mself\u001b[39m\u001b[38;5;241m.\u001b[39m_do_get_result()\n\u001b[0;32m    312\u001b[0m \u001b[38;5;28;01mreturn\u001b[39;00m \u001b[38;5;28mself\u001b[39m\u001b[38;5;241m.\u001b[39mrowcount\n",
      "File \u001b[1;32mC:\\Intel\\New folder\\lib\\site-packages\\pymysql\\connections.py:548\u001b[0m, in \u001b[0;36mConnection.query\u001b[1;34m(self, sql, unbuffered)\u001b[0m\n\u001b[0;32m    546\u001b[0m     sql \u001b[38;5;241m=\u001b[39m sql\u001b[38;5;241m.\u001b[39mencode(\u001b[38;5;28mself\u001b[39m\u001b[38;5;241m.\u001b[39mencoding, \u001b[38;5;124m\"\u001b[39m\u001b[38;5;124msurrogateescape\u001b[39m\u001b[38;5;124m\"\u001b[39m)\n\u001b[0;32m    547\u001b[0m \u001b[38;5;28mself\u001b[39m\u001b[38;5;241m.\u001b[39m_execute_command(COMMAND\u001b[38;5;241m.\u001b[39mCOM_QUERY, sql)\n\u001b[1;32m--> 548\u001b[0m \u001b[38;5;28mself\u001b[39m\u001b[38;5;241m.\u001b[39m_affected_rows \u001b[38;5;241m=\u001b[39m \u001b[38;5;28;43mself\u001b[39;49m\u001b[38;5;241;43m.\u001b[39;49m\u001b[43m_read_query_result\u001b[49m\u001b[43m(\u001b[49m\u001b[43munbuffered\u001b[49m\u001b[38;5;241;43m=\u001b[39;49m\u001b[43munbuffered\u001b[49m\u001b[43m)\u001b[49m\n\u001b[0;32m    549\u001b[0m \u001b[38;5;28;01mreturn\u001b[39;00m \u001b[38;5;28mself\u001b[39m\u001b[38;5;241m.\u001b[39m_affected_rows\n",
      "File \u001b[1;32mC:\\Intel\\New folder\\lib\\site-packages\\pymysql\\connections.py:775\u001b[0m, in \u001b[0;36mConnection._read_query_result\u001b[1;34m(self, unbuffered)\u001b[0m\n\u001b[0;32m    773\u001b[0m \u001b[38;5;28;01melse\u001b[39;00m:\n\u001b[0;32m    774\u001b[0m     result \u001b[38;5;241m=\u001b[39m MySQLResult(\u001b[38;5;28mself\u001b[39m)\n\u001b[1;32m--> 775\u001b[0m     \u001b[43mresult\u001b[49m\u001b[38;5;241;43m.\u001b[39;49m\u001b[43mread\u001b[49m\u001b[43m(\u001b[49m\u001b[43m)\u001b[49m\n\u001b[0;32m    776\u001b[0m \u001b[38;5;28mself\u001b[39m\u001b[38;5;241m.\u001b[39m_result \u001b[38;5;241m=\u001b[39m result\n\u001b[0;32m    777\u001b[0m \u001b[38;5;28;01mif\u001b[39;00m result\u001b[38;5;241m.\u001b[39mserver_status \u001b[38;5;129;01mis\u001b[39;00m \u001b[38;5;129;01mnot\u001b[39;00m \u001b[38;5;28;01mNone\u001b[39;00m:\n",
      "File \u001b[1;32mC:\\Intel\\New folder\\lib\\site-packages\\pymysql\\connections.py:1156\u001b[0m, in \u001b[0;36mMySQLResult.read\u001b[1;34m(self)\u001b[0m\n\u001b[0;32m   1154\u001b[0m \u001b[38;5;28;01mdef\u001b[39;00m \u001b[38;5;21mread\u001b[39m(\u001b[38;5;28mself\u001b[39m):\n\u001b[0;32m   1155\u001b[0m     \u001b[38;5;28;01mtry\u001b[39;00m:\n\u001b[1;32m-> 1156\u001b[0m         first_packet \u001b[38;5;241m=\u001b[39m \u001b[38;5;28;43mself\u001b[39;49m\u001b[38;5;241;43m.\u001b[39;49m\u001b[43mconnection\u001b[49m\u001b[38;5;241;43m.\u001b[39;49m\u001b[43m_read_packet\u001b[49m\u001b[43m(\u001b[49m\u001b[43m)\u001b[49m\n\u001b[0;32m   1158\u001b[0m         \u001b[38;5;28;01mif\u001b[39;00m first_packet\u001b[38;5;241m.\u001b[39mis_ok_packet():\n\u001b[0;32m   1159\u001b[0m             \u001b[38;5;28mself\u001b[39m\u001b[38;5;241m.\u001b[39m_read_ok_packet(first_packet)\n",
      "File \u001b[1;32mC:\\Intel\\New folder\\lib\\site-packages\\pymysql\\connections.py:725\u001b[0m, in \u001b[0;36mConnection._read_packet\u001b[1;34m(self, packet_type)\u001b[0m\n\u001b[0;32m    723\u001b[0m     \u001b[38;5;28;01mif\u001b[39;00m \u001b[38;5;28mself\u001b[39m\u001b[38;5;241m.\u001b[39m_result \u001b[38;5;129;01mis\u001b[39;00m \u001b[38;5;129;01mnot\u001b[39;00m \u001b[38;5;28;01mNone\u001b[39;00m \u001b[38;5;129;01mand\u001b[39;00m \u001b[38;5;28mself\u001b[39m\u001b[38;5;241m.\u001b[39m_result\u001b[38;5;241m.\u001b[39munbuffered_active \u001b[38;5;129;01mis\u001b[39;00m \u001b[38;5;28;01mTrue\u001b[39;00m:\n\u001b[0;32m    724\u001b[0m         \u001b[38;5;28mself\u001b[39m\u001b[38;5;241m.\u001b[39m_result\u001b[38;5;241m.\u001b[39munbuffered_active \u001b[38;5;241m=\u001b[39m \u001b[38;5;28;01mFalse\u001b[39;00m\n\u001b[1;32m--> 725\u001b[0m     \u001b[43mpacket\u001b[49m\u001b[38;5;241;43m.\u001b[39;49m\u001b[43mraise_for_error\u001b[49m\u001b[43m(\u001b[49m\u001b[43m)\u001b[49m\n\u001b[0;32m    726\u001b[0m \u001b[38;5;28;01mreturn\u001b[39;00m packet\n",
      "File \u001b[1;32mC:\\Intel\\New folder\\lib\\site-packages\\pymysql\\protocol.py:221\u001b[0m, in \u001b[0;36mMysqlPacket.raise_for_error\u001b[1;34m(self)\u001b[0m\n\u001b[0;32m    219\u001b[0m \u001b[38;5;28;01mif\u001b[39;00m DEBUG:\n\u001b[0;32m    220\u001b[0m     \u001b[38;5;28mprint\u001b[39m(\u001b[38;5;124m\"\u001b[39m\u001b[38;5;124merrno =\u001b[39m\u001b[38;5;124m\"\u001b[39m, errno)\n\u001b[1;32m--> 221\u001b[0m \u001b[43merr\u001b[49m\u001b[38;5;241;43m.\u001b[39;49m\u001b[43mraise_mysql_exception\u001b[49m\u001b[43m(\u001b[49m\u001b[38;5;28;43mself\u001b[39;49m\u001b[38;5;241;43m.\u001b[39;49m\u001b[43m_data\u001b[49m\u001b[43m)\u001b[49m\n",
      "File \u001b[1;32mC:\\Intel\\New folder\\lib\\site-packages\\pymysql\\err.py:143\u001b[0m, in \u001b[0;36mraise_mysql_exception\u001b[1;34m(data)\u001b[0m\n\u001b[0;32m    141\u001b[0m \u001b[38;5;28;01mif\u001b[39;00m errorclass \u001b[38;5;129;01mis\u001b[39;00m \u001b[38;5;28;01mNone\u001b[39;00m:\n\u001b[0;32m    142\u001b[0m     errorclass \u001b[38;5;241m=\u001b[39m InternalError \u001b[38;5;28;01mif\u001b[39;00m errno \u001b[38;5;241m<\u001b[39m \u001b[38;5;241m1000\u001b[39m \u001b[38;5;28;01melse\u001b[39;00m OperationalError\n\u001b[1;32m--> 143\u001b[0m \u001b[38;5;28;01mraise\u001b[39;00m errorclass(errno, errval)\n",
      "\u001b[1;31mOperationalError\u001b[0m: (1050, \"Table 'employee' already exists\")"
     ]
    }
   ],
   "source": [
    "createtable()"
   ]
  },
  {
   "cell_type": "code",
   "execution_count": 19,
   "id": "217bc51d",
   "metadata": {},
   "outputs": [],
   "source": [
    "# inserting data into table\n",
    "\n",
    "def insertdata(eid,name,email,mobile):\n",
    "    conn=createconn()\n",
    "    cursor = conn.cursor()\n",
    "    arg=(eid,name,email,mobile)\n",
    "    query='insert into employee(eid,name,email,mobile) values(%s,%s,%s,%s) '\n",
    "    cursor.execute(query,arg)\n",
    "    conn.commit()\n",
    "    print('data created')\n",
    "    conn.close()"
   ]
  },
  {
   "cell_type": "code",
   "execution_count": 20,
   "id": "035eca90",
   "metadata": {},
   "outputs": [
    {
     "name": "stdout",
     "output_type": "stream",
     "text": [
      "Enter your ID: 3\n",
      "Enter your name: sonu\n",
      "Enter your email id: ss@gmail\n",
      "Enter your mobile no. : 4554\n",
      "data created\n"
     ]
    }
   ],
   "source": [
    "e= input('Enter your ID: ')\n",
    "n= input('Enter your name: ')\n",
    "em=input('Enter your email id: ')\n",
    "m=input('Enter your mobile no. : ')\n",
    "\n",
    "insertdata(e,n,em,m)"
   ]
  },
  {
   "cell_type": "code",
   "execution_count": 21,
   "id": "fcbf5ccb",
   "metadata": {},
   "outputs": [],
   "source": [
    "# fetch all data \n",
    "\n",
    "def showalldata():\n",
    "    conn=createconn()\n",
    "    cursor = conn.cursor()\n",
    "    \n",
    "    query='select * from employee '\n",
    "    cursor.execute(query)\n",
    "    result=cursor.fetchall()\n",
    "    for i in result:\n",
    "        print(i)\n",
    "    print('all data fetched')\n",
    "    \n",
    "    "
   ]
  },
  {
   "cell_type": "code",
   "execution_count": 22,
   "id": "1edf4f79",
   "metadata": {},
   "outputs": [
    {
     "name": "stdout",
     "output_type": "stream",
     "text": [
      "(1, 'yash', 's@gmail', 1234)\n",
      "(2, 'harsh', 'h@gmail.com', 1126)\n",
      "(3, 'sonu', 'ss@gmail', 4554)\n",
      "all data fetched\n"
     ]
    }
   ],
   "source": [
    "showalldata()"
   ]
  },
  {
   "cell_type": "code",
   "execution_count": null,
   "id": "c1c8f175",
   "metadata": {},
   "outputs": [],
   "source": [
    "# fetch data by employee id\n",
    "\n",
    "eid= int(input(\"Enter your ID : \"))\n",
    "\n",
    "showalldata()"
   ]
  },
  {
   "cell_type": "code",
   "execution_count": 24,
   "id": "a20d7eb5",
   "metadata": {},
   "outputs": [],
   "source": [
    "def showalldatabyID(eid):\n",
    "    conn=createconn()\n",
    "    cursor = conn.cursor()\n",
    "    arg=(eid)\n",
    "    query='select * from employee where eid=%s'\n",
    "    cursor.execute(query,arg)\n",
    "    result=cursor.fetchall()\n",
    "    for i in result:\n",
    "        print(i)\n",
    "    print('data by id fetched')\n",
    "    "
   ]
  },
  {
   "cell_type": "code",
   "execution_count": 26,
   "id": "b36bf441",
   "metadata": {},
   "outputs": [
    {
     "name": "stdout",
     "output_type": "stream",
     "text": [
      "Enter your ID : 3\n",
      "(3, 'sonu', 'ss@gmail', 4554)\n",
      "data by id fetched\n"
     ]
    }
   ],
   "source": [
    "# fetch data by employee id\n",
    "\n",
    "eid= int(input(\"Enter your ID : \"))\n",
    "\n",
    "showalldatabyID(eid)"
   ]
  },
  {
   "cell_type": "code",
   "execution_count": 35,
   "id": "f765af04",
   "metadata": {},
   "outputs": [],
   "source": [
    "# updating data\n",
    "\n",
    "def updatingdata(name,email,mobile,eid):\n",
    "    conn=createconn()\n",
    "    cursor = conn.cursor()\n",
    "    arg=(name,email,mobile,eid)\n",
    "    query='update employee set name=%s,email=%s,mobile=%s where eid=%s'\n",
    "    cursor.execute(query,arg)\n",
    "    conn.commit()\n",
    "    print('data updated')\n",
    "    conn.close()"
   ]
  },
  {
   "cell_type": "code",
   "execution_count": 36,
   "id": "59824106",
   "metadata": {},
   "outputs": [
    {
     "name": "stdout",
     "output_type": "stream",
     "text": [
      "Enter your ID: 1\n",
      "Enter your name: y\n",
      "Enter your email id: s\n",
      "Enter your mobile no. : 123\n",
      "data updated\n"
     ]
    }
   ],
   "source": [
    "e= input('Enter your ID: ')\n",
    "n= input('Enter your name: ')\n",
    "em=input('Enter your email id: ')\n",
    "m=input('Enter your mobile no. : ')\n",
    "\n",
    "updatingdata(n,em,m,e)"
   ]
  },
  {
   "cell_type": "code",
   "execution_count": 32,
   "id": "734530a0",
   "metadata": {},
   "outputs": [],
   "source": [
    "def updatingdata1(eid,name,email,mobile):\n",
    "    conn=createconn()\n",
    "    cursor = conn.cursor()\n",
    "    arg=(eid,name,email,mobile)\n",
    "    query='update employee set name=%s,email=%s,mobile=%s where eid=%s'\n",
    "    cursor.execute(query,arg)\n",
    "    conn.commit()\n",
    "    print('data updated')\n",
    "    conn.close()"
   ]
  },
  {
   "cell_type": "code",
   "execution_count": 34,
   "id": "4bcfc271",
   "metadata": {},
   "outputs": [
    {
     "name": "stdout",
     "output_type": "stream",
     "text": [
      "Enter your ID: 1\n",
      "Enter your name: y\n",
      "Enter your email id: s\n",
      "Enter your mobile no. : 12\n",
      "data updated\n"
     ]
    }
   ],
   "source": [
    "e= input('Enter your ID: ')\n",
    "n= input('Enter your name: ')\n",
    "em=input('Enter your email id: ')\n",
    "m=input('Enter your mobile no. : ')\n",
    "\n",
    "updatingdata1(e,n,em,m)"
   ]
  },
  {
   "cell_type": "code",
   "execution_count": 43,
   "id": "532ec1f5",
   "metadata": {},
   "outputs": [],
   "source": [
    "def updatingdata3(eid,name,email,mobile):\n",
    "    conn=createconn()\n",
    "    cursor = conn.cursor()\n",
    "    arg=(eid,name,email,mobile)\n",
    "    query='update employee set eid=%s,name=%s,email=%s where mobile=%s'\n",
    "    cursor.execute(query,arg)\n",
    "    conn.commit()\n",
    "    print('data updated')\n",
    "    conn.close()"
   ]
  },
  {
   "cell_type": "code",
   "execution_count": 44,
   "id": "7b409643",
   "metadata": {},
   "outputs": [
    {
     "name": "stdout",
     "output_type": "stream",
     "text": [
      "Enter your ID: 1\n",
      "Enter your name: asd\n",
      "Enter your email id: asd\n",
      "Enter your mobile no. : 123\n",
      "data updated\n"
     ]
    }
   ],
   "source": [
    "e= input('Enter your ID: ')\n",
    "n= input('Enter your name: ')\n",
    "em=input('Enter your email id: ')\n",
    "m=int(input('Enter your mobile no. : '))\n",
    "\n",
    "updatingdata3(e,n,em,m)\n"
   ]
  },
  {
   "cell_type": "code",
   "execution_count": 48,
   "id": "ddb202ac",
   "metadata": {},
   "outputs": [],
   "source": [
    "# delete data from data base\n",
    "\n",
    "def deletedata(eid):\n",
    "    conn=createconn()\n",
    "    cursor = conn.cursor()\n",
    "    arg=(eid)\n",
    "    query='delete from employee where eid=%s'\n",
    "    cursor.execute(query,arg)\n",
    "    conn.commit()\n",
    "    print('data deleted')\n",
    "    conn.close()"
   ]
  },
  {
   "cell_type": "code",
   "execution_count": 49,
   "id": "4adea90b",
   "metadata": {},
   "outputs": [
    {
     "name": "stdout",
     "output_type": "stream",
     "text": [
      "(1, 'asd', 'asd', 123)\n",
      "(2, 'harsh', 'h@gmail.com', 1126)\n",
      "(3, 'mukesh', 'muk@gmail', 55665566)\n",
      "all data fetched\n"
     ]
    }
   ],
   "source": [
    "showalldata()"
   ]
  },
  {
   "cell_type": "code",
   "execution_count": 50,
   "id": "79280f8e",
   "metadata": {},
   "outputs": [
    {
     "name": "stdout",
     "output_type": "stream",
     "text": [
      "Enter ID to delete data: 1\n",
      "data deleted\n"
     ]
    }
   ],
   "source": [
    "eid=int(input('Enter ID to delete data: '))\n",
    "\n",
    "deletedata(eid)"
   ]
  },
  {
   "cell_type": "code",
   "execution_count": 51,
   "id": "da878487",
   "metadata": {},
   "outputs": [
    {
     "name": "stdout",
     "output_type": "stream",
     "text": [
      "(2, 'harsh', 'h@gmail.com', 1126)\n",
      "(3, 'mukesh', 'muk@gmail', 55665566)\n",
      "all data fetched\n"
     ]
    }
   ],
   "source": [
    "showalldata()"
   ]
  },
  {
   "cell_type": "code",
   "execution_count": null,
   "id": "7c003057",
   "metadata": {},
   "outputs": [],
   "source": []
  }
 ],
 "metadata": {
  "kernelspec": {
   "display_name": "Python 3 (ipykernel)",
   "language": "python",
   "name": "python3"
  },
  "language_info": {
   "codemirror_mode": {
    "name": "ipython",
    "version": 3
   },
   "file_extension": ".py",
   "mimetype": "text/x-python",
   "name": "python",
   "nbconvert_exporter": "python",
   "pygments_lexer": "ipython3",
   "version": "3.9.12"
  }
 },
 "nbformat": 4,
 "nbformat_minor": 5
}
